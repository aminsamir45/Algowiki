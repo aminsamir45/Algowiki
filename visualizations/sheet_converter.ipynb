{
 "cells": [
  {
   "cell_type": "code",
   "execution_count": 1,
   "metadata": {},
   "outputs": [],
   "source": [
    "# Extract the document ID from the URL - middle id\n",
    "import pandas as pd\n",
    "import requests\n",
    "\n",
    "document_id = \"1c6HTfHQfp7MIg1LFo6_wFOzKLIHA1rzVpDxXIPosRQ0\"\n",
    "\n",
    "def sheet_to_df(sheet_id, document_id = \"1c6HTfHQfp7MIg1LFo6_wFOzKLIHA1rzVpDxXIPosRQ0\"):\n",
    "\n",
    "\n",
    "    # CSV download link\n",
    "    csv_url = f\"https://docs.google.com/spreadsheets/d/{document_id}/export?format=csv&gid={sheet_id}\"\n",
    "\n",
    "    # Download the CSV file\n",
    "    response = requests.get(csv_url)\n",
    "    csv_data = response.content\n",
    "\n",
    "    # Save the CSV data to a file\n",
    "    csv_file = \"ROI simplified visualizations.csv\"\n",
    "    with open(csv_file, \"wb\") as file:\n",
    "        file.write(csv_data)\n",
    "\n",
    "    # Read the CSV file into a DataFrame using pandas\n",
    "    df = pd.read_csv(csv_file)\n",
    "    \n",
    "    return df\n"
   ]
  }
 ],
 "metadata": {
  "kernelspec": {
   "display_name": "Python 3",
   "language": "python",
   "name": "python3"
  },
  "language_info": {
   "codemirror_mode": {
    "name": "ipython",
    "version": 3
   },
   "file_extension": ".py",
   "mimetype": "text/x-python",
   "name": "python",
   "nbconvert_exporter": "python",
   "pygments_lexer": "ipython3",
   "version": "3.10.7"
  },
  "orig_nbformat": 4
 },
 "nbformat": 4,
 "nbformat_minor": 2
}
