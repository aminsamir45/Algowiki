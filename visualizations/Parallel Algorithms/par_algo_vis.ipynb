{
 "cells": [
  {
   "cell_type": "code",
   "execution_count": 14,
   "metadata": {},
   "outputs": [],
   "source": [
    "import pandas as pd\n",
    "import sys\n",
    "\n",
    "import plotly.graph_objects as go\n",
    "import numpy as np\n",
    "import math"
   ]
  },
  {
   "cell_type": "code",
   "execution_count": 15,
   "metadata": {},
   "outputs": [
    {
     "data": {
      "text/html": [
       "<div>\n",
       "<style scoped>\n",
       "    .dataframe tbody tr th:only-of-type {\n",
       "        vertical-align: middle;\n",
       "    }\n",
       "\n",
       "    .dataframe tbody tr th {\n",
       "        vertical-align: top;\n",
       "    }\n",
       "\n",
       "    .dataframe thead th {\n",
       "        text-align: right;\n",
       "    }\n",
       "</style>\n",
       "<table border=\"1\" class=\"dataframe\">\n",
       "  <thead>\n",
       "    <tr style=\"text-align: right;\">\n",
       "      <th></th>\n",
       "      <th></th>\n",
       "      <th>Family Name</th>\n",
       "      <th>Looked at?</th>\n",
       "      <th>Variation</th>\n",
       "      <th>Algo ID</th>\n",
       "      <th>Algorithm Description</th>\n",
       "      <th>Final Call</th>\n",
       "      <th>Exact Problem Statement?</th>\n",
       "      <th>Exact?</th>\n",
       "      <th>Time Complexity (Average)</th>\n",
       "      <th>...</th>\n",
       "      <th>n = 10^6 value</th>\n",
       "      <th>n = 10^6 scale</th>\n",
       "      <th>n = 10^6 Rate</th>\n",
       "      <th>n = 10^9 value</th>\n",
       "      <th>n = 10^9 scale</th>\n",
       "      <th>n = 10^9 Rate</th>\n",
       "      <th>Starting Complexity</th>\n",
       "      <th>Remarks</th>\n",
       "      <th>Papers for ratio evaluations</th>\n",
       "      <th>Domains</th>\n",
       "    </tr>\n",
       "  </thead>\n",
       "  <tbody>\n",
       "    <tr>\n",
       "      <th>0</th>\n",
       "      <td>1.0</td>\n",
       "      <td>Sorting</td>\n",
       "      <td>1.000</td>\n",
       "      <td>Comparison Sorting</td>\n",
       "      <td>17.0</td>\n",
       "      <td>NaN</td>\n",
       "      <td>NaN</td>\n",
       "      <td>1.0</td>\n",
       "      <td>1.0</td>\n",
       "      <td>O(log²n)</td>\n",
       "      <td>...</td>\n",
       "      <td>NaN</td>\n",
       "      <td>NaN</td>\n",
       "      <td>NaN</td>\n",
       "      <td>NaN</td>\n",
       "      <td>NaN</td>\n",
       "      <td>NaN</td>\n",
       "      <td>4.0</td>\n",
       "      <td>NaN</td>\n",
       "      <td>NaN</td>\n",
       "      <td>Combinatorics</td>\n",
       "    </tr>\n",
       "    <tr>\n",
       "      <th>1</th>\n",
       "      <td>1.0</td>\n",
       "      <td>Sorting</td>\n",
       "      <td>0.001</td>\n",
       "      <td>NaN</td>\n",
       "      <td>NaN</td>\n",
       "      <td>NaN</td>\n",
       "      <td>NaN</td>\n",
       "      <td>NaN</td>\n",
       "      <td>NaN</td>\n",
       "      <td>NaN</td>\n",
       "      <td>...</td>\n",
       "      <td>NaN</td>\n",
       "      <td>NaN</td>\n",
       "      <td>NaN</td>\n",
       "      <td>NaN</td>\n",
       "      <td>NaN</td>\n",
       "      <td>NaN</td>\n",
       "      <td>4.0</td>\n",
       "      <td>NaN</td>\n",
       "      <td>NaN</td>\n",
       "      <td>Combinatorics</td>\n",
       "    </tr>\n",
       "    <tr>\n",
       "      <th>2</th>\n",
       "      <td>1.0</td>\n",
       "      <td>Sorting</td>\n",
       "      <td>0.000</td>\n",
       "      <td>NaN</td>\n",
       "      <td>NaN</td>\n",
       "      <td>NaN</td>\n",
       "      <td>NaN</td>\n",
       "      <td>NaN</td>\n",
       "      <td>NaN</td>\n",
       "      <td>NaN</td>\n",
       "      <td>...</td>\n",
       "      <td>NaN</td>\n",
       "      <td>NaN</td>\n",
       "      <td>NaN</td>\n",
       "      <td>NaN</td>\n",
       "      <td>NaN</td>\n",
       "      <td>NaN</td>\n",
       "      <td>4.0</td>\n",
       "      <td>NaN</td>\n",
       "      <td>NaN</td>\n",
       "      <td>Combinatorics</td>\n",
       "    </tr>\n",
       "    <tr>\n",
       "      <th>3</th>\n",
       "      <td>1.0</td>\n",
       "      <td>Sorting</td>\n",
       "      <td>0.000</td>\n",
       "      <td>NaN</td>\n",
       "      <td>NaN</td>\n",
       "      <td>Bitonic merge-exchange</td>\n",
       "      <td>NaN</td>\n",
       "      <td>NaN</td>\n",
       "      <td>NaN</td>\n",
       "      <td>NaN</td>\n",
       "      <td>...</td>\n",
       "      <td>NaN</td>\n",
       "      <td>NaN</td>\n",
       "      <td>NaN</td>\n",
       "      <td>NaN</td>\n",
       "      <td>NaN</td>\n",
       "      <td>NaN</td>\n",
       "      <td>4.0</td>\n",
       "      <td>NaN</td>\n",
       "      <td>NaN</td>\n",
       "      <td>Combinatorics</td>\n",
       "    </tr>\n",
       "    <tr>\n",
       "      <th>4</th>\n",
       "      <td>1.0</td>\n",
       "      <td>Sorting</td>\n",
       "      <td>0.001</td>\n",
       "      <td>NaN</td>\n",
       "      <td>NaN</td>\n",
       "      <td>network sorting algo, perfect shuffle</td>\n",
       "      <td>NaN</td>\n",
       "      <td>NaN</td>\n",
       "      <td>NaN</td>\n",
       "      <td>NaN</td>\n",
       "      <td>...</td>\n",
       "      <td>NaN</td>\n",
       "      <td>NaN</td>\n",
       "      <td>NaN</td>\n",
       "      <td>NaN</td>\n",
       "      <td>NaN</td>\n",
       "      <td>NaN</td>\n",
       "      <td>NaN</td>\n",
       "      <td>NaN</td>\n",
       "      <td>NaN</td>\n",
       "      <td>NaN</td>\n",
       "    </tr>\n",
       "    <tr>\n",
       "      <th>...</th>\n",
       "      <td>...</td>\n",
       "      <td>...</td>\n",
       "      <td>...</td>\n",
       "      <td>...</td>\n",
       "      <td>...</td>\n",
       "      <td>...</td>\n",
       "      <td>...</td>\n",
       "      <td>...</td>\n",
       "      <td>...</td>\n",
       "      <td>...</td>\n",
       "      <td>...</td>\n",
       "      <td>...</td>\n",
       "      <td>...</td>\n",
       "      <td>...</td>\n",
       "      <td>...</td>\n",
       "      <td>...</td>\n",
       "      <td>...</td>\n",
       "      <td>...</td>\n",
       "      <td>...</td>\n",
       "      <td>...</td>\n",
       "      <td>...</td>\n",
       "    </tr>\n",
       "    <tr>\n",
       "      <th>146</th>\n",
       "      <td>NaN</td>\n",
       "      <td>All-Pairs Shortest Paths (APSP)</td>\n",
       "      <td>0.000</td>\n",
       "      <td>NaN</td>\n",
       "      <td>NaN</td>\n",
       "      <td>Warshall-Floyd method</td>\n",
       "      <td>NaN</td>\n",
       "      <td>NaN</td>\n",
       "      <td>NaN</td>\n",
       "      <td>NaN</td>\n",
       "      <td>...</td>\n",
       "      <td>NaN</td>\n",
       "      <td>NaN</td>\n",
       "      <td>NaN</td>\n",
       "      <td>NaN</td>\n",
       "      <td>NaN</td>\n",
       "      <td>NaN</td>\n",
       "      <td>NaN</td>\n",
       "      <td>NaN</td>\n",
       "      <td>NaN</td>\n",
       "      <td>NaN</td>\n",
       "    </tr>\n",
       "    <tr>\n",
       "      <th>147</th>\n",
       "      <td>NaN</td>\n",
       "      <td>All-Pairs Shortest Paths (APSP)</td>\n",
       "      <td>1.000</td>\n",
       "      <td>NaN</td>\n",
       "      <td>NaN</td>\n",
       "      <td>Repeated plus-min method</td>\n",
       "      <td>NaN</td>\n",
       "      <td>NaN</td>\n",
       "      <td>NaN</td>\n",
       "      <td>NaN</td>\n",
       "      <td>...</td>\n",
       "      <td>NaN</td>\n",
       "      <td>NaN</td>\n",
       "      <td>NaN</td>\n",
       "      <td>NaN</td>\n",
       "      <td>NaN</td>\n",
       "      <td>NaN</td>\n",
       "      <td>NaN</td>\n",
       "      <td>NaN</td>\n",
       "      <td>NaN</td>\n",
       "      <td>NaN</td>\n",
       "    </tr>\n",
       "    <tr>\n",
       "      <th>148</th>\n",
       "      <td>NaN</td>\n",
       "      <td>All-Pairs Shortest Paths (APSP)</td>\n",
       "      <td>1.000</td>\n",
       "      <td>NaN</td>\n",
       "      <td>NaN</td>\n",
       "      <td>Repeated plus-min method</td>\n",
       "      <td>NaN</td>\n",
       "      <td>NaN</td>\n",
       "      <td>NaN</td>\n",
       "      <td>NaN</td>\n",
       "      <td>...</td>\n",
       "      <td>NaN</td>\n",
       "      <td>NaN</td>\n",
       "      <td>NaN</td>\n",
       "      <td>NaN</td>\n",
       "      <td>NaN</td>\n",
       "      <td>NaN</td>\n",
       "      <td>NaN</td>\n",
       "      <td>NaN</td>\n",
       "      <td>NaN</td>\n",
       "      <td>NaN</td>\n",
       "    </tr>\n",
       "    <tr>\n",
       "      <th>149</th>\n",
       "      <td>NaN</td>\n",
       "      <td>Matrix Product</td>\n",
       "      <td>0.000</td>\n",
       "      <td>NaN</td>\n",
       "      <td>NaN</td>\n",
       "      <td>NaN</td>\n",
       "      <td>NaN</td>\n",
       "      <td>NaN</td>\n",
       "      <td>NaN</td>\n",
       "      <td>NaN</td>\n",
       "      <td>...</td>\n",
       "      <td>NaN</td>\n",
       "      <td>NaN</td>\n",
       "      <td>NaN</td>\n",
       "      <td>NaN</td>\n",
       "      <td>NaN</td>\n",
       "      <td>NaN</td>\n",
       "      <td>NaN</td>\n",
       "      <td>NaN</td>\n",
       "      <td>NaN</td>\n",
       "      <td>NaN</td>\n",
       "    </tr>\n",
       "    <tr>\n",
       "      <th>150</th>\n",
       "      <td>NaN</td>\n",
       "      <td>Matrix Product</td>\n",
       "      <td>0.000</td>\n",
       "      <td>NaN</td>\n",
       "      <td>NaN</td>\n",
       "      <td>Strassen</td>\n",
       "      <td>NaN</td>\n",
       "      <td>NaN</td>\n",
       "      <td>NaN</td>\n",
       "      <td>NaN</td>\n",
       "      <td>...</td>\n",
       "      <td>NaN</td>\n",
       "      <td>NaN</td>\n",
       "      <td>NaN</td>\n",
       "      <td>NaN</td>\n",
       "      <td>NaN</td>\n",
       "      <td>NaN</td>\n",
       "      <td>NaN</td>\n",
       "      <td>NaN</td>\n",
       "      <td>NaN</td>\n",
       "      <td>NaN</td>\n",
       "    </tr>\n",
       "  </tbody>\n",
       "</table>\n",
       "<p>151 rows × 75 columns</p>\n",
       "</div>"
      ],
      "text/plain": [
       "                              Family Name  Looked at?           Variation  \\\n",
       "0    1.0                          Sorting       1.000  Comparison Sorting   \n",
       "1    1.0                          Sorting       0.001                 NaN   \n",
       "2    1.0                          Sorting       0.000                 NaN   \n",
       "3    1.0                          Sorting       0.000                 NaN   \n",
       "4    1.0                          Sorting       0.001                 NaN   \n",
       "..   ...                              ...         ...                 ...   \n",
       "146  NaN  All-Pairs Shortest Paths (APSP)       0.000                 NaN   \n",
       "147  NaN  All-Pairs Shortest Paths (APSP)       1.000                 NaN   \n",
       "148  NaN  All-Pairs Shortest Paths (APSP)       1.000                 NaN   \n",
       "149  NaN                   Matrix Product       0.000                 NaN   \n",
       "150  NaN                   Matrix Product       0.000                 NaN   \n",
       "\n",
       "     Algo ID                  Algorithm Description  Final Call  \\\n",
       "0       17.0                                    NaN         NaN   \n",
       "1        NaN                                    NaN         NaN   \n",
       "2        NaN                                    NaN         NaN   \n",
       "3        NaN                 Bitonic merge-exchange         NaN   \n",
       "4        NaN  network sorting algo, perfect shuffle         NaN   \n",
       "..       ...                                    ...         ...   \n",
       "146      NaN                  Warshall-Floyd method         NaN   \n",
       "147      NaN               Repeated plus-min method         NaN   \n",
       "148      NaN               Repeated plus-min method         NaN   \n",
       "149      NaN                                    NaN         NaN   \n",
       "150      NaN                               Strassen         NaN   \n",
       "\n",
       "     Exact Problem Statement?  Exact? Time Complexity (Average)  ...  \\\n",
       "0                         1.0     1.0                  O(log²n)  ...   \n",
       "1                         NaN     NaN                       NaN  ...   \n",
       "2                         NaN     NaN                       NaN  ...   \n",
       "3                         NaN     NaN                       NaN  ...   \n",
       "4                         NaN     NaN                       NaN  ...   \n",
       "..                        ...     ...                       ...  ...   \n",
       "146                       NaN     NaN                       NaN  ...   \n",
       "147                       NaN     NaN                       NaN  ...   \n",
       "148                       NaN     NaN                       NaN  ...   \n",
       "149                       NaN     NaN                       NaN  ...   \n",
       "150                       NaN     NaN                       NaN  ...   \n",
       "\n",
       "    n = 10^6 value n = 10^6 scale n = 10^6 Rate n = 10^9 value  \\\n",
       "0              NaN            NaN           NaN            NaN   \n",
       "1              NaN            NaN           NaN            NaN   \n",
       "2              NaN            NaN           NaN            NaN   \n",
       "3              NaN            NaN           NaN            NaN   \n",
       "4              NaN            NaN           NaN            NaN   \n",
       "..             ...            ...           ...            ...   \n",
       "146            NaN            NaN           NaN            NaN   \n",
       "147            NaN            NaN           NaN            NaN   \n",
       "148            NaN            NaN           NaN            NaN   \n",
       "149            NaN            NaN           NaN            NaN   \n",
       "150            NaN            NaN           NaN            NaN   \n",
       "\n",
       "     n = 10^9 scale n = 10^9 Rate Starting Complexity  Remarks  \\\n",
       "0               NaN           NaN                 4.0      NaN   \n",
       "1               NaN           NaN                 4.0      NaN   \n",
       "2               NaN           NaN                 4.0      NaN   \n",
       "3               NaN           NaN                 4.0      NaN   \n",
       "4               NaN           NaN                 NaN      NaN   \n",
       "..              ...           ...                 ...      ...   \n",
       "146             NaN           NaN                 NaN      NaN   \n",
       "147             NaN           NaN                 NaN      NaN   \n",
       "148             NaN           NaN                 NaN      NaN   \n",
       "149             NaN           NaN                 NaN      NaN   \n",
       "150             NaN           NaN                 NaN      NaN   \n",
       "\n",
       "    Papers for ratio evaluations        Domains  \n",
       "0                            NaN  Combinatorics  \n",
       "1                            NaN  Combinatorics  \n",
       "2                            NaN  Combinatorics  \n",
       "3                            NaN  Combinatorics  \n",
       "4                            NaN            NaN  \n",
       "..                           ...            ...  \n",
       "146                          NaN            NaN  \n",
       "147                          NaN            NaN  \n",
       "148                          NaN            NaN  \n",
       "149                          NaN            NaN  \n",
       "150                          NaN            NaN  \n",
       "\n",
       "[151 rows x 75 columns]"
      ]
     },
     "execution_count": 15,
     "metadata": {},
     "output_type": "execute_result"
    }
   ],
   "source": [
    "# Go into above directory and download function\n",
    "sys.path.append('../') \n",
    "import sheet_func\n",
    "\n",
    "sheet_id = 867359064\n",
    "name = \"par_algo\"\n",
    "\n",
    "df = sheet_func.sheet_to_df(sheet_id, name)\n",
    "df"
   ]
  },
  {
   "cell_type": "code",
   "execution_count": 16,
   "metadata": {},
   "outputs": [
    {
     "name": "stdout",
     "output_type": "stream",
     "text": [
      "<class 'pandas.core.frame.DataFrame'>\n",
      "RangeIndex: 151 entries, 0 to 150\n",
      "Data columns (total 75 columns):\n",
      " #   Column                                                                     Non-Null Count  Dtype  \n",
      "---  ------                                                                     --------------  -----  \n",
      " 0                                                                              143 non-null    float64\n",
      " 1   Family Name                                                                151 non-null    object \n",
      " 2   Looked at?                                                                 151 non-null    float64\n",
      " 3   Variation                                                                  69 non-null     object \n",
      " 4   Algo ID                                                                    41 non-null     float64\n",
      " 5   Algorithm Description                                                      43 non-null     object \n",
      " 6   Final Call                                                                 1 non-null      float64\n",
      " 7   Exact Problem Statement?                                                   54 non-null     float64\n",
      " 8   Exact?                                                                     54 non-null     float64\n",
      " 9   Time Complexity (Average)                                                  54 non-null     object \n",
      " 10  Average Case Distribution                                                  14 non-null     object \n",
      " 11  Reference?                                                                 13 non-null     object \n",
      " 12  Unnamed: 12                                                                66 non-null     object \n",
      " 13  Algorithm Name                                                             151 non-null    object \n",
      " 14  Year                                                                       151 non-null    int64  \n",
      " 15  Paper/Reference Link                                                       150 non-null    object \n",
      " 16  Constants                                                                  4 non-null      object \n",
      " 17  Derived?                                                                   0 non-null      float64\n",
      " 18  Paper Reference for Constants                                              4 non-null      object \n",
      " 19  Time Complexity Improvement?                                               44 non-null     float64\n",
      " 20  Transition Class                                                           47 non-null     object \n",
      " 21  Time Complexity Class                                                      43 non-null     object \n",
      " 22  Param: Time Class                                                          39 non-null     object \n",
      " 23  Time Complexity (Worst Only)                                               109 non-null    object \n",
      " 24  Parallel Algorithm Span                                                    67 non-null     object \n",
      " 25  Parallel Algorithm Span References                                         52 non-null     object \n",
      " 26  Parallel Algorithm Work                                                    64 non-null     object \n",
      " 27  Parallel Algorithm Work References                                         52 non-null     object \n",
      " 28  Reference mentions work efficiency?                                        50 non-null     object \n",
      " 29  Parameter definitions                                                      92 non-null     object \n",
      " 30  Preferred Parameter                                                        42 non-null     object \n",
      " 31  Time Complexity Reference                                                  7 non-null      object \n",
      " 32  Derived Time Complexity?                                                   2 non-null      float64\n",
      " 33  Computational Model                                                        105 non-null    object \n",
      " 34  Unit of Space                                                              50 non-null     object \n",
      " 35  Space Complexity Class                                                     47 non-null     object \n",
      " 36  Param: Space Class                                                         44 non-null     object \n",
      " 37  Space Complexity (Auxiliary)                                               44 non-null     object \n",
      " 38  Space Complexity Reference                                                 38 non-null     object \n",
      " 39  Derived Space Complexity?                                                  38 non-null     float64\n",
      " 40  Space Complexity in Original Paper?                                        38 non-null     float64\n",
      " 41  Interesting Space Complexity?                                              0 non-null      float64\n",
      " 42  Randomized?                                                                73 non-null     float64\n",
      " 43  Type of Randomized Algorithm (e.g. Las Vegas, Monte Carlo, Atlantic City)  2 non-null      object \n",
      " 44  Approximate?                                                               72 non-null     float64\n",
      " 45  Approximation Factor (if approximate algorithm)                            5 non-null      object \n",
      " 46  Heuristic-based?                                                           72 non-null     float64\n",
      " 47  Parallel?                                                                  110 non-null    float64\n",
      " 48  # of\n",
      "Processors                                                            95 non-null     object \n",
      " 49  Quantum?                                                                   72 non-null     float64\n",
      " 50  GPU-based?                                                                 65 non-null     float64\n",
      " 51  Other References                                                           54 non-null     object \n",
      " 52  Problem Statement                                                          40 non-null     object \n",
      " 53  Algorithm family\n",
      "parameters                                                4 non-null      float64\n",
      " 54  Description of Inputs                                                      4 non-null      object \n",
      " 55  Ratios of input parameter sizes                                            9 non-null      object \n",
      " 56  Space n = 1000 value                                                       0 non-null      float64\n",
      " 57  Space n = 1000 rate                                                        0 non-null      float64\n",
      " 58  Space n = 10^6 value                                                       0 non-null      float64\n",
      " 59  Space n = 10^6 rate                                                        0 non-null      float64\n",
      " 60  Space n = 10^9 value                                                       0 non-null      float64\n",
      " 61  Space n = 10^9 rate                                                        0 non-null      float64\n",
      " 62  n = 1000 value                                                             34 non-null     float64\n",
      " 63  n = 1000 scale                                                             22 non-null     float64\n",
      " 64  n = 1000 Rate                                                              0 non-null      float64\n",
      " 65  n = 10^6 value                                                             2 non-null      float64\n",
      " 66  n = 10^6 scale                                                             2 non-null      float64\n",
      " 67  n = 10^6 Rate                                                              0 non-null      float64\n",
      " 68  n = 10^9 value                                                             2 non-null      float64\n",
      " 69  n = 10^9 scale                                                             2 non-null      float64\n",
      " 70  n = 10^9 Rate                                                              0 non-null      float64\n",
      " 71  Starting Complexity                                                        47 non-null     float64\n",
      " 72  Remarks                                                                    0 non-null      float64\n",
      " 73  Papers for ratio evaluations                                               0 non-null      float64\n",
      " 74  Domains                                                                    54 non-null     object \n",
      "dtypes: float64(37), int64(1), object(37)\n",
      "memory usage: 88.6+ KB\n"
     ]
    }
   ],
   "source": [
    "df.info()"
   ]
  },
  {
   "cell_type": "code",
   "execution_count": 17,
   "metadata": {},
   "outputs": [
    {
     "data": {
      "text/plain": [
       "Index([' ', 'Family Name', 'Looked at?', 'Variation', 'Algo ID',\n",
       "       'Algorithm Description', 'Final Call', 'Exact Problem Statement?',\n",
       "       'Exact?', 'Time Complexity (Average)', 'Average Case Distribution',\n",
       "       'Reference?', 'Unnamed: 12', 'Algorithm Name', 'Year',\n",
       "       'Paper/Reference Link', 'Constants', 'Derived?',\n",
       "       'Paper Reference for Constants', 'Time Complexity Improvement?',\n",
       "       'Transition Class', 'Time Complexity Class', 'Param: Time Class',\n",
       "       'Time Complexity (Worst Only)', 'Parallel Algorithm Span',\n",
       "       'Parallel Algorithm Span References', 'Parallel Algorithm Work',\n",
       "       'Parallel Algorithm Work References',\n",
       "       'Reference mentions work efficiency?', 'Parameter definitions',\n",
       "       'Preferred Parameter', 'Time Complexity Reference',\n",
       "       'Derived Time Complexity?', 'Computational Model', 'Unit of Space',\n",
       "       'Space Complexity Class', 'Param: Space Class',\n",
       "       'Space Complexity (Auxiliary)', 'Space Complexity Reference',\n",
       "       'Derived Space Complexity?', 'Space Complexity in Original Paper?',\n",
       "       'Interesting Space Complexity?', 'Randomized?',\n",
       "       'Type of Randomized Algorithm (e.g. Las Vegas, Monte Carlo, Atlantic City)',\n",
       "       'Approximate?', 'Approximation Factor (if approximate algorithm)',\n",
       "       'Heuristic-based?', 'Parallel?', '# of\\nProcessors', 'Quantum?',\n",
       "       'GPU-based?', 'Other References', 'Problem Statement',\n",
       "       'Algorithm family\\nparameters', 'Description of Inputs',\n",
       "       'Ratios of input parameter sizes', 'Space n = 1000 value',\n",
       "       'Space n = 1000 rate', 'Space n = 10^6 value', 'Space n = 10^6 rate',\n",
       "       'Space n = 10^9 value', 'Space n = 10^9 rate', 'n = 1000 value',\n",
       "       'n = 1000 scale', 'n = 1000 Rate', 'n = 10^6 value', 'n = 10^6 scale',\n",
       "       'n = 10^6 Rate', 'n = 10^9 value', 'n = 10^9 scale', 'n = 10^9 Rate',\n",
       "       'Starting Complexity', 'Remarks', 'Papers for ratio evaluations',\n",
       "       'Domains'],\n",
       "      dtype='object')"
      ]
     },
     "execution_count": 17,
     "metadata": {},
     "output_type": "execute_result"
    }
   ],
   "source": [
    "df.columns"
   ]
  },
  {
   "cell_type": "code",
   "execution_count": 18,
   "metadata": {},
   "outputs": [],
   "source": [
    "# Remove unnecesary columns from the table to make the df more usable\n",
    "columns_dropped = [' ','Reference?', 'Paper/Reference Link', 'Paper Reference for Constants',\n",
    "        'Looked at?',   'Parallel Algorithm Span References', \n",
    "       'Parallel Algorithm Work References','Reference mentions work efficiency?',\n",
    "       'Space Complexity Reference', 'Other References',\n",
    "       'Algorithm family\\nparameters', 'Description of Inputs',\n",
    "       'Ratios of input parameter sizes', 'Space n = 1000 value',\n",
    "       'Space n = 1000 rate', 'Space n = 10^6 value', 'Space n = 10^6 rate',\n",
    "       'Space n = 10^9 value', 'Space n = 10^9 rate', 'n = 1000 value',\n",
    "       'n = 1000 scale', 'n = 1000 Rate', 'n = 10^6 value', 'n = 10^6 scale',\n",
    "       'n = 10^6 Rate', 'n = 10^9 value', 'n = 10^9 scale', 'n = 10^9 Rate',\n",
    "       'Starting Complexity', 'Remarks', 'Papers for ratio evaluations',\n",
    "       'Domains', 'Final Call']\n",
    "df = df.drop(columns=columns_dropped, axis=1)"
   ]
  },
  {
   "attachments": {},
   "cell_type": "markdown",
   "metadata": {},
   "source": [
    "### What should we do with this data? How should we visualize it?\n",
    "Here are some ideas:\n",
    "- Start out by graphing any one particular algorithms complexity compared to others\n",
    "- Sort out decrease in algorithmic complexity over time by family\n"
   ]
  },
  {
   "attachments": {},
   "cell_type": "markdown",
   "metadata": {},
   "source": [
    "1. Create separate DF's for each family name"
   ]
  },
  {
   "cell_type": "code",
   "execution_count": 19,
   "metadata": {},
   "outputs": [],
   "source": [
    "# Identify all unique family names\n",
    "unique_families = df['Family Name'].unique()\n",
    "\n",
    "# Create a dictionary to store the grouped data frames\n",
    "grouped_dfs = {}\n",
    "\n",
    "# Add family names into a dictionary with the data. Sort by year.\n",
    "for family in unique_families:\n",
    "    grouped_df = df[df['Family Name'] == family].copy()\n",
    "    grouped_dfs[family] = grouped_df.sort_values('Year')    # key:familyname val:data"
   ]
  },
  {
   "cell_type": "code",
   "execution_count": 20,
   "metadata": {},
   "outputs": [],
   "source": [
    "# Remove rows with missing values\n",
    "# grouped_dfs['Sorting'][''].dropna(axis=0, inplace=True)\n",
    "# grouped_dfs['Sorting']['Year']"
   ]
  },
  {
   "attachments": {},
   "cell_type": "markdown",
   "metadata": {},
   "source": [
    "2. Create a function that will convert a given time complexity into a numerical ranking from 1 to n where n is the number of unique time complexities"
   ]
  },
  {
   "cell_type": "code",
   "execution_count": 21,
   "metadata": {},
   "outputs": [],
   "source": [
    "complexity_rankings = {\n",
    "        'O(1)': 1,\n",
    "        'O(log²n)':2,\n",
    "        'O(logn)': 3,\n",
    "        'O(n)': 4,\n",
    "        'O(nlogn)': 5,\n",
    "        'O(n²)': 6,\n",
    "        'O(2^n)': 7,\n",
    "        'O(n!)': 8,\n",
    "    }\n",
    "\n",
    "def create_complexity_rank(df, complexity_column):\n",
    "    # Map complexities to their ranks and handle NaN values\n",
    "    df['complexity rank'] = df[complexity_column].map(complexity_rankings).fillna('Undefined')\n",
    "    return df"
   ]
  },
  {
   "cell_type": "code",
   "execution_count": 22,
   "metadata": {},
   "outputs": [],
   "source": [
    "# Run the 'Time Complexity (Average)' column through the function\n",
    "grouped_dfs['Sorting'] = create_complexity_rank(grouped_dfs['Sorting'], 'Time Complexity (Average)')\n",
    "# grouped_dfs['Sorting']"
   ]
  },
  {
   "attachments": {},
   "cell_type": "markdown",
   "metadata": {},
   "source": [
    "3. Plot a histogram of the complexity rank vs the year "
   ]
  },
  {
   "cell_type": "code",
   "execution_count": 23,
   "metadata": {},
   "outputs": [],
   "source": [
    "# Filter out rows with 'Undefined' complexity rank\n",
    "filtered_sorting = grouped_dfs['Sorting'].loc[grouped_dfs['Sorting']['complexity rank'] != 'Undefined', ['Year', 'complexity rank']]"
   ]
  },
  {
   "cell_type": "code",
   "execution_count": 24,
   "metadata": {},
   "outputs": [
    {
     "data": {
      "application/vnd.plotly.v1+json": {
       "config": {
        "plotlyServerURL": "https://plot.ly"
       },
       "data": [
        {
         "marker": {
          "color": [
           2,
           6,
           4,
           3,
           5
          ],
          "colorscale": [
           [
            0,
            "rgb(75, 41, 145)"
           ],
           [
            0.16666666666666666,
            "rgb(135, 44, 162)"
           ],
           [
            0.3333333333333333,
            "rgb(192, 54, 157)"
           ],
           [
            0.5,
            "rgb(234, 79, 136)"
           ],
           [
            0.6666666666666666,
            "rgb(250, 120, 118)"
           ],
           [
            0.8333333333333334,
            "rgb(246, 169, 122)"
           ],
           [
            1,
            "rgb(237, 217, 163)"
           ]
          ]
         },
         "type": "bar",
         "x": [
          1968,
          1972,
          1984,
          1988,
          1992
         ],
         "y": [
          2,
          6,
          4,
          3,
          5
         ]
        }
       ],
       "layout": {
        "template": {
         "data": {
          "bar": [
           {
            "error_x": {
             "color": "#2a3f5f"
            },
            "error_y": {
             "color": "#2a3f5f"
            },
            "marker": {
             "line": {
              "color": "#E5ECF6",
              "width": 0.5
             },
             "pattern": {
              "fillmode": "overlay",
              "size": 10,
              "solidity": 0.2
             }
            },
            "type": "bar"
           }
          ],
          "barpolar": [
           {
            "marker": {
             "line": {
              "color": "#E5ECF6",
              "width": 0.5
             },
             "pattern": {
              "fillmode": "overlay",
              "size": 10,
              "solidity": 0.2
             }
            },
            "type": "barpolar"
           }
          ],
          "carpet": [
           {
            "aaxis": {
             "endlinecolor": "#2a3f5f",
             "gridcolor": "white",
             "linecolor": "white",
             "minorgridcolor": "white",
             "startlinecolor": "#2a3f5f"
            },
            "baxis": {
             "endlinecolor": "#2a3f5f",
             "gridcolor": "white",
             "linecolor": "white",
             "minorgridcolor": "white",
             "startlinecolor": "#2a3f5f"
            },
            "type": "carpet"
           }
          ],
          "choropleth": [
           {
            "colorbar": {
             "outlinewidth": 0,
             "ticks": ""
            },
            "type": "choropleth"
           }
          ],
          "contour": [
           {
            "colorbar": {
             "outlinewidth": 0,
             "ticks": ""
            },
            "colorscale": [
             [
              0,
              "#0d0887"
             ],
             [
              0.1111111111111111,
              "#46039f"
             ],
             [
              0.2222222222222222,
              "#7201a8"
             ],
             [
              0.3333333333333333,
              "#9c179e"
             ],
             [
              0.4444444444444444,
              "#bd3786"
             ],
             [
              0.5555555555555556,
              "#d8576b"
             ],
             [
              0.6666666666666666,
              "#ed7953"
             ],
             [
              0.7777777777777778,
              "#fb9f3a"
             ],
             [
              0.8888888888888888,
              "#fdca26"
             ],
             [
              1,
              "#f0f921"
             ]
            ],
            "type": "contour"
           }
          ],
          "contourcarpet": [
           {
            "colorbar": {
             "outlinewidth": 0,
             "ticks": ""
            },
            "type": "contourcarpet"
           }
          ],
          "heatmap": [
           {
            "colorbar": {
             "outlinewidth": 0,
             "ticks": ""
            },
            "colorscale": [
             [
              0,
              "#0d0887"
             ],
             [
              0.1111111111111111,
              "#46039f"
             ],
             [
              0.2222222222222222,
              "#7201a8"
             ],
             [
              0.3333333333333333,
              "#9c179e"
             ],
             [
              0.4444444444444444,
              "#bd3786"
             ],
             [
              0.5555555555555556,
              "#d8576b"
             ],
             [
              0.6666666666666666,
              "#ed7953"
             ],
             [
              0.7777777777777778,
              "#fb9f3a"
             ],
             [
              0.8888888888888888,
              "#fdca26"
             ],
             [
              1,
              "#f0f921"
             ]
            ],
            "type": "heatmap"
           }
          ],
          "heatmapgl": [
           {
            "colorbar": {
             "outlinewidth": 0,
             "ticks": ""
            },
            "colorscale": [
             [
              0,
              "#0d0887"
             ],
             [
              0.1111111111111111,
              "#46039f"
             ],
             [
              0.2222222222222222,
              "#7201a8"
             ],
             [
              0.3333333333333333,
              "#9c179e"
             ],
             [
              0.4444444444444444,
              "#bd3786"
             ],
             [
              0.5555555555555556,
              "#d8576b"
             ],
             [
              0.6666666666666666,
              "#ed7953"
             ],
             [
              0.7777777777777778,
              "#fb9f3a"
             ],
             [
              0.8888888888888888,
              "#fdca26"
             ],
             [
              1,
              "#f0f921"
             ]
            ],
            "type": "heatmapgl"
           }
          ],
          "histogram": [
           {
            "marker": {
             "pattern": {
              "fillmode": "overlay",
              "size": 10,
              "solidity": 0.2
             }
            },
            "type": "histogram"
           }
          ],
          "histogram2d": [
           {
            "colorbar": {
             "outlinewidth": 0,
             "ticks": ""
            },
            "colorscale": [
             [
              0,
              "#0d0887"
             ],
             [
              0.1111111111111111,
              "#46039f"
             ],
             [
              0.2222222222222222,
              "#7201a8"
             ],
             [
              0.3333333333333333,
              "#9c179e"
             ],
             [
              0.4444444444444444,
              "#bd3786"
             ],
             [
              0.5555555555555556,
              "#d8576b"
             ],
             [
              0.6666666666666666,
              "#ed7953"
             ],
             [
              0.7777777777777778,
              "#fb9f3a"
             ],
             [
              0.8888888888888888,
              "#fdca26"
             ],
             [
              1,
              "#f0f921"
             ]
            ],
            "type": "histogram2d"
           }
          ],
          "histogram2dcontour": [
           {
            "colorbar": {
             "outlinewidth": 0,
             "ticks": ""
            },
            "colorscale": [
             [
              0,
              "#0d0887"
             ],
             [
              0.1111111111111111,
              "#46039f"
             ],
             [
              0.2222222222222222,
              "#7201a8"
             ],
             [
              0.3333333333333333,
              "#9c179e"
             ],
             [
              0.4444444444444444,
              "#bd3786"
             ],
             [
              0.5555555555555556,
              "#d8576b"
             ],
             [
              0.6666666666666666,
              "#ed7953"
             ],
             [
              0.7777777777777778,
              "#fb9f3a"
             ],
             [
              0.8888888888888888,
              "#fdca26"
             ],
             [
              1,
              "#f0f921"
             ]
            ],
            "type": "histogram2dcontour"
           }
          ],
          "mesh3d": [
           {
            "colorbar": {
             "outlinewidth": 0,
             "ticks": ""
            },
            "type": "mesh3d"
           }
          ],
          "parcoords": [
           {
            "line": {
             "colorbar": {
              "outlinewidth": 0,
              "ticks": ""
             }
            },
            "type": "parcoords"
           }
          ],
          "pie": [
           {
            "automargin": true,
            "type": "pie"
           }
          ],
          "scatter": [
           {
            "fillpattern": {
             "fillmode": "overlay",
             "size": 10,
             "solidity": 0.2
            },
            "type": "scatter"
           }
          ],
          "scatter3d": [
           {
            "line": {
             "colorbar": {
              "outlinewidth": 0,
              "ticks": ""
             }
            },
            "marker": {
             "colorbar": {
              "outlinewidth": 0,
              "ticks": ""
             }
            },
            "type": "scatter3d"
           }
          ],
          "scattercarpet": [
           {
            "marker": {
             "colorbar": {
              "outlinewidth": 0,
              "ticks": ""
             }
            },
            "type": "scattercarpet"
           }
          ],
          "scattergeo": [
           {
            "marker": {
             "colorbar": {
              "outlinewidth": 0,
              "ticks": ""
             }
            },
            "type": "scattergeo"
           }
          ],
          "scattergl": [
           {
            "marker": {
             "colorbar": {
              "outlinewidth": 0,
              "ticks": ""
             }
            },
            "type": "scattergl"
           }
          ],
          "scattermapbox": [
           {
            "marker": {
             "colorbar": {
              "outlinewidth": 0,
              "ticks": ""
             }
            },
            "type": "scattermapbox"
           }
          ],
          "scatterpolar": [
           {
            "marker": {
             "colorbar": {
              "outlinewidth": 0,
              "ticks": ""
             }
            },
            "type": "scatterpolar"
           }
          ],
          "scatterpolargl": [
           {
            "marker": {
             "colorbar": {
              "outlinewidth": 0,
              "ticks": ""
             }
            },
            "type": "scatterpolargl"
           }
          ],
          "scatterternary": [
           {
            "marker": {
             "colorbar": {
              "outlinewidth": 0,
              "ticks": ""
             }
            },
            "type": "scatterternary"
           }
          ],
          "surface": [
           {
            "colorbar": {
             "outlinewidth": 0,
             "ticks": ""
            },
            "colorscale": [
             [
              0,
              "#0d0887"
             ],
             [
              0.1111111111111111,
              "#46039f"
             ],
             [
              0.2222222222222222,
              "#7201a8"
             ],
             [
              0.3333333333333333,
              "#9c179e"
             ],
             [
              0.4444444444444444,
              "#bd3786"
             ],
             [
              0.5555555555555556,
              "#d8576b"
             ],
             [
              0.6666666666666666,
              "#ed7953"
             ],
             [
              0.7777777777777778,
              "#fb9f3a"
             ],
             [
              0.8888888888888888,
              "#fdca26"
             ],
             [
              1,
              "#f0f921"
             ]
            ],
            "type": "surface"
           }
          ],
          "table": [
           {
            "cells": {
             "fill": {
              "color": "#EBF0F8"
             },
             "line": {
              "color": "white"
             }
            },
            "header": {
             "fill": {
              "color": "#C8D4E3"
             },
             "line": {
              "color": "white"
             }
            },
            "type": "table"
           }
          ]
         },
         "layout": {
          "annotationdefaults": {
           "arrowcolor": "#2a3f5f",
           "arrowhead": 0,
           "arrowwidth": 1
          },
          "autotypenumbers": "strict",
          "coloraxis": {
           "colorbar": {
            "outlinewidth": 0,
            "ticks": ""
           }
          },
          "colorscale": {
           "diverging": [
            [
             0,
             "#8e0152"
            ],
            [
             0.1,
             "#c51b7d"
            ],
            [
             0.2,
             "#de77ae"
            ],
            [
             0.3,
             "#f1b6da"
            ],
            [
             0.4,
             "#fde0ef"
            ],
            [
             0.5,
             "#f7f7f7"
            ],
            [
             0.6,
             "#e6f5d0"
            ],
            [
             0.7,
             "#b8e186"
            ],
            [
             0.8,
             "#7fbc41"
            ],
            [
             0.9,
             "#4d9221"
            ],
            [
             1,
             "#276419"
            ]
           ],
           "sequential": [
            [
             0,
             "#0d0887"
            ],
            [
             0.1111111111111111,
             "#46039f"
            ],
            [
             0.2222222222222222,
             "#7201a8"
            ],
            [
             0.3333333333333333,
             "#9c179e"
            ],
            [
             0.4444444444444444,
             "#bd3786"
            ],
            [
             0.5555555555555556,
             "#d8576b"
            ],
            [
             0.6666666666666666,
             "#ed7953"
            ],
            [
             0.7777777777777778,
             "#fb9f3a"
            ],
            [
             0.8888888888888888,
             "#fdca26"
            ],
            [
             1,
             "#f0f921"
            ]
           ],
           "sequentialminus": [
            [
             0,
             "#0d0887"
            ],
            [
             0.1111111111111111,
             "#46039f"
            ],
            [
             0.2222222222222222,
             "#7201a8"
            ],
            [
             0.3333333333333333,
             "#9c179e"
            ],
            [
             0.4444444444444444,
             "#bd3786"
            ],
            [
             0.5555555555555556,
             "#d8576b"
            ],
            [
             0.6666666666666666,
             "#ed7953"
            ],
            [
             0.7777777777777778,
             "#fb9f3a"
            ],
            [
             0.8888888888888888,
             "#fdca26"
            ],
            [
             1,
             "#f0f921"
            ]
           ]
          },
          "colorway": [
           "#636efa",
           "#EF553B",
           "#00cc96",
           "#ab63fa",
           "#FFA15A",
           "#19d3f3",
           "#FF6692",
           "#B6E880",
           "#FF97FF",
           "#FECB52"
          ],
          "font": {
           "color": "#2a3f5f"
          },
          "geo": {
           "bgcolor": "white",
           "lakecolor": "white",
           "landcolor": "#E5ECF6",
           "showlakes": true,
           "showland": true,
           "subunitcolor": "white"
          },
          "hoverlabel": {
           "align": "left"
          },
          "hovermode": "closest",
          "mapbox": {
           "style": "light"
          },
          "paper_bgcolor": "white",
          "plot_bgcolor": "#E5ECF6",
          "polar": {
           "angularaxis": {
            "gridcolor": "white",
            "linecolor": "white",
            "ticks": ""
           },
           "bgcolor": "#E5ECF6",
           "radialaxis": {
            "gridcolor": "white",
            "linecolor": "white",
            "ticks": ""
           }
          },
          "scene": {
           "xaxis": {
            "backgroundcolor": "#E5ECF6",
            "gridcolor": "white",
            "gridwidth": 2,
            "linecolor": "white",
            "showbackground": true,
            "ticks": "",
            "zerolinecolor": "white"
           },
           "yaxis": {
            "backgroundcolor": "#E5ECF6",
            "gridcolor": "white",
            "gridwidth": 2,
            "linecolor": "white",
            "showbackground": true,
            "ticks": "",
            "zerolinecolor": "white"
           },
           "zaxis": {
            "backgroundcolor": "#E5ECF6",
            "gridcolor": "white",
            "gridwidth": 2,
            "linecolor": "white",
            "showbackground": true,
            "ticks": "",
            "zerolinecolor": "white"
           }
          },
          "shapedefaults": {
           "line": {
            "color": "#2a3f5f"
           }
          },
          "ternary": {
           "aaxis": {
            "gridcolor": "white",
            "linecolor": "white",
            "ticks": ""
           },
           "baxis": {
            "gridcolor": "white",
            "linecolor": "white",
            "ticks": ""
           },
           "bgcolor": "#E5ECF6",
           "caxis": {
            "gridcolor": "white",
            "linecolor": "white",
            "ticks": ""
           }
          },
          "title": {
           "x": 0.05
          },
          "xaxis": {
           "automargin": true,
           "gridcolor": "white",
           "linecolor": "white",
           "ticks": "",
           "title": {
            "standoff": 15
           },
           "zerolinecolor": "white",
           "zerolinewidth": 2
          },
          "yaxis": {
           "automargin": true,
           "gridcolor": "white",
           "linecolor": "white",
           "ticks": "",
           "title": {
            "standoff": 15
           },
           "zerolinecolor": "white",
           "zerolinewidth": 2
          }
         }
        },
        "title": {
         "text": "Complexity Rank Distribution"
        },
        "xaxis": {
         "title": {
          "text": "Year"
         }
        },
        "yaxis": {
         "title": {
          "text": "Complexity Rank"
         }
        }
       }
      }
     },
     "metadata": {},
     "output_type": "display_data"
    }
   ],
   "source": [
    "# Create a bar chart\n",
    "fig = go.Figure(data=go.Bar(\n",
    "    x=filtered_sorting['Year'],\n",
    "    y=filtered_sorting['complexity rank'],\n",
    "    marker=dict(\n",
    "        color=filtered_sorting['complexity rank'],\n",
    "        colorscale='agsunset'\n",
    "        \n",
    "    )\n",
    "))\n",
    "\n",
    "# Update the layout\n",
    "fig.update_layout(\n",
    "    title='Complexity Rank Distribution',\n",
    "    xaxis_title='Year',\n",
    "    yaxis_title='Complexity Rank'\n",
    ")\n",
    "\n",
    "# Show the figure\n",
    "fig.show()"
   ]
  },
  {
   "cell_type": "code",
   "execution_count": 25,
   "metadata": {},
   "outputs": [
    {
     "data": {
      "application/vnd.plotly.v1+json": {
       "config": {
        "plotlyServerURL": "https://plot.ly"
       },
       "data": [
        {
         "mode": "lines",
         "name": "O(1)",
         "type": "scatter",
         "x": [
          1,
          11.090909090909092,
          21.181818181818183,
          31.272727272727273,
          41.36363636363637,
          51.45454545454546,
          61.54545454545455,
          71.63636363636364,
          81.72727272727273,
          91.81818181818183,
          101.90909090909092,
          112.00000000000001,
          122.0909090909091,
          132.1818181818182,
          142.27272727272728,
          152.36363636363637,
          162.45454545454547,
          172.54545454545456,
          182.63636363636365,
          192.72727272727275,
          202.81818181818184,
          212.90909090909093,
          223.00000000000003,
          233.09090909090912,
          243.1818181818182,
          253.27272727272728,
          263.3636363636364,
          273.4545454545455,
          283.54545454545456,
          293.6363636363637,
          303.72727272727275,
          313.81818181818187,
          323.90909090909093,
          334,
          344.0909090909091,
          354.1818181818182,
          364.2727272727273,
          374.3636363636364,
          384.4545454545455,
          394.54545454545456,
          404.6363636363637,
          414.72727272727275,
          424.81818181818187,
          434.90909090909093,
          445.00000000000006,
          455.0909090909091,
          465.18181818181824,
          475.2727272727273,
          485.3636363636364,
          495.4545454545455,
          505.54545454545456,
          515.6363636363636,
          525.7272727272727,
          535.8181818181819,
          545.909090909091,
          556,
          566.0909090909091,
          576.1818181818182,
          586.2727272727274,
          596.3636363636364,
          606.4545454545455,
          616.5454545454546,
          626.6363636363637,
          636.7272727272727,
          646.8181818181819,
          656.909090909091,
          667,
          677.0909090909091,
          687.1818181818182,
          697.2727272727274,
          707.3636363636364,
          717.4545454545455,
          727.5454545454546,
          737.6363636363637,
          747.7272727272727,
          757.8181818181819,
          767.909090909091,
          778.0000000000001,
          788.0909090909091,
          798.1818181818182,
          808.2727272727274,
          818.3636363636364,
          828.4545454545455,
          838.5454545454546,
          848.6363636363637,
          858.7272727272727,
          868.8181818181819,
          878.909090909091,
          889.0000000000001,
          899.0909090909091,
          909.1818181818182,
          919.2727272727274,
          929.3636363636365,
          939.4545454545455,
          949.5454545454546,
          959.6363636363637,
          969.7272727272727,
          979.8181818181819,
          989.909090909091,
          1000
         ],
         "y": [
          1,
          1,
          1,
          1,
          1,
          1,
          1,
          1,
          1,
          1,
          1,
          1,
          1,
          1,
          1,
          1,
          1,
          1,
          1,
          1,
          1,
          1,
          1,
          1,
          1,
          1,
          1,
          1,
          1,
          1,
          1,
          1,
          1,
          1,
          1,
          1,
          1,
          1,
          1,
          1,
          1,
          1,
          1,
          1,
          1,
          1,
          1,
          1,
          1,
          1,
          1,
          1,
          1,
          1,
          1,
          1,
          1,
          1,
          1,
          1,
          1,
          1,
          1,
          1,
          1,
          1,
          1,
          1,
          1,
          1,
          1,
          1,
          1,
          1,
          1,
          1,
          1,
          1,
          1,
          1,
          1,
          1,
          1,
          1,
          1,
          1,
          1,
          1,
          1,
          1,
          1,
          1,
          1,
          1,
          1,
          1,
          1,
          1,
          1,
          1
         ]
        },
        {
         "mode": "lines",
         "name": "O(log(n))",
         "type": "scatter",
         "x": [
          1,
          11.090909090909092,
          21.181818181818183,
          31.272727272727273,
          41.36363636363637,
          51.45454545454546,
          61.54545454545455,
          71.63636363636364,
          81.72727272727273,
          91.81818181818183,
          101.90909090909092,
          112.00000000000001,
          122.0909090909091,
          132.1818181818182,
          142.27272727272728,
          152.36363636363637,
          162.45454545454547,
          172.54545454545456,
          182.63636363636365,
          192.72727272727275,
          202.81818181818184,
          212.90909090909093,
          223.00000000000003,
          233.09090909090912,
          243.1818181818182,
          253.27272727272728,
          263.3636363636364,
          273.4545454545455,
          283.54545454545456,
          293.6363636363637,
          303.72727272727275,
          313.81818181818187,
          323.90909090909093,
          334,
          344.0909090909091,
          354.1818181818182,
          364.2727272727273,
          374.3636363636364,
          384.4545454545455,
          394.54545454545456,
          404.6363636363637,
          414.72727272727275,
          424.81818181818187,
          434.90909090909093,
          445.00000000000006,
          455.0909090909091,
          465.18181818181824,
          475.2727272727273,
          485.3636363636364,
          495.4545454545455,
          505.54545454545456,
          515.6363636363636,
          525.7272727272727,
          535.8181818181819,
          545.909090909091,
          556,
          566.0909090909091,
          576.1818181818182,
          586.2727272727274,
          596.3636363636364,
          606.4545454545455,
          616.5454545454546,
          626.6363636363637,
          636.7272727272727,
          646.8181818181819,
          656.909090909091,
          667,
          677.0909090909091,
          687.1818181818182,
          697.2727272727274,
          707.3636363636364,
          717.4545454545455,
          727.5454545454546,
          737.6363636363637,
          747.7272727272727,
          757.8181818181819,
          767.909090909091,
          778.0000000000001,
          788.0909090909091,
          798.1818181818182,
          808.2727272727274,
          818.3636363636364,
          828.4545454545455,
          838.5454545454546,
          848.6363636363637,
          858.7272727272727,
          868.8181818181819,
          878.909090909091,
          889.0000000000001,
          899.0909090909091,
          909.1818181818182,
          919.2727272727274,
          929.3636363636365,
          939.4545454545455,
          949.5454545454546,
          959.6363636363637,
          969.7272727272727,
          979.8181818181819,
          989.909090909091,
          1000
         ],
         "y": [
          0,
          2.406125771934886,
          3.05314318076733,
          3.442746384575028,
          3.72240214615258,
          3.9406988054048124,
          4.119776000113904,
          4.271602817059509,
          4.40338776167325,
          4.519810337036935,
          4.624081150273789,
          4.718498871295095,
          4.804765923724867,
          4.884178385295094,
          4.957745830175883,
          5.0262700082436575,
          5.090398242361058,
          5.150660706371503,
          5.207497092016564,
          5.2612760948676875,
          5.312309921634162,
          5.360865271359292,
          5.407171771460119,
          5.45142854524219,
          5.493809386531736,
          5.5344668815413804,
          5.57353572497098,
          5.61113541227136,
          5.647372443809433,
          5.682342143418332,
          5.716130169558386,
          5.748813779404948,
          5.780462892807465,
          5.811140992976701,
          5.840905893073178,
          5.869810391964055,
          5.8979028378377745,
          5.925227614789364,
          5.9518255646741185,
          5.97773435429608,
          6.002988796217484,
          6.027621130045963,
          6.0516612699020556,
          6.075137022832097,
          6.09807428216624,
          6.120497199193349,
          6.142428336006722,
          6.163888801945742,
          6.184898375701816,
          6.205475614858919,
          6.225637954389193,
          6.245401795413593,
          6.264782585359848,
          6.283794890499269,
          6.302452461715713,
          6.320768294250582,
          6.338754682074081,
          6.356423267452495,
          6.373785086212007,
          6.390850609139764,
          6.407629779911145,
          6.424132049887214,
          6.4403664100872815,
          6.456341420607372,
          6.472065237725582,
          6.487545638909215,
          6.502790045915623,
          6.517805546158533,
          6.532598912493806,
          6.547176621562931,
          6.56154487081856,
          6.5757095943441355,
          6.589676477568676,
          6.603450970968022,
          6.617038302835202,
          6.630443491194778,
          6.643671354929126,
          6.656726524178392,
          6.66961345007027,
          6.682336413830792,
          6.694899535322769,
          6.707306781054507,
          6.719561971697757,
          6.7316687891505245,
          6.743630783177452,
          6.755451377657692,
          6.767133876467809,
          6.7786814690250035,
          6.790097235513905,
          6.801384151818387,
          6.812545094178145,
          6.823582843588269,
          6.834500089958643,
          6.84529943604876,
          6.8559834011922955,
          6.8665544248248445,
          6.8770148698271125,
          6.887367025695071,
          6.897613111547691,
          6.907755278982137
         ]
        },
        {
         "mode": "lines",
         "name": "O(n)",
         "type": "scatter",
         "x": [
          1,
          11.090909090909092,
          21.181818181818183,
          31.272727272727273,
          41.36363636363637,
          51.45454545454546,
          61.54545454545455,
          71.63636363636364,
          81.72727272727273,
          91.81818181818183,
          101.90909090909092,
          112.00000000000001,
          122.0909090909091,
          132.1818181818182,
          142.27272727272728,
          152.36363636363637,
          162.45454545454547,
          172.54545454545456,
          182.63636363636365,
          192.72727272727275,
          202.81818181818184,
          212.90909090909093,
          223.00000000000003,
          233.09090909090912,
          243.1818181818182,
          253.27272727272728,
          263.3636363636364,
          273.4545454545455,
          283.54545454545456,
          293.6363636363637,
          303.72727272727275,
          313.81818181818187,
          323.90909090909093,
          334,
          344.0909090909091,
          354.1818181818182,
          364.2727272727273,
          374.3636363636364,
          384.4545454545455,
          394.54545454545456,
          404.6363636363637,
          414.72727272727275,
          424.81818181818187,
          434.90909090909093,
          445.00000000000006,
          455.0909090909091,
          465.18181818181824,
          475.2727272727273,
          485.3636363636364,
          495.4545454545455,
          505.54545454545456,
          515.6363636363636,
          525.7272727272727,
          535.8181818181819,
          545.909090909091,
          556,
          566.0909090909091,
          576.1818181818182,
          586.2727272727274,
          596.3636363636364,
          606.4545454545455,
          616.5454545454546,
          626.6363636363637,
          636.7272727272727,
          646.8181818181819,
          656.909090909091,
          667,
          677.0909090909091,
          687.1818181818182,
          697.2727272727274,
          707.3636363636364,
          717.4545454545455,
          727.5454545454546,
          737.6363636363637,
          747.7272727272727,
          757.8181818181819,
          767.909090909091,
          778.0000000000001,
          788.0909090909091,
          798.1818181818182,
          808.2727272727274,
          818.3636363636364,
          828.4545454545455,
          838.5454545454546,
          848.6363636363637,
          858.7272727272727,
          868.8181818181819,
          878.909090909091,
          889.0000000000001,
          899.0909090909091,
          909.1818181818182,
          919.2727272727274,
          929.3636363636365,
          939.4545454545455,
          949.5454545454546,
          959.6363636363637,
          969.7272727272727,
          979.8181818181819,
          989.909090909091,
          1000
         ],
         "y": [
          1,
          11.090909090909092,
          21.181818181818183,
          31.272727272727273,
          41.36363636363637,
          51.45454545454546,
          61.54545454545455,
          71.63636363636364,
          81.72727272727273,
          91.81818181818183,
          101.90909090909092,
          112.00000000000001,
          122.0909090909091,
          132.1818181818182,
          142.27272727272728,
          152.36363636363637,
          162.45454545454547,
          172.54545454545456,
          182.63636363636365,
          192.72727272727275,
          202.81818181818184,
          212.90909090909093,
          223.00000000000003,
          233.09090909090912,
          243.1818181818182,
          253.27272727272728,
          263.3636363636364,
          273.4545454545455,
          283.54545454545456,
          293.6363636363637,
          303.72727272727275,
          313.81818181818187,
          323.90909090909093,
          334,
          344.0909090909091,
          354.1818181818182,
          364.2727272727273,
          374.3636363636364,
          384.4545454545455,
          394.54545454545456,
          404.6363636363637,
          414.72727272727275,
          424.81818181818187,
          434.90909090909093,
          445.00000000000006,
          455.0909090909091,
          465.18181818181824,
          475.2727272727273,
          485.3636363636364,
          495.4545454545455,
          505.54545454545456,
          515.6363636363636,
          525.7272727272727,
          535.8181818181819,
          545.909090909091,
          556,
          566.0909090909091,
          576.1818181818182,
          586.2727272727274,
          596.3636363636364,
          606.4545454545455,
          616.5454545454546,
          626.6363636363637,
          636.7272727272727,
          646.8181818181819,
          656.909090909091,
          667,
          677.0909090909091,
          687.1818181818182,
          697.2727272727274,
          707.3636363636364,
          717.4545454545455,
          727.5454545454546,
          737.6363636363637,
          747.7272727272727,
          757.8181818181819,
          767.909090909091,
          778.0000000000001,
          788.0909090909091,
          798.1818181818182,
          808.2727272727274,
          818.3636363636364,
          828.4545454545455,
          838.5454545454546,
          848.6363636363637,
          858.7272727272727,
          868.8181818181819,
          878.909090909091,
          889.0000000000001,
          899.0909090909091,
          909.1818181818182,
          919.2727272727274,
          929.3636363636365,
          939.4545454545455,
          949.5454545454546,
          959.6363636363637,
          969.7272727272727,
          979.8181818181819,
          989.909090909091,
          1000
         ]
        },
        {
         "mode": "lines",
         "name": "O(n*log(n))",
         "type": "scatter",
         "x": [
          1,
          11.090909090909092,
          21.181818181818183,
          31.272727272727273,
          41.36363636363637,
          51.45454545454546,
          61.54545454545455,
          71.63636363636364,
          81.72727272727273,
          91.81818181818183,
          101.90909090909092,
          112.00000000000001,
          122.0909090909091,
          132.1818181818182,
          142.27272727272728,
          152.36363636363637,
          162.45454545454547,
          172.54545454545456,
          182.63636363636365,
          192.72727272727275,
          202.81818181818184,
          212.90909090909093,
          223.00000000000003,
          233.09090909090912,
          243.1818181818182,
          253.27272727272728,
          263.3636363636364,
          273.4545454545455,
          283.54545454545456,
          293.6363636363637,
          303.72727272727275,
          313.81818181818187,
          323.90909090909093,
          334,
          344.0909090909091,
          354.1818181818182,
          364.2727272727273,
          374.3636363636364,
          384.4545454545455,
          394.54545454545456,
          404.6363636363637,
          414.72727272727275,
          424.81818181818187,
          434.90909090909093,
          445.00000000000006,
          455.0909090909091,
          465.18181818181824,
          475.2727272727273,
          485.3636363636364,
          495.4545454545455,
          505.54545454545456,
          515.6363636363636,
          525.7272727272727,
          535.8181818181819,
          545.909090909091,
          556,
          566.0909090909091,
          576.1818181818182,
          586.2727272727274,
          596.3636363636364,
          606.4545454545455,
          616.5454545454546,
          626.6363636363637,
          636.7272727272727,
          646.8181818181819,
          656.909090909091,
          667,
          677.0909090909091,
          687.1818181818182,
          697.2727272727274,
          707.3636363636364,
          717.4545454545455,
          727.5454545454546,
          737.6363636363637,
          747.7272727272727,
          757.8181818181819,
          767.909090909091,
          778.0000000000001,
          788.0909090909091,
          798.1818181818182,
          808.2727272727274,
          818.3636363636364,
          828.4545454545455,
          838.5454545454546,
          848.6363636363637,
          858.7272727272727,
          868.8181818181819,
          878.909090909091,
          889.0000000000001,
          899.0909090909091,
          909.1818181818182,
          919.2727272727274,
          929.3636363636365,
          939.4545454545455,
          949.5454545454546,
          959.6363636363637,
          969.7272727272727,
          979.8181818181819,
          989.909090909091,
          1000
         ],
         "y": [
          0,
          26.686122197823284,
          64.67112373807163,
          107.66406875398269,
          153.9720887726749,
          202.76686580537492,
          253.55348655246485,
          306.00209271299025,
          359.87687252220474,
          415.00076730975496,
          471.2359063142653,
          528.4718735850507,
          586.6182395965906,
          645.5995792926425,
          705.3520203841143,
          765.8207758014883,
          826.9583326453828,
          888.723092790283,
          951.0783325328435,
          1013.9913928290454,
          1077.4330395605289,
          1141.376951411224,
          1205.7993050356067,
          1270.6784354546344,
          1335.9945553611267,
          1401.7295210885716,
          1467.8666359309937,
          1534.3904836465686,
          1601.2867865674202,
          1668.5422839310195,
          1736.1446269540515,
          1804.0822878641711,
          1872.344480643,
          1940.9210916542181,
          2009.8026186619984,
          2078.98011700836,
          2148.445151928724,
          2218.189756154782,
          2288.2063920915316,
          2358.4879179677264,
          2429.027557451275,
          2499.818872297244,
          2570.8557376593008,
          2642.1323197480683,
          2713.643055563977,
          2785.3826344692643,
          2857.345981395127,
          2929.5282415065763,
          3001.9247661701816,
          3074.531100089192,
          3147.342969487119,
          3220.3562712350817,
          3293.5670628305456,
          3366.9715531456995,
          3440.5660938729875,
          3514.3471716033237,
          3588.3114004795734,
          3662.4555153739925,
          3736.7763655437493,
          3811.27090872335,
          3885.9362056170226,
          3960.7694147577354,
          4035.7677877028764,
          4110.928664539458,
          4186.24946967432,
          4261.72770788709,
          4337.3609606257205,
          4413.14688252625,
          4489.083198140062,
          4565.167698853426,
          4641.398239985383,
          4717.772738051265,
          4794.289168180193,
          4870.945561675867,
          4947.740003710867,
          5024.6706311454245,
          5101.7356304623945,
          5178.9332358107895,
          5256.261727150834,
          5333.719428494032,
          5411.304706232249,
          5489.015967550244,
          5566.851658916515,
          5644.810264647676,
          5722.890305541957,
          5801.090337577687,
          5879.408950672987,
          5957.8447675030675,
          6036.396442371862,
          6115.062660134895,
          6193.842135170513,
          6272.73361039678,
          6351.735856331566,
          6430.847670193444,
          6510.06787504123,
          6589.395318950097,
          6668.828874222347,
          6748.367436631043,
          6828.009924694801,
          6907.755278982137
         ]
        },
        {
         "mode": "lines",
         "name": "O(n^2)",
         "type": "scatter",
         "x": [
          1,
          11.090909090909092,
          21.181818181818183,
          31.272727272727273,
          41.36363636363637,
          51.45454545454546,
          61.54545454545455,
          71.63636363636364,
          81.72727272727273,
          91.81818181818183,
          101.90909090909092,
          112.00000000000001,
          122.0909090909091,
          132.1818181818182,
          142.27272727272728,
          152.36363636363637,
          162.45454545454547,
          172.54545454545456,
          182.63636363636365,
          192.72727272727275,
          202.81818181818184,
          212.90909090909093,
          223.00000000000003,
          233.09090909090912,
          243.1818181818182,
          253.27272727272728,
          263.3636363636364,
          273.4545454545455,
          283.54545454545456,
          293.6363636363637,
          303.72727272727275,
          313.81818181818187,
          323.90909090909093,
          334,
          344.0909090909091,
          354.1818181818182,
          364.2727272727273,
          374.3636363636364,
          384.4545454545455,
          394.54545454545456,
          404.6363636363637,
          414.72727272727275,
          424.81818181818187,
          434.90909090909093,
          445.00000000000006,
          455.0909090909091,
          465.18181818181824,
          475.2727272727273,
          485.3636363636364,
          495.4545454545455,
          505.54545454545456,
          515.6363636363636,
          525.7272727272727,
          535.8181818181819,
          545.909090909091,
          556,
          566.0909090909091,
          576.1818181818182,
          586.2727272727274,
          596.3636363636364,
          606.4545454545455,
          616.5454545454546,
          626.6363636363637,
          636.7272727272727,
          646.8181818181819,
          656.909090909091,
          667,
          677.0909090909091,
          687.1818181818182,
          697.2727272727274,
          707.3636363636364,
          717.4545454545455,
          727.5454545454546,
          737.6363636363637,
          747.7272727272727,
          757.8181818181819,
          767.909090909091,
          778.0000000000001,
          788.0909090909091,
          798.1818181818182,
          808.2727272727274,
          818.3636363636364,
          828.4545454545455,
          838.5454545454546,
          848.6363636363637,
          858.7272727272727,
          868.8181818181819,
          878.909090909091,
          889.0000000000001,
          899.0909090909091,
          909.1818181818182,
          919.2727272727274,
          929.3636363636365,
          939.4545454545455,
          949.5454545454546,
          959.6363636363637,
          969.7272727272727,
          979.8181818181819,
          989.909090909091,
          1000
         ],
         "y": [
          1,
          123.00826446280993,
          448.66942148760336,
          977.9834710743802,
          1710.9504132231407,
          2647.5702479338847,
          3787.8429752066118,
          5131.768595041322,
          6679.347107438018,
          8430.578512396696,
          10385.462809917357,
          12544.000000000004,
          14906.190082644629,
          17472.03305785124,
          20241.528925619838,
          23214.677685950417,
          26391.47933884298,
          29771.933884297527,
          33356.04132231406,
          37143.80165289257,
          41135.21487603307,
          45330.28099173555,
          49729.000000000015,
          54331.37190082646,
          59137.396694214876,
          64147.07438016529,
          69360.4049586777,
          74777.38842975209,
          80398.02479338844,
          86222.3140495868,
          92250.25619834712,
          98481.85123966946,
          104917.09917355374,
          111556,
          118398.55371900828,
          125444.76033057852,
          132694.61983471076,
          140148.13223140498,
          147805.2975206612,
          155666.11570247935,
          163730.58677685953,
          171998.71074380167,
          180470.48760330584,
          189145.91735537193,
          198025.00000000006,
          207107.7355371901,
          216394.1239669422,
          225884.16528925623,
          235577.85950413224,
          245475.2066115703,
          255576.20661157026,
          265880.85950413224,
          276389.1652892562,
          287101.1239669422,
          298016.73553719016,
          309136,
          320458.91735537193,
          331985.48760330584,
          343715.7107438018,
          355649.58677685953,
          367787.1157024794,
          380128.29752066126,
          392673.13223140506,
          405421.6198347108,
          418373.7603305786,
          431529.5537190084,
          444889,
          458452.09917355375,
          472218.8512396695,
          486189.25619834726,
          500363.31404958677,
          514741.0247933885,
          529322.3884297522,
          544107.4049586778,
          559096.0743801653,
          574288.3966942149,
          589684.3719008266,
          605284.0000000002,
          621087.2809917356,
          637094.2148760331,
          653304.8016528927,
          669719.0413223141,
          686336.9338842976,
          703158.4793388431,
          720183.6776859505,
          737412.5289256199,
          754845.0330578514,
          772481.1900826448,
          790321.0000000002,
          808364.4628099174,
          826611.5785123968,
          845062.3471074381,
          863716.7685950416,
          882574.8429752067,
          901636.570247934,
          920901.9504132234,
          940370.9834710744,
          960043.6694214877,
          979920.0082644629,
          1000000
         ]
        },
        {
         "mode": "lines",
         "name": "O(2^n)",
         "type": "scatter",
         "x": [
          1,
          11.090909090909092,
          21.181818181818183,
          31.272727272727273,
          41.36363636363637,
          51.45454545454546,
          61.54545454545455,
          71.63636363636364,
          81.72727272727273,
          91.81818181818183,
          101.90909090909092,
          112.00000000000001,
          122.0909090909091,
          132.1818181818182,
          142.27272727272728,
          152.36363636363637,
          162.45454545454547,
          172.54545454545456,
          182.63636363636365,
          192.72727272727275,
          202.81818181818184,
          212.90909090909093,
          223.00000000000003,
          233.09090909090912,
          243.1818181818182,
          253.27272727272728,
          263.3636363636364,
          273.4545454545455,
          283.54545454545456,
          293.6363636363637,
          303.72727272727275,
          313.81818181818187,
          323.90909090909093,
          334,
          344.0909090909091,
          354.1818181818182,
          364.2727272727273,
          374.3636363636364,
          384.4545454545455,
          394.54545454545456,
          404.6363636363637,
          414.72727272727275,
          424.81818181818187,
          434.90909090909093,
          445.00000000000006,
          455.0909090909091,
          465.18181818181824,
          475.2727272727273,
          485.3636363636364,
          495.4545454545455,
          505.54545454545456,
          515.6363636363636,
          525.7272727272727,
          535.8181818181819,
          545.909090909091,
          556,
          566.0909090909091,
          576.1818181818182,
          586.2727272727274,
          596.3636363636364,
          606.4545454545455,
          616.5454545454546,
          626.6363636363637,
          636.7272727272727,
          646.8181818181819,
          656.909090909091,
          667,
          677.0909090909091,
          687.1818181818182,
          697.2727272727274,
          707.3636363636364,
          717.4545454545455,
          727.5454545454546,
          737.6363636363637,
          747.7272727272727,
          757.8181818181819,
          767.909090909091,
          778.0000000000001,
          788.0909090909091,
          798.1818181818182,
          808.2727272727274,
          818.3636363636364,
          828.4545454545455,
          838.5454545454546,
          848.6363636363637,
          858.7272727272727,
          868.8181818181819,
          878.909090909091,
          889.0000000000001,
          899.0909090909091,
          909.1818181818182,
          919.2727272727274,
          929.3636363636365,
          939.4545454545455,
          949.5454545454546,
          959.6363636363637,
          969.7272727272727,
          979.8181818181819,
          989.909090909091,
          1000
         ],
         "y": [
          2,
          2181.204151173045,
          2378825.774547261,
          2594352327.179957,
          2829406032825.189,
          3085756092076183,
          3365331998772029000,
          3.670238062898519e+21,
          4.0027692492937877e+24,
          4.365428451373716e+27,
          4.760945329892639e+30,
          5.192296858534878e+33,
          5.66272973097947e+36,
          6.175784798091727e+39,
          6.735323719174538e+42,
          7.345558027878896e+45,
          8.011080831545976e+48,
          8.736901382575455e+51,
          9.52848278203156e+54,
          1.0391783099274074e+58,
          1.1333300217113263e+61,
          1.2360120740028925e+64,
          1.3479973333575586e+67,
          1.4701286896448525e+70,
          1.603325400305941e+73,
          1.7485900094142533e+76,
          1.9070158936170437e+79,
          2.079795491755278e+82,
          2.2682292801037565e+85,
          2.473735560787332e+88,
          2.6978611370468044e+91,
          2.9422929557075217e+94,
          3.208870804478168e+97,
          3.499601159652819e+100,
          3.816672288442445e+103,
          4.162470719608816e+106,
          4.539599206373595e+109,
          4.9508963168018816e+112,
          5.399457799117914e+115,
          5.888659882759724e+118,
          6.422184690560977e+121,
          7.00404795332566e+124,
          7.638629235404659e+127,
          8.330704898768058e+130,
          9.085484053695443e+133,
          9.90864776666832e+136,
          1.0806391820584454e+140,
          1.1785473349130408e+143,
          1.285326169633103e+146,
          1.4017793884075659e+149,
          1.5287835105116691e+152,
          1.6672944696864455e+155,
          1.8183548092540057e+158,
          1.983101529125195e+161,
          2.1627746437627895e+164,
          2.3587265155134633e+167,
          2.5724320335600025e+170,
          2.805499715105856e+173,
          3.059683812351908e+176,
          3.3368975163892816e+179,
          3.639227357393738e+182,
          3.968948909504949e+185,
          4.3285439186030525e+188,
          4.720718981895635e+191,
          5.148425919916182e+194,
          5.6148839942641565e+197,
          6.123604138321678e+200,
          6.67841538332398e+203,
          7.283493678682245e+206,
          7.943393323492338e+209,
          8.663081245800368e+212,
          9.447974387644754e+215,
          1.0303980477253888e+219,
          1.1237542495296331e+222,
          1.2255687169861217e+225,
          1.3366077865190035e+228,
          1.4577072262227632e+231,
          1.5897785265160513e+234,
          1.7338157607411883e+237,
          1.8909030673490048e+240,
          2.0622228099837896e+243,
          2.2490644768900615e+246,
          2.4528343866242685e+249,
          2.675066273122478e+252,
          2.9174328297989384e+255,
          3.1817582995627996e+258,
          3.470032205517906e+261,
          3.7844243256899855e+264,
          4.12730102449771e+267,
          4.501243063887322e+270,
          4.909065028195054e+273,
          5.353836508938848e+276,
          5.83890520899973e+279,
          6.367922140087695e+282,
          6.944869103153156e+285,
          7.5740886585757e+288,
          8.26031681171852e+291,
          9.008718659862651e+294,
          9.824927268821447e+297,
          1.0715086071862673e+301
         ]
        }
       ],
       "layout": {
        "template": {
         "data": {
          "bar": [
           {
            "error_x": {
             "color": "#2a3f5f"
            },
            "error_y": {
             "color": "#2a3f5f"
            },
            "marker": {
             "line": {
              "color": "#E5ECF6",
              "width": 0.5
             },
             "pattern": {
              "fillmode": "overlay",
              "size": 10,
              "solidity": 0.2
             }
            },
            "type": "bar"
           }
          ],
          "barpolar": [
           {
            "marker": {
             "line": {
              "color": "#E5ECF6",
              "width": 0.5
             },
             "pattern": {
              "fillmode": "overlay",
              "size": 10,
              "solidity": 0.2
             }
            },
            "type": "barpolar"
           }
          ],
          "carpet": [
           {
            "aaxis": {
             "endlinecolor": "#2a3f5f",
             "gridcolor": "white",
             "linecolor": "white",
             "minorgridcolor": "white",
             "startlinecolor": "#2a3f5f"
            },
            "baxis": {
             "endlinecolor": "#2a3f5f",
             "gridcolor": "white",
             "linecolor": "white",
             "minorgridcolor": "white",
             "startlinecolor": "#2a3f5f"
            },
            "type": "carpet"
           }
          ],
          "choropleth": [
           {
            "colorbar": {
             "outlinewidth": 0,
             "ticks": ""
            },
            "type": "choropleth"
           }
          ],
          "contour": [
           {
            "colorbar": {
             "outlinewidth": 0,
             "ticks": ""
            },
            "colorscale": [
             [
              0,
              "#0d0887"
             ],
             [
              0.1111111111111111,
              "#46039f"
             ],
             [
              0.2222222222222222,
              "#7201a8"
             ],
             [
              0.3333333333333333,
              "#9c179e"
             ],
             [
              0.4444444444444444,
              "#bd3786"
             ],
             [
              0.5555555555555556,
              "#d8576b"
             ],
             [
              0.6666666666666666,
              "#ed7953"
             ],
             [
              0.7777777777777778,
              "#fb9f3a"
             ],
             [
              0.8888888888888888,
              "#fdca26"
             ],
             [
              1,
              "#f0f921"
             ]
            ],
            "type": "contour"
           }
          ],
          "contourcarpet": [
           {
            "colorbar": {
             "outlinewidth": 0,
             "ticks": ""
            },
            "type": "contourcarpet"
           }
          ],
          "heatmap": [
           {
            "colorbar": {
             "outlinewidth": 0,
             "ticks": ""
            },
            "colorscale": [
             [
              0,
              "#0d0887"
             ],
             [
              0.1111111111111111,
              "#46039f"
             ],
             [
              0.2222222222222222,
              "#7201a8"
             ],
             [
              0.3333333333333333,
              "#9c179e"
             ],
             [
              0.4444444444444444,
              "#bd3786"
             ],
             [
              0.5555555555555556,
              "#d8576b"
             ],
             [
              0.6666666666666666,
              "#ed7953"
             ],
             [
              0.7777777777777778,
              "#fb9f3a"
             ],
             [
              0.8888888888888888,
              "#fdca26"
             ],
             [
              1,
              "#f0f921"
             ]
            ],
            "type": "heatmap"
           }
          ],
          "heatmapgl": [
           {
            "colorbar": {
             "outlinewidth": 0,
             "ticks": ""
            },
            "colorscale": [
             [
              0,
              "#0d0887"
             ],
             [
              0.1111111111111111,
              "#46039f"
             ],
             [
              0.2222222222222222,
              "#7201a8"
             ],
             [
              0.3333333333333333,
              "#9c179e"
             ],
             [
              0.4444444444444444,
              "#bd3786"
             ],
             [
              0.5555555555555556,
              "#d8576b"
             ],
             [
              0.6666666666666666,
              "#ed7953"
             ],
             [
              0.7777777777777778,
              "#fb9f3a"
             ],
             [
              0.8888888888888888,
              "#fdca26"
             ],
             [
              1,
              "#f0f921"
             ]
            ],
            "type": "heatmapgl"
           }
          ],
          "histogram": [
           {
            "marker": {
             "pattern": {
              "fillmode": "overlay",
              "size": 10,
              "solidity": 0.2
             }
            },
            "type": "histogram"
           }
          ],
          "histogram2d": [
           {
            "colorbar": {
             "outlinewidth": 0,
             "ticks": ""
            },
            "colorscale": [
             [
              0,
              "#0d0887"
             ],
             [
              0.1111111111111111,
              "#46039f"
             ],
             [
              0.2222222222222222,
              "#7201a8"
             ],
             [
              0.3333333333333333,
              "#9c179e"
             ],
             [
              0.4444444444444444,
              "#bd3786"
             ],
             [
              0.5555555555555556,
              "#d8576b"
             ],
             [
              0.6666666666666666,
              "#ed7953"
             ],
             [
              0.7777777777777778,
              "#fb9f3a"
             ],
             [
              0.8888888888888888,
              "#fdca26"
             ],
             [
              1,
              "#f0f921"
             ]
            ],
            "type": "histogram2d"
           }
          ],
          "histogram2dcontour": [
           {
            "colorbar": {
             "outlinewidth": 0,
             "ticks": ""
            },
            "colorscale": [
             [
              0,
              "#0d0887"
             ],
             [
              0.1111111111111111,
              "#46039f"
             ],
             [
              0.2222222222222222,
              "#7201a8"
             ],
             [
              0.3333333333333333,
              "#9c179e"
             ],
             [
              0.4444444444444444,
              "#bd3786"
             ],
             [
              0.5555555555555556,
              "#d8576b"
             ],
             [
              0.6666666666666666,
              "#ed7953"
             ],
             [
              0.7777777777777778,
              "#fb9f3a"
             ],
             [
              0.8888888888888888,
              "#fdca26"
             ],
             [
              1,
              "#f0f921"
             ]
            ],
            "type": "histogram2dcontour"
           }
          ],
          "mesh3d": [
           {
            "colorbar": {
             "outlinewidth": 0,
             "ticks": ""
            },
            "type": "mesh3d"
           }
          ],
          "parcoords": [
           {
            "line": {
             "colorbar": {
              "outlinewidth": 0,
              "ticks": ""
             }
            },
            "type": "parcoords"
           }
          ],
          "pie": [
           {
            "automargin": true,
            "type": "pie"
           }
          ],
          "scatter": [
           {
            "fillpattern": {
             "fillmode": "overlay",
             "size": 10,
             "solidity": 0.2
            },
            "type": "scatter"
           }
          ],
          "scatter3d": [
           {
            "line": {
             "colorbar": {
              "outlinewidth": 0,
              "ticks": ""
             }
            },
            "marker": {
             "colorbar": {
              "outlinewidth": 0,
              "ticks": ""
             }
            },
            "type": "scatter3d"
           }
          ],
          "scattercarpet": [
           {
            "marker": {
             "colorbar": {
              "outlinewidth": 0,
              "ticks": ""
             }
            },
            "type": "scattercarpet"
           }
          ],
          "scattergeo": [
           {
            "marker": {
             "colorbar": {
              "outlinewidth": 0,
              "ticks": ""
             }
            },
            "type": "scattergeo"
           }
          ],
          "scattergl": [
           {
            "marker": {
             "colorbar": {
              "outlinewidth": 0,
              "ticks": ""
             }
            },
            "type": "scattergl"
           }
          ],
          "scattermapbox": [
           {
            "marker": {
             "colorbar": {
              "outlinewidth": 0,
              "ticks": ""
             }
            },
            "type": "scattermapbox"
           }
          ],
          "scatterpolar": [
           {
            "marker": {
             "colorbar": {
              "outlinewidth": 0,
              "ticks": ""
             }
            },
            "type": "scatterpolar"
           }
          ],
          "scatterpolargl": [
           {
            "marker": {
             "colorbar": {
              "outlinewidth": 0,
              "ticks": ""
             }
            },
            "type": "scatterpolargl"
           }
          ],
          "scatterternary": [
           {
            "marker": {
             "colorbar": {
              "outlinewidth": 0,
              "ticks": ""
             }
            },
            "type": "scatterternary"
           }
          ],
          "surface": [
           {
            "colorbar": {
             "outlinewidth": 0,
             "ticks": ""
            },
            "colorscale": [
             [
              0,
              "#0d0887"
             ],
             [
              0.1111111111111111,
              "#46039f"
             ],
             [
              0.2222222222222222,
              "#7201a8"
             ],
             [
              0.3333333333333333,
              "#9c179e"
             ],
             [
              0.4444444444444444,
              "#bd3786"
             ],
             [
              0.5555555555555556,
              "#d8576b"
             ],
             [
              0.6666666666666666,
              "#ed7953"
             ],
             [
              0.7777777777777778,
              "#fb9f3a"
             ],
             [
              0.8888888888888888,
              "#fdca26"
             ],
             [
              1,
              "#f0f921"
             ]
            ],
            "type": "surface"
           }
          ],
          "table": [
           {
            "cells": {
             "fill": {
              "color": "#EBF0F8"
             },
             "line": {
              "color": "white"
             }
            },
            "header": {
             "fill": {
              "color": "#C8D4E3"
             },
             "line": {
              "color": "white"
             }
            },
            "type": "table"
           }
          ]
         },
         "layout": {
          "annotationdefaults": {
           "arrowcolor": "#2a3f5f",
           "arrowhead": 0,
           "arrowwidth": 1
          },
          "autotypenumbers": "strict",
          "coloraxis": {
           "colorbar": {
            "outlinewidth": 0,
            "ticks": ""
           }
          },
          "colorscale": {
           "diverging": [
            [
             0,
             "#8e0152"
            ],
            [
             0.1,
             "#c51b7d"
            ],
            [
             0.2,
             "#de77ae"
            ],
            [
             0.3,
             "#f1b6da"
            ],
            [
             0.4,
             "#fde0ef"
            ],
            [
             0.5,
             "#f7f7f7"
            ],
            [
             0.6,
             "#e6f5d0"
            ],
            [
             0.7,
             "#b8e186"
            ],
            [
             0.8,
             "#7fbc41"
            ],
            [
             0.9,
             "#4d9221"
            ],
            [
             1,
             "#276419"
            ]
           ],
           "sequential": [
            [
             0,
             "#0d0887"
            ],
            [
             0.1111111111111111,
             "#46039f"
            ],
            [
             0.2222222222222222,
             "#7201a8"
            ],
            [
             0.3333333333333333,
             "#9c179e"
            ],
            [
             0.4444444444444444,
             "#bd3786"
            ],
            [
             0.5555555555555556,
             "#d8576b"
            ],
            [
             0.6666666666666666,
             "#ed7953"
            ],
            [
             0.7777777777777778,
             "#fb9f3a"
            ],
            [
             0.8888888888888888,
             "#fdca26"
            ],
            [
             1,
             "#f0f921"
            ]
           ],
           "sequentialminus": [
            [
             0,
             "#0d0887"
            ],
            [
             0.1111111111111111,
             "#46039f"
            ],
            [
             0.2222222222222222,
             "#7201a8"
            ],
            [
             0.3333333333333333,
             "#9c179e"
            ],
            [
             0.4444444444444444,
             "#bd3786"
            ],
            [
             0.5555555555555556,
             "#d8576b"
            ],
            [
             0.6666666666666666,
             "#ed7953"
            ],
            [
             0.7777777777777778,
             "#fb9f3a"
            ],
            [
             0.8888888888888888,
             "#fdca26"
            ],
            [
             1,
             "#f0f921"
            ]
           ]
          },
          "colorway": [
           "#636efa",
           "#EF553B",
           "#00cc96",
           "#ab63fa",
           "#FFA15A",
           "#19d3f3",
           "#FF6692",
           "#B6E880",
           "#FF97FF",
           "#FECB52"
          ],
          "font": {
           "color": "#2a3f5f"
          },
          "geo": {
           "bgcolor": "white",
           "lakecolor": "white",
           "landcolor": "#E5ECF6",
           "showlakes": true,
           "showland": true,
           "subunitcolor": "white"
          },
          "hoverlabel": {
           "align": "left"
          },
          "hovermode": "closest",
          "mapbox": {
           "style": "light"
          },
          "paper_bgcolor": "white",
          "plot_bgcolor": "#E5ECF6",
          "polar": {
           "angularaxis": {
            "gridcolor": "white",
            "linecolor": "white",
            "ticks": ""
           },
           "bgcolor": "#E5ECF6",
           "radialaxis": {
            "gridcolor": "white",
            "linecolor": "white",
            "ticks": ""
           }
          },
          "scene": {
           "xaxis": {
            "backgroundcolor": "#E5ECF6",
            "gridcolor": "white",
            "gridwidth": 2,
            "linecolor": "white",
            "showbackground": true,
            "ticks": "",
            "zerolinecolor": "white"
           },
           "yaxis": {
            "backgroundcolor": "#E5ECF6",
            "gridcolor": "white",
            "gridwidth": 2,
            "linecolor": "white",
            "showbackground": true,
            "ticks": "",
            "zerolinecolor": "white"
           },
           "zaxis": {
            "backgroundcolor": "#E5ECF6",
            "gridcolor": "white",
            "gridwidth": 2,
            "linecolor": "white",
            "showbackground": true,
            "ticks": "",
            "zerolinecolor": "white"
           }
          },
          "shapedefaults": {
           "line": {
            "color": "#2a3f5f"
           }
          },
          "ternary": {
           "aaxis": {
            "gridcolor": "white",
            "linecolor": "white",
            "ticks": ""
           },
           "baxis": {
            "gridcolor": "white",
            "linecolor": "white",
            "ticks": ""
           },
           "bgcolor": "#E5ECF6",
           "caxis": {
            "gridcolor": "white",
            "linecolor": "white",
            "ticks": ""
           }
          },
          "title": {
           "x": 0.05
          },
          "xaxis": {
           "automargin": true,
           "gridcolor": "white",
           "linecolor": "white",
           "ticks": "",
           "title": {
            "standoff": 15
           },
           "zerolinecolor": "white",
           "zerolinewidth": 2
          },
          "yaxis": {
           "automargin": true,
           "gridcolor": "white",
           "linecolor": "white",
           "ticks": "",
           "title": {
            "standoff": 15
           },
           "zerolinecolor": "white",
           "zerolinewidth": 2
          }
         }
        },
        "title": {
         "text": "Time Complexity Comparison"
        },
        "xaxis": {
         "range": [
          1,
          100
         ],
         "title": {
          "text": "Input Size"
         }
        },
        "yaxis": {
         "range": [
          1,
          100
         ],
         "title": {
          "text": "Time Complexity"
         }
        }
       }
      }
     },
     "metadata": {},
     "output_type": "display_data"
    }
   ],
   "source": [
    "import plotly.graph_objects as go\n",
    "import numpy as np\n",
    "import math\n",
    "\n",
    "# Input size\n",
    "x = np.linspace(1, 1000, 100)\n",
    "\n",
    "# Time complexities\n",
    "y1 = np.ones_like(x)  # O(1)\n",
    "y2 = np.log(x)  # O(n)\n",
    "y3 = x  # O(log(n))\n",
    "y4 = x * np.log(x)  # O(n*log(n))\n",
    "y5 = x**2  # O(n^2)\n",
    "y6 = 2**x  # O(2^n)\n",
    "# y7 = [math.factorial(int(n)) for n in x]  # O(n!)\n",
    "\n",
    "# Create traces\n",
    "trace1 = go.Scatter(x=x, y=y1, mode='lines', name='O(1)')\n",
    "trace2 = go.Scatter(x=x, y=y2, mode='lines', name='O(log(n))')\n",
    "trace3 = go.Scatter(x=x, y=y3, mode='lines', name='O(n)')\n",
    "trace4 = go.Scatter(x=x, y=y4, mode='lines', name='O(n*log(n))')\n",
    "trace5 = go.Scatter(x=x, y=y5, mode='lines', name='O(n^2)')\n",
    "trace6 = go.Scatter(x=x, y=y6, mode='lines', name='O(2^n)')\n",
    "# trace7 = go.Scatter(x=x, y=y7, mode='lines', name='O(n!)')\n",
    "\n",
    "# Layout\n",
    "layout = go.Layout(\n",
    "    title='Time Complexity Comparison',\n",
    "    xaxis=dict(title='Input Size', range=[1, 100]),  # Set the x-axis range to [1, 1000]\n",
    "    yaxis=dict(title='Time Complexity', range=[1, 100]),  # Set the y-axis range to [1, 1000]\n",
    ")\n",
    "\n",
    "# Create figure and add traces\n",
    "fig = go.Figure(data=[trace1, trace2, trace3, trace4, trace5, trace6], layout=layout)\n",
    "\n",
    "# Show the figure\n",
    "fig.show()"
   ]
  },
  {
   "cell_type": "code",
   "execution_count": 26,
   "metadata": {},
   "outputs": [
    {
     "data": {
      "application/vnd.plotly.v1+json": {
       "config": {
        "plotlyServerURL": "https://plot.ly"
       },
       "data": [
        {
         "fill": "tozeroy",
         "fillcolor": "rgba(0, 0, 255, 0.1)",
         "mode": "lines",
         "name": "O(1)",
         "type": "scatter",
         "x": [
          1,
          11.090909090909092,
          21.181818181818183,
          31.272727272727273,
          41.36363636363637,
          51.45454545454546,
          61.54545454545455,
          71.63636363636364,
          81.72727272727273,
          91.81818181818183,
          101.90909090909092,
          112.00000000000001,
          122.0909090909091,
          132.1818181818182,
          142.27272727272728,
          152.36363636363637,
          162.45454545454547,
          172.54545454545456,
          182.63636363636365,
          192.72727272727275,
          202.81818181818184,
          212.90909090909093,
          223.00000000000003,
          233.09090909090912,
          243.1818181818182,
          253.27272727272728,
          263.3636363636364,
          273.4545454545455,
          283.54545454545456,
          293.6363636363637,
          303.72727272727275,
          313.81818181818187,
          323.90909090909093,
          334,
          344.0909090909091,
          354.1818181818182,
          364.2727272727273,
          374.3636363636364,
          384.4545454545455,
          394.54545454545456,
          404.6363636363637,
          414.72727272727275,
          424.81818181818187,
          434.90909090909093,
          445.00000000000006,
          455.0909090909091,
          465.18181818181824,
          475.2727272727273,
          485.3636363636364,
          495.4545454545455,
          505.54545454545456,
          515.6363636363636,
          525.7272727272727,
          535.8181818181819,
          545.909090909091,
          556,
          566.0909090909091,
          576.1818181818182,
          586.2727272727274,
          596.3636363636364,
          606.4545454545455,
          616.5454545454546,
          626.6363636363637,
          636.7272727272727,
          646.8181818181819,
          656.909090909091,
          667,
          677.0909090909091,
          687.1818181818182,
          697.2727272727274,
          707.3636363636364,
          717.4545454545455,
          727.5454545454546,
          737.6363636363637,
          747.7272727272727,
          757.8181818181819,
          767.909090909091,
          778.0000000000001,
          788.0909090909091,
          798.1818181818182,
          808.2727272727274,
          818.3636363636364,
          828.4545454545455,
          838.5454545454546,
          848.6363636363637,
          858.7272727272727,
          868.8181818181819,
          878.909090909091,
          889.0000000000001,
          899.0909090909091,
          909.1818181818182,
          919.2727272727274,
          929.3636363636365,
          939.4545454545455,
          949.5454545454546,
          959.6363636363637,
          969.7272727272727,
          979.8181818181819,
          989.909090909091,
          1000
         ],
         "y": [
          1,
          1,
          1,
          1,
          1,
          1,
          1,
          1,
          1,
          1,
          1,
          1,
          1,
          1,
          1,
          1,
          1,
          1,
          1,
          1,
          1,
          1,
          1,
          1,
          1,
          1,
          1,
          1,
          1,
          1,
          1,
          1,
          1,
          1,
          1,
          1,
          1,
          1,
          1,
          1,
          1,
          1,
          1,
          1,
          1,
          1,
          1,
          1,
          1,
          1,
          1,
          1,
          1,
          1,
          1,
          1,
          1,
          1,
          1,
          1,
          1,
          1,
          1,
          1,
          1,
          1,
          1,
          1,
          1,
          1,
          1,
          1,
          1,
          1,
          1,
          1,
          1,
          1,
          1,
          1,
          1,
          1,
          1,
          1,
          1,
          1,
          1,
          1,
          1,
          1,
          1,
          1,
          1,
          1,
          1,
          1,
          1,
          1,
          1,
          1
         ]
        },
        {
         "fill": "tozeroy",
         "fillcolor": "rgba(255, 0, 0, 0.1)",
         "mode": "lines",
         "name": "O(n)",
         "type": "scatter",
         "x": [
          1,
          11.090909090909092,
          21.181818181818183,
          31.272727272727273,
          41.36363636363637,
          51.45454545454546,
          61.54545454545455,
          71.63636363636364,
          81.72727272727273,
          91.81818181818183,
          101.90909090909092,
          112.00000000000001,
          122.0909090909091,
          132.1818181818182,
          142.27272727272728,
          152.36363636363637,
          162.45454545454547,
          172.54545454545456,
          182.63636363636365,
          192.72727272727275,
          202.81818181818184,
          212.90909090909093,
          223.00000000000003,
          233.09090909090912,
          243.1818181818182,
          253.27272727272728,
          263.3636363636364,
          273.4545454545455,
          283.54545454545456,
          293.6363636363637,
          303.72727272727275,
          313.81818181818187,
          323.90909090909093,
          334,
          344.0909090909091,
          354.1818181818182,
          364.2727272727273,
          374.3636363636364,
          384.4545454545455,
          394.54545454545456,
          404.6363636363637,
          414.72727272727275,
          424.81818181818187,
          434.90909090909093,
          445.00000000000006,
          455.0909090909091,
          465.18181818181824,
          475.2727272727273,
          485.3636363636364,
          495.4545454545455,
          505.54545454545456,
          515.6363636363636,
          525.7272727272727,
          535.8181818181819,
          545.909090909091,
          556,
          566.0909090909091,
          576.1818181818182,
          586.2727272727274,
          596.3636363636364,
          606.4545454545455,
          616.5454545454546,
          626.6363636363637,
          636.7272727272727,
          646.8181818181819,
          656.909090909091,
          667,
          677.0909090909091,
          687.1818181818182,
          697.2727272727274,
          707.3636363636364,
          717.4545454545455,
          727.5454545454546,
          737.6363636363637,
          747.7272727272727,
          757.8181818181819,
          767.909090909091,
          778.0000000000001,
          788.0909090909091,
          798.1818181818182,
          808.2727272727274,
          818.3636363636364,
          828.4545454545455,
          838.5454545454546,
          848.6363636363637,
          858.7272727272727,
          868.8181818181819,
          878.909090909091,
          889.0000000000001,
          899.0909090909091,
          909.1818181818182,
          919.2727272727274,
          929.3636363636365,
          939.4545454545455,
          949.5454545454546,
          959.6363636363637,
          969.7272727272727,
          979.8181818181819,
          989.909090909091,
          1000
         ],
         "y": [
          1,
          11.090909090909092,
          21.181818181818183,
          31.272727272727273,
          41.36363636363637,
          51.45454545454546,
          61.54545454545455,
          71.63636363636364,
          81.72727272727273,
          91.81818181818183,
          101.90909090909092,
          112.00000000000001,
          122.0909090909091,
          132.1818181818182,
          142.27272727272728,
          152.36363636363637,
          162.45454545454547,
          172.54545454545456,
          182.63636363636365,
          192.72727272727275,
          202.81818181818184,
          212.90909090909093,
          223.00000000000003,
          233.09090909090912,
          243.1818181818182,
          253.27272727272728,
          263.3636363636364,
          273.4545454545455,
          283.54545454545456,
          293.6363636363637,
          303.72727272727275,
          313.81818181818187,
          323.90909090909093,
          334,
          344.0909090909091,
          354.1818181818182,
          364.2727272727273,
          374.3636363636364,
          384.4545454545455,
          394.54545454545456,
          404.6363636363637,
          414.72727272727275,
          424.81818181818187,
          434.90909090909093,
          445.00000000000006,
          455.0909090909091,
          465.18181818181824,
          475.2727272727273,
          485.3636363636364,
          495.4545454545455,
          505.54545454545456,
          515.6363636363636,
          525.7272727272727,
          535.8181818181819,
          545.909090909091,
          556,
          566.0909090909091,
          576.1818181818182,
          586.2727272727274,
          596.3636363636364,
          606.4545454545455,
          616.5454545454546,
          626.6363636363637,
          636.7272727272727,
          646.8181818181819,
          656.909090909091,
          667,
          677.0909090909091,
          687.1818181818182,
          697.2727272727274,
          707.3636363636364,
          717.4545454545455,
          727.5454545454546,
          737.6363636363637,
          747.7272727272727,
          757.8181818181819,
          767.909090909091,
          778.0000000000001,
          788.0909090909091,
          798.1818181818182,
          808.2727272727274,
          818.3636363636364,
          828.4545454545455,
          838.5454545454546,
          848.6363636363637,
          858.7272727272727,
          868.8181818181819,
          878.909090909091,
          889.0000000000001,
          899.0909090909091,
          909.1818181818182,
          919.2727272727274,
          929.3636363636365,
          939.4545454545455,
          949.5454545454546,
          959.6363636363637,
          969.7272727272727,
          979.8181818181819,
          989.909090909091,
          1000
         ]
        },
        {
         "fill": "tozeroy",
         "fillcolor": "rgba(0, 255, 0, 0.1)",
         "mode": "lines",
         "name": "O(log(n))",
         "type": "scatter",
         "x": [
          1,
          11.090909090909092,
          21.181818181818183,
          31.272727272727273,
          41.36363636363637,
          51.45454545454546,
          61.54545454545455,
          71.63636363636364,
          81.72727272727273,
          91.81818181818183,
          101.90909090909092,
          112.00000000000001,
          122.0909090909091,
          132.1818181818182,
          142.27272727272728,
          152.36363636363637,
          162.45454545454547,
          172.54545454545456,
          182.63636363636365,
          192.72727272727275,
          202.81818181818184,
          212.90909090909093,
          223.00000000000003,
          233.09090909090912,
          243.1818181818182,
          253.27272727272728,
          263.3636363636364,
          273.4545454545455,
          283.54545454545456,
          293.6363636363637,
          303.72727272727275,
          313.81818181818187,
          323.90909090909093,
          334,
          344.0909090909091,
          354.1818181818182,
          364.2727272727273,
          374.3636363636364,
          384.4545454545455,
          394.54545454545456,
          404.6363636363637,
          414.72727272727275,
          424.81818181818187,
          434.90909090909093,
          445.00000000000006,
          455.0909090909091,
          465.18181818181824,
          475.2727272727273,
          485.3636363636364,
          495.4545454545455,
          505.54545454545456,
          515.6363636363636,
          525.7272727272727,
          535.8181818181819,
          545.909090909091,
          556,
          566.0909090909091,
          576.1818181818182,
          586.2727272727274,
          596.3636363636364,
          606.4545454545455,
          616.5454545454546,
          626.6363636363637,
          636.7272727272727,
          646.8181818181819,
          656.909090909091,
          667,
          677.0909090909091,
          687.1818181818182,
          697.2727272727274,
          707.3636363636364,
          717.4545454545455,
          727.5454545454546,
          737.6363636363637,
          747.7272727272727,
          757.8181818181819,
          767.909090909091,
          778.0000000000001,
          788.0909090909091,
          798.1818181818182,
          808.2727272727274,
          818.3636363636364,
          828.4545454545455,
          838.5454545454546,
          848.6363636363637,
          858.7272727272727,
          868.8181818181819,
          878.909090909091,
          889.0000000000001,
          899.0909090909091,
          909.1818181818182,
          919.2727272727274,
          929.3636363636365,
          939.4545454545455,
          949.5454545454546,
          959.6363636363637,
          969.7272727272727,
          979.8181818181819,
          989.909090909091,
          1000
         ],
         "y": [
          0,
          2.406125771934886,
          3.05314318076733,
          3.442746384575028,
          3.72240214615258,
          3.9406988054048124,
          4.119776000113904,
          4.271602817059509,
          4.40338776167325,
          4.519810337036935,
          4.624081150273789,
          4.718498871295095,
          4.804765923724867,
          4.884178385295094,
          4.957745830175883,
          5.0262700082436575,
          5.090398242361058,
          5.150660706371503,
          5.207497092016564,
          5.2612760948676875,
          5.312309921634162,
          5.360865271359292,
          5.407171771460119,
          5.45142854524219,
          5.493809386531736,
          5.5344668815413804,
          5.57353572497098,
          5.61113541227136,
          5.647372443809433,
          5.682342143418332,
          5.716130169558386,
          5.748813779404948,
          5.780462892807465,
          5.811140992976701,
          5.840905893073178,
          5.869810391964055,
          5.8979028378377745,
          5.925227614789364,
          5.9518255646741185,
          5.97773435429608,
          6.002988796217484,
          6.027621130045963,
          6.0516612699020556,
          6.075137022832097,
          6.09807428216624,
          6.120497199193349,
          6.142428336006722,
          6.163888801945742,
          6.184898375701816,
          6.205475614858919,
          6.225637954389193,
          6.245401795413593,
          6.264782585359848,
          6.283794890499269,
          6.302452461715713,
          6.320768294250582,
          6.338754682074081,
          6.356423267452495,
          6.373785086212007,
          6.390850609139764,
          6.407629779911145,
          6.424132049887214,
          6.4403664100872815,
          6.456341420607372,
          6.472065237725582,
          6.487545638909215,
          6.502790045915623,
          6.517805546158533,
          6.532598912493806,
          6.547176621562931,
          6.56154487081856,
          6.5757095943441355,
          6.589676477568676,
          6.603450970968022,
          6.617038302835202,
          6.630443491194778,
          6.643671354929126,
          6.656726524178392,
          6.66961345007027,
          6.682336413830792,
          6.694899535322769,
          6.707306781054507,
          6.719561971697757,
          6.7316687891505245,
          6.743630783177452,
          6.755451377657692,
          6.767133876467809,
          6.7786814690250035,
          6.790097235513905,
          6.801384151818387,
          6.812545094178145,
          6.823582843588269,
          6.834500089958643,
          6.84529943604876,
          6.8559834011922955,
          6.8665544248248445,
          6.8770148698271125,
          6.887367025695071,
          6.897613111547691,
          6.907755278982137
         ]
        },
        {
         "fill": "tozeroy",
         "fillcolor": "rgba(255, 0, 255, 0.1)",
         "mode": "lines",
         "name": "O(n*log(n))",
         "type": "scatter",
         "x": [
          1,
          11.090909090909092,
          21.181818181818183,
          31.272727272727273,
          41.36363636363637,
          51.45454545454546,
          61.54545454545455,
          71.63636363636364,
          81.72727272727273,
          91.81818181818183,
          101.90909090909092,
          112.00000000000001,
          122.0909090909091,
          132.1818181818182,
          142.27272727272728,
          152.36363636363637,
          162.45454545454547,
          172.54545454545456,
          182.63636363636365,
          192.72727272727275,
          202.81818181818184,
          212.90909090909093,
          223.00000000000003,
          233.09090909090912,
          243.1818181818182,
          253.27272727272728,
          263.3636363636364,
          273.4545454545455,
          283.54545454545456,
          293.6363636363637,
          303.72727272727275,
          313.81818181818187,
          323.90909090909093,
          334,
          344.0909090909091,
          354.1818181818182,
          364.2727272727273,
          374.3636363636364,
          384.4545454545455,
          394.54545454545456,
          404.6363636363637,
          414.72727272727275,
          424.81818181818187,
          434.90909090909093,
          445.00000000000006,
          455.0909090909091,
          465.18181818181824,
          475.2727272727273,
          485.3636363636364,
          495.4545454545455,
          505.54545454545456,
          515.6363636363636,
          525.7272727272727,
          535.8181818181819,
          545.909090909091,
          556,
          566.0909090909091,
          576.1818181818182,
          586.2727272727274,
          596.3636363636364,
          606.4545454545455,
          616.5454545454546,
          626.6363636363637,
          636.7272727272727,
          646.8181818181819,
          656.909090909091,
          667,
          677.0909090909091,
          687.1818181818182,
          697.2727272727274,
          707.3636363636364,
          717.4545454545455,
          727.5454545454546,
          737.6363636363637,
          747.7272727272727,
          757.8181818181819,
          767.909090909091,
          778.0000000000001,
          788.0909090909091,
          798.1818181818182,
          808.2727272727274,
          818.3636363636364,
          828.4545454545455,
          838.5454545454546,
          848.6363636363637,
          858.7272727272727,
          868.8181818181819,
          878.909090909091,
          889.0000000000001,
          899.0909090909091,
          909.1818181818182,
          919.2727272727274,
          929.3636363636365,
          939.4545454545455,
          949.5454545454546,
          959.6363636363637,
          969.7272727272727,
          979.8181818181819,
          989.909090909091,
          1000
         ],
         "y": [
          0,
          26.686122197823284,
          64.67112373807163,
          107.66406875398269,
          153.9720887726749,
          202.76686580537492,
          253.55348655246485,
          306.00209271299025,
          359.87687252220474,
          415.00076730975496,
          471.2359063142653,
          528.4718735850507,
          586.6182395965906,
          645.5995792926425,
          705.3520203841143,
          765.8207758014883,
          826.9583326453828,
          888.723092790283,
          951.0783325328435,
          1013.9913928290454,
          1077.4330395605289,
          1141.376951411224,
          1205.7993050356067,
          1270.6784354546344,
          1335.9945553611267,
          1401.7295210885716,
          1467.8666359309937,
          1534.3904836465686,
          1601.2867865674202,
          1668.5422839310195,
          1736.1446269540515,
          1804.0822878641711,
          1872.344480643,
          1940.9210916542181,
          2009.8026186619984,
          2078.98011700836,
          2148.445151928724,
          2218.189756154782,
          2288.2063920915316,
          2358.4879179677264,
          2429.027557451275,
          2499.818872297244,
          2570.8557376593008,
          2642.1323197480683,
          2713.643055563977,
          2785.3826344692643,
          2857.345981395127,
          2929.5282415065763,
          3001.9247661701816,
          3074.531100089192,
          3147.342969487119,
          3220.3562712350817,
          3293.5670628305456,
          3366.9715531456995,
          3440.5660938729875,
          3514.3471716033237,
          3588.3114004795734,
          3662.4555153739925,
          3736.7763655437493,
          3811.27090872335,
          3885.9362056170226,
          3960.7694147577354,
          4035.7677877028764,
          4110.928664539458,
          4186.24946967432,
          4261.72770788709,
          4337.3609606257205,
          4413.14688252625,
          4489.083198140062,
          4565.167698853426,
          4641.398239985383,
          4717.772738051265,
          4794.289168180193,
          4870.945561675867,
          4947.740003710867,
          5024.6706311454245,
          5101.7356304623945,
          5178.9332358107895,
          5256.261727150834,
          5333.719428494032,
          5411.304706232249,
          5489.015967550244,
          5566.851658916515,
          5644.810264647676,
          5722.890305541957,
          5801.090337577687,
          5879.408950672987,
          5957.8447675030675,
          6036.396442371862,
          6115.062660134895,
          6193.842135170513,
          6272.73361039678,
          6351.735856331566,
          6430.847670193444,
          6510.06787504123,
          6589.395318950097,
          6668.828874222347,
          6748.367436631043,
          6828.009924694801,
          6907.755278982137
         ]
        },
        {
         "fill": "tozeroy",
         "fillcolor": "rgba(255, 255, 0, 0.1)",
         "mode": "lines",
         "name": "O(n**2)",
         "type": "scatter",
         "x": [
          1,
          11.090909090909092,
          21.181818181818183,
          31.272727272727273,
          41.36363636363637,
          51.45454545454546,
          61.54545454545455,
          71.63636363636364,
          81.72727272727273,
          91.81818181818183,
          101.90909090909092,
          112.00000000000001,
          122.0909090909091,
          132.1818181818182,
          142.27272727272728,
          152.36363636363637,
          162.45454545454547,
          172.54545454545456,
          182.63636363636365,
          192.72727272727275,
          202.81818181818184,
          212.90909090909093,
          223.00000000000003,
          233.09090909090912,
          243.1818181818182,
          253.27272727272728,
          263.3636363636364,
          273.4545454545455,
          283.54545454545456,
          293.6363636363637,
          303.72727272727275,
          313.81818181818187,
          323.90909090909093,
          334,
          344.0909090909091,
          354.1818181818182,
          364.2727272727273,
          374.3636363636364,
          384.4545454545455,
          394.54545454545456,
          404.6363636363637,
          414.72727272727275,
          424.81818181818187,
          434.90909090909093,
          445.00000000000006,
          455.0909090909091,
          465.18181818181824,
          475.2727272727273,
          485.3636363636364,
          495.4545454545455,
          505.54545454545456,
          515.6363636363636,
          525.7272727272727,
          535.8181818181819,
          545.909090909091,
          556,
          566.0909090909091,
          576.1818181818182,
          586.2727272727274,
          596.3636363636364,
          606.4545454545455,
          616.5454545454546,
          626.6363636363637,
          636.7272727272727,
          646.8181818181819,
          656.909090909091,
          667,
          677.0909090909091,
          687.1818181818182,
          697.2727272727274,
          707.3636363636364,
          717.4545454545455,
          727.5454545454546,
          737.6363636363637,
          747.7272727272727,
          757.8181818181819,
          767.909090909091,
          778.0000000000001,
          788.0909090909091,
          798.1818181818182,
          808.2727272727274,
          818.3636363636364,
          828.4545454545455,
          838.5454545454546,
          848.6363636363637,
          858.7272727272727,
          868.8181818181819,
          878.909090909091,
          889.0000000000001,
          899.0909090909091,
          909.1818181818182,
          919.2727272727274,
          929.3636363636365,
          939.4545454545455,
          949.5454545454546,
          959.6363636363637,
          969.7272727272727,
          979.8181818181819,
          989.909090909091,
          1000
         ],
         "y": [
          1,
          123.00826446280993,
          448.66942148760336,
          977.9834710743802,
          1710.9504132231407,
          2647.5702479338847,
          3787.8429752066118,
          5131.768595041322,
          6679.347107438018,
          8430.578512396696,
          10385.462809917357,
          12544.000000000004,
          14906.190082644629,
          17472.03305785124,
          20241.528925619838,
          23214.677685950417,
          26391.47933884298,
          29771.933884297527,
          33356.04132231406,
          37143.80165289257,
          41135.21487603307,
          45330.28099173555,
          49729.000000000015,
          54331.37190082646,
          59137.396694214876,
          64147.07438016529,
          69360.4049586777,
          74777.38842975209,
          80398.02479338844,
          86222.3140495868,
          92250.25619834712,
          98481.85123966946,
          104917.09917355374,
          111556,
          118398.55371900828,
          125444.76033057852,
          132694.61983471076,
          140148.13223140498,
          147805.2975206612,
          155666.11570247935,
          163730.58677685953,
          171998.71074380167,
          180470.48760330584,
          189145.91735537193,
          198025.00000000006,
          207107.7355371901,
          216394.1239669422,
          225884.16528925623,
          235577.85950413224,
          245475.2066115703,
          255576.20661157026,
          265880.85950413224,
          276389.1652892562,
          287101.1239669422,
          298016.73553719016,
          309136,
          320458.91735537193,
          331985.48760330584,
          343715.7107438018,
          355649.58677685953,
          367787.1157024794,
          380128.29752066126,
          392673.13223140506,
          405421.6198347108,
          418373.7603305786,
          431529.5537190084,
          444889,
          458452.09917355375,
          472218.8512396695,
          486189.25619834726,
          500363.31404958677,
          514741.0247933885,
          529322.3884297522,
          544107.4049586778,
          559096.0743801653,
          574288.3966942149,
          589684.3719008266,
          605284.0000000002,
          621087.2809917356,
          637094.2148760331,
          653304.8016528927,
          669719.0413223141,
          686336.9338842976,
          703158.4793388431,
          720183.6776859505,
          737412.5289256199,
          754845.0330578514,
          772481.1900826448,
          790321.0000000002,
          808364.4628099174,
          826611.5785123968,
          845062.3471074381,
          863716.7685950416,
          882574.8429752067,
          901636.570247934,
          920901.9504132234,
          940370.9834710744,
          960043.6694214877,
          979920.0082644629,
          1000000
         ]
        },
        {
         "fill": "tozeroy",
         "fillcolor": "rgba(0, 255, 255, 0.1)",
         "mode": "lines",
         "name": "O(2**n)",
         "type": "scatter",
         "x": [
          1,
          11.090909090909092,
          21.181818181818183,
          31.272727272727273,
          41.36363636363637,
          51.45454545454546,
          61.54545454545455,
          71.63636363636364,
          81.72727272727273,
          91.81818181818183,
          101.90909090909092,
          112.00000000000001,
          122.0909090909091,
          132.1818181818182,
          142.27272727272728,
          152.36363636363637,
          162.45454545454547,
          172.54545454545456,
          182.63636363636365,
          192.72727272727275,
          202.81818181818184,
          212.90909090909093,
          223.00000000000003,
          233.09090909090912,
          243.1818181818182,
          253.27272727272728,
          263.3636363636364,
          273.4545454545455,
          283.54545454545456,
          293.6363636363637,
          303.72727272727275,
          313.81818181818187,
          323.90909090909093,
          334,
          344.0909090909091,
          354.1818181818182,
          364.2727272727273,
          374.3636363636364,
          384.4545454545455,
          394.54545454545456,
          404.6363636363637,
          414.72727272727275,
          424.81818181818187,
          434.90909090909093,
          445.00000000000006,
          455.0909090909091,
          465.18181818181824,
          475.2727272727273,
          485.3636363636364,
          495.4545454545455,
          505.54545454545456,
          515.6363636363636,
          525.7272727272727,
          535.8181818181819,
          545.909090909091,
          556,
          566.0909090909091,
          576.1818181818182,
          586.2727272727274,
          596.3636363636364,
          606.4545454545455,
          616.5454545454546,
          626.6363636363637,
          636.7272727272727,
          646.8181818181819,
          656.909090909091,
          667,
          677.0909090909091,
          687.1818181818182,
          697.2727272727274,
          707.3636363636364,
          717.4545454545455,
          727.5454545454546,
          737.6363636363637,
          747.7272727272727,
          757.8181818181819,
          767.909090909091,
          778.0000000000001,
          788.0909090909091,
          798.1818181818182,
          808.2727272727274,
          818.3636363636364,
          828.4545454545455,
          838.5454545454546,
          848.6363636363637,
          858.7272727272727,
          868.8181818181819,
          878.909090909091,
          889.0000000000001,
          899.0909090909091,
          909.1818181818182,
          919.2727272727274,
          929.3636363636365,
          939.4545454545455,
          949.5454545454546,
          959.6363636363637,
          969.7272727272727,
          979.8181818181819,
          989.909090909091,
          1000
         ],
         "y": [
          2,
          2181.204151173045,
          2378825.774547261,
          2594352327.179957,
          2829406032825.189,
          3085756092076183,
          3365331998772029000,
          3.670238062898519e+21,
          4.0027692492937877e+24,
          4.365428451373716e+27,
          4.760945329892639e+30,
          5.192296858534878e+33,
          5.66272973097947e+36,
          6.175784798091727e+39,
          6.735323719174538e+42,
          7.345558027878896e+45,
          8.011080831545976e+48,
          8.736901382575455e+51,
          9.52848278203156e+54,
          1.0391783099274074e+58,
          1.1333300217113263e+61,
          1.2360120740028925e+64,
          1.3479973333575586e+67,
          1.4701286896448525e+70,
          1.603325400305941e+73,
          1.7485900094142533e+76,
          1.9070158936170437e+79,
          2.079795491755278e+82,
          2.2682292801037565e+85,
          2.473735560787332e+88,
          2.6978611370468044e+91,
          2.9422929557075217e+94,
          3.208870804478168e+97,
          3.499601159652819e+100,
          3.816672288442445e+103,
          4.162470719608816e+106,
          4.539599206373595e+109,
          4.9508963168018816e+112,
          5.399457799117914e+115,
          5.888659882759724e+118,
          6.422184690560977e+121,
          7.00404795332566e+124,
          7.638629235404659e+127,
          8.330704898768058e+130,
          9.085484053695443e+133,
          9.90864776666832e+136,
          1.0806391820584454e+140,
          1.1785473349130408e+143,
          1.285326169633103e+146,
          1.4017793884075659e+149,
          1.5287835105116691e+152,
          1.6672944696864455e+155,
          1.8183548092540057e+158,
          1.983101529125195e+161,
          2.1627746437627895e+164,
          2.3587265155134633e+167,
          2.5724320335600025e+170,
          2.805499715105856e+173,
          3.059683812351908e+176,
          3.3368975163892816e+179,
          3.639227357393738e+182,
          3.968948909504949e+185,
          4.3285439186030525e+188,
          4.720718981895635e+191,
          5.148425919916182e+194,
          5.6148839942641565e+197,
          6.123604138321678e+200,
          6.67841538332398e+203,
          7.283493678682245e+206,
          7.943393323492338e+209,
          8.663081245800368e+212,
          9.447974387644754e+215,
          1.0303980477253888e+219,
          1.1237542495296331e+222,
          1.2255687169861217e+225,
          1.3366077865190035e+228,
          1.4577072262227632e+231,
          1.5897785265160513e+234,
          1.7338157607411883e+237,
          1.8909030673490048e+240,
          2.0622228099837896e+243,
          2.2490644768900615e+246,
          2.4528343866242685e+249,
          2.675066273122478e+252,
          2.9174328297989384e+255,
          3.1817582995627996e+258,
          3.470032205517906e+261,
          3.7844243256899855e+264,
          4.12730102449771e+267,
          4.501243063887322e+270,
          4.909065028195054e+273,
          5.353836508938848e+276,
          5.83890520899973e+279,
          6.367922140087695e+282,
          6.944869103153156e+285,
          7.5740886585757e+288,
          8.26031681171852e+291,
          9.008718659862651e+294,
          9.824927268821447e+297,
          1.0715086071862673e+301
         ]
        }
       ],
       "layout": {
        "template": {
         "data": {
          "bar": [
           {
            "error_x": {
             "color": "#2a3f5f"
            },
            "error_y": {
             "color": "#2a3f5f"
            },
            "marker": {
             "line": {
              "color": "#E5ECF6",
              "width": 0.5
             },
             "pattern": {
              "fillmode": "overlay",
              "size": 10,
              "solidity": 0.2
             }
            },
            "type": "bar"
           }
          ],
          "barpolar": [
           {
            "marker": {
             "line": {
              "color": "#E5ECF6",
              "width": 0.5
             },
             "pattern": {
              "fillmode": "overlay",
              "size": 10,
              "solidity": 0.2
             }
            },
            "type": "barpolar"
           }
          ],
          "carpet": [
           {
            "aaxis": {
             "endlinecolor": "#2a3f5f",
             "gridcolor": "white",
             "linecolor": "white",
             "minorgridcolor": "white",
             "startlinecolor": "#2a3f5f"
            },
            "baxis": {
             "endlinecolor": "#2a3f5f",
             "gridcolor": "white",
             "linecolor": "white",
             "minorgridcolor": "white",
             "startlinecolor": "#2a3f5f"
            },
            "type": "carpet"
           }
          ],
          "choropleth": [
           {
            "colorbar": {
             "outlinewidth": 0,
             "ticks": ""
            },
            "type": "choropleth"
           }
          ],
          "contour": [
           {
            "colorbar": {
             "outlinewidth": 0,
             "ticks": ""
            },
            "colorscale": [
             [
              0,
              "#0d0887"
             ],
             [
              0.1111111111111111,
              "#46039f"
             ],
             [
              0.2222222222222222,
              "#7201a8"
             ],
             [
              0.3333333333333333,
              "#9c179e"
             ],
             [
              0.4444444444444444,
              "#bd3786"
             ],
             [
              0.5555555555555556,
              "#d8576b"
             ],
             [
              0.6666666666666666,
              "#ed7953"
             ],
             [
              0.7777777777777778,
              "#fb9f3a"
             ],
             [
              0.8888888888888888,
              "#fdca26"
             ],
             [
              1,
              "#f0f921"
             ]
            ],
            "type": "contour"
           }
          ],
          "contourcarpet": [
           {
            "colorbar": {
             "outlinewidth": 0,
             "ticks": ""
            },
            "type": "contourcarpet"
           }
          ],
          "heatmap": [
           {
            "colorbar": {
             "outlinewidth": 0,
             "ticks": ""
            },
            "colorscale": [
             [
              0,
              "#0d0887"
             ],
             [
              0.1111111111111111,
              "#46039f"
             ],
             [
              0.2222222222222222,
              "#7201a8"
             ],
             [
              0.3333333333333333,
              "#9c179e"
             ],
             [
              0.4444444444444444,
              "#bd3786"
             ],
             [
              0.5555555555555556,
              "#d8576b"
             ],
             [
              0.6666666666666666,
              "#ed7953"
             ],
             [
              0.7777777777777778,
              "#fb9f3a"
             ],
             [
              0.8888888888888888,
              "#fdca26"
             ],
             [
              1,
              "#f0f921"
             ]
            ],
            "type": "heatmap"
           }
          ],
          "heatmapgl": [
           {
            "colorbar": {
             "outlinewidth": 0,
             "ticks": ""
            },
            "colorscale": [
             [
              0,
              "#0d0887"
             ],
             [
              0.1111111111111111,
              "#46039f"
             ],
             [
              0.2222222222222222,
              "#7201a8"
             ],
             [
              0.3333333333333333,
              "#9c179e"
             ],
             [
              0.4444444444444444,
              "#bd3786"
             ],
             [
              0.5555555555555556,
              "#d8576b"
             ],
             [
              0.6666666666666666,
              "#ed7953"
             ],
             [
              0.7777777777777778,
              "#fb9f3a"
             ],
             [
              0.8888888888888888,
              "#fdca26"
             ],
             [
              1,
              "#f0f921"
             ]
            ],
            "type": "heatmapgl"
           }
          ],
          "histogram": [
           {
            "marker": {
             "pattern": {
              "fillmode": "overlay",
              "size": 10,
              "solidity": 0.2
             }
            },
            "type": "histogram"
           }
          ],
          "histogram2d": [
           {
            "colorbar": {
             "outlinewidth": 0,
             "ticks": ""
            },
            "colorscale": [
             [
              0,
              "#0d0887"
             ],
             [
              0.1111111111111111,
              "#46039f"
             ],
             [
              0.2222222222222222,
              "#7201a8"
             ],
             [
              0.3333333333333333,
              "#9c179e"
             ],
             [
              0.4444444444444444,
              "#bd3786"
             ],
             [
              0.5555555555555556,
              "#d8576b"
             ],
             [
              0.6666666666666666,
              "#ed7953"
             ],
             [
              0.7777777777777778,
              "#fb9f3a"
             ],
             [
              0.8888888888888888,
              "#fdca26"
             ],
             [
              1,
              "#f0f921"
             ]
            ],
            "type": "histogram2d"
           }
          ],
          "histogram2dcontour": [
           {
            "colorbar": {
             "outlinewidth": 0,
             "ticks": ""
            },
            "colorscale": [
             [
              0,
              "#0d0887"
             ],
             [
              0.1111111111111111,
              "#46039f"
             ],
             [
              0.2222222222222222,
              "#7201a8"
             ],
             [
              0.3333333333333333,
              "#9c179e"
             ],
             [
              0.4444444444444444,
              "#bd3786"
             ],
             [
              0.5555555555555556,
              "#d8576b"
             ],
             [
              0.6666666666666666,
              "#ed7953"
             ],
             [
              0.7777777777777778,
              "#fb9f3a"
             ],
             [
              0.8888888888888888,
              "#fdca26"
             ],
             [
              1,
              "#f0f921"
             ]
            ],
            "type": "histogram2dcontour"
           }
          ],
          "mesh3d": [
           {
            "colorbar": {
             "outlinewidth": 0,
             "ticks": ""
            },
            "type": "mesh3d"
           }
          ],
          "parcoords": [
           {
            "line": {
             "colorbar": {
              "outlinewidth": 0,
              "ticks": ""
             }
            },
            "type": "parcoords"
           }
          ],
          "pie": [
           {
            "automargin": true,
            "type": "pie"
           }
          ],
          "scatter": [
           {
            "fillpattern": {
             "fillmode": "overlay",
             "size": 10,
             "solidity": 0.2
            },
            "type": "scatter"
           }
          ],
          "scatter3d": [
           {
            "line": {
             "colorbar": {
              "outlinewidth": 0,
              "ticks": ""
             }
            },
            "marker": {
             "colorbar": {
              "outlinewidth": 0,
              "ticks": ""
             }
            },
            "type": "scatter3d"
           }
          ],
          "scattercarpet": [
           {
            "marker": {
             "colorbar": {
              "outlinewidth": 0,
              "ticks": ""
             }
            },
            "type": "scattercarpet"
           }
          ],
          "scattergeo": [
           {
            "marker": {
             "colorbar": {
              "outlinewidth": 0,
              "ticks": ""
             }
            },
            "type": "scattergeo"
           }
          ],
          "scattergl": [
           {
            "marker": {
             "colorbar": {
              "outlinewidth": 0,
              "ticks": ""
             }
            },
            "type": "scattergl"
           }
          ],
          "scattermapbox": [
           {
            "marker": {
             "colorbar": {
              "outlinewidth": 0,
              "ticks": ""
             }
            },
            "type": "scattermapbox"
           }
          ],
          "scatterpolar": [
           {
            "marker": {
             "colorbar": {
              "outlinewidth": 0,
              "ticks": ""
             }
            },
            "type": "scatterpolar"
           }
          ],
          "scatterpolargl": [
           {
            "marker": {
             "colorbar": {
              "outlinewidth": 0,
              "ticks": ""
             }
            },
            "type": "scatterpolargl"
           }
          ],
          "scatterternary": [
           {
            "marker": {
             "colorbar": {
              "outlinewidth": 0,
              "ticks": ""
             }
            },
            "type": "scatterternary"
           }
          ],
          "surface": [
           {
            "colorbar": {
             "outlinewidth": 0,
             "ticks": ""
            },
            "colorscale": [
             [
              0,
              "#0d0887"
             ],
             [
              0.1111111111111111,
              "#46039f"
             ],
             [
              0.2222222222222222,
              "#7201a8"
             ],
             [
              0.3333333333333333,
              "#9c179e"
             ],
             [
              0.4444444444444444,
              "#bd3786"
             ],
             [
              0.5555555555555556,
              "#d8576b"
             ],
             [
              0.6666666666666666,
              "#ed7953"
             ],
             [
              0.7777777777777778,
              "#fb9f3a"
             ],
             [
              0.8888888888888888,
              "#fdca26"
             ],
             [
              1,
              "#f0f921"
             ]
            ],
            "type": "surface"
           }
          ],
          "table": [
           {
            "cells": {
             "fill": {
              "color": "#EBF0F8"
             },
             "line": {
              "color": "white"
             }
            },
            "header": {
             "fill": {
              "color": "#C8D4E3"
             },
             "line": {
              "color": "white"
             }
            },
            "type": "table"
           }
          ]
         },
         "layout": {
          "annotationdefaults": {
           "arrowcolor": "#2a3f5f",
           "arrowhead": 0,
           "arrowwidth": 1
          },
          "autotypenumbers": "strict",
          "coloraxis": {
           "colorbar": {
            "outlinewidth": 0,
            "ticks": ""
           }
          },
          "colorscale": {
           "diverging": [
            [
             0,
             "#8e0152"
            ],
            [
             0.1,
             "#c51b7d"
            ],
            [
             0.2,
             "#de77ae"
            ],
            [
             0.3,
             "#f1b6da"
            ],
            [
             0.4,
             "#fde0ef"
            ],
            [
             0.5,
             "#f7f7f7"
            ],
            [
             0.6,
             "#e6f5d0"
            ],
            [
             0.7,
             "#b8e186"
            ],
            [
             0.8,
             "#7fbc41"
            ],
            [
             0.9,
             "#4d9221"
            ],
            [
             1,
             "#276419"
            ]
           ],
           "sequential": [
            [
             0,
             "#0d0887"
            ],
            [
             0.1111111111111111,
             "#46039f"
            ],
            [
             0.2222222222222222,
             "#7201a8"
            ],
            [
             0.3333333333333333,
             "#9c179e"
            ],
            [
             0.4444444444444444,
             "#bd3786"
            ],
            [
             0.5555555555555556,
             "#d8576b"
            ],
            [
             0.6666666666666666,
             "#ed7953"
            ],
            [
             0.7777777777777778,
             "#fb9f3a"
            ],
            [
             0.8888888888888888,
             "#fdca26"
            ],
            [
             1,
             "#f0f921"
            ]
           ],
           "sequentialminus": [
            [
             0,
             "#0d0887"
            ],
            [
             0.1111111111111111,
             "#46039f"
            ],
            [
             0.2222222222222222,
             "#7201a8"
            ],
            [
             0.3333333333333333,
             "#9c179e"
            ],
            [
             0.4444444444444444,
             "#bd3786"
            ],
            [
             0.5555555555555556,
             "#d8576b"
            ],
            [
             0.6666666666666666,
             "#ed7953"
            ],
            [
             0.7777777777777778,
             "#fb9f3a"
            ],
            [
             0.8888888888888888,
             "#fdca26"
            ],
            [
             1,
             "#f0f921"
            ]
           ]
          },
          "colorway": [
           "#636efa",
           "#EF553B",
           "#00cc96",
           "#ab63fa",
           "#FFA15A",
           "#19d3f3",
           "#FF6692",
           "#B6E880",
           "#FF97FF",
           "#FECB52"
          ],
          "font": {
           "color": "#2a3f5f"
          },
          "geo": {
           "bgcolor": "white",
           "lakecolor": "white",
           "landcolor": "#E5ECF6",
           "showlakes": true,
           "showland": true,
           "subunitcolor": "white"
          },
          "hoverlabel": {
           "align": "left"
          },
          "hovermode": "closest",
          "mapbox": {
           "style": "light"
          },
          "paper_bgcolor": "white",
          "plot_bgcolor": "#E5ECF6",
          "polar": {
           "angularaxis": {
            "gridcolor": "white",
            "linecolor": "white",
            "ticks": ""
           },
           "bgcolor": "#E5ECF6",
           "radialaxis": {
            "gridcolor": "white",
            "linecolor": "white",
            "ticks": ""
           }
          },
          "scene": {
           "xaxis": {
            "backgroundcolor": "#E5ECF6",
            "gridcolor": "white",
            "gridwidth": 2,
            "linecolor": "white",
            "showbackground": true,
            "ticks": "",
            "zerolinecolor": "white"
           },
           "yaxis": {
            "backgroundcolor": "#E5ECF6",
            "gridcolor": "white",
            "gridwidth": 2,
            "linecolor": "white",
            "showbackground": true,
            "ticks": "",
            "zerolinecolor": "white"
           },
           "zaxis": {
            "backgroundcolor": "#E5ECF6",
            "gridcolor": "white",
            "gridwidth": 2,
            "linecolor": "white",
            "showbackground": true,
            "ticks": "",
            "zerolinecolor": "white"
           }
          },
          "shapedefaults": {
           "line": {
            "color": "#2a3f5f"
           }
          },
          "ternary": {
           "aaxis": {
            "gridcolor": "white",
            "linecolor": "white",
            "ticks": ""
           },
           "baxis": {
            "gridcolor": "white",
            "linecolor": "white",
            "ticks": ""
           },
           "bgcolor": "#E5ECF6",
           "caxis": {
            "gridcolor": "white",
            "linecolor": "white",
            "ticks": ""
           }
          },
          "title": {
           "x": 0.05
          },
          "xaxis": {
           "automargin": true,
           "gridcolor": "white",
           "linecolor": "white",
           "ticks": "",
           "title": {
            "standoff": 15
           },
           "zerolinecolor": "white",
           "zerolinewidth": 2
          },
          "yaxis": {
           "automargin": true,
           "gridcolor": "white",
           "linecolor": "white",
           "ticks": "",
           "title": {
            "standoff": 15
           },
           "zerolinecolor": "white",
           "zerolinewidth": 2
          }
         }
        },
        "title": {
         "text": "Time Complexity Comparison"
        },
        "xaxis": {
         "range": [
          1,
          100
         ],
         "title": {
          "text": "Input Size"
         }
        },
        "yaxis": {
         "range": [
          1,
          100
         ],
         "title": {
          "text": "Time Complexity"
         }
        }
       }
      }
     },
     "metadata": {},
     "output_type": "display_data"
    }
   ],
   "source": [
    "# Input size\n",
    "x = np.linspace(1, 1000, 100)\n",
    "\n",
    "# Time complexities\n",
    "y1 = np.ones_like(x)  # O(1)\n",
    "y2 = x  # O(n)\n",
    "y3 = np.log(x)  # O(log(n))\n",
    "y4 = x * np.log(x)  # O(n*log(n))\n",
    "y5 = x**2  # O(n^2)\n",
    "y6 = 2**x  # O(2^n)\n",
    "# y7 = [math.factorial(int(n)) for n in x]  # O(n!)\n",
    "\n",
    "# Create traces\n",
    "trace1 = go.Scatter(x=x, y=y1, mode='lines', name='O(1)', fill='tozeroy', fillcolor='rgba(0, 0, 255, 0.1)')\n",
    "trace2 = go.Scatter(x=x, y=y2, mode='lines', name='O(n)', fill='tozeroy', fillcolor='rgba(255, 0, 0, 0.1)')\n",
    "trace3 = go.Scatter(x=x, y=y3, mode='lines', name='O(log(n))', fill='tozeroy', fillcolor='rgba(0, 255, 0, 0.1)')\n",
    "trace4 = go.Scatter(x=x, y=y4, mode='lines', name='O(n*log(n))', fill='tozeroy', fillcolor='rgba(255, 0, 255, 0.1)')\n",
    "trace5 = go.Scatter(x=x, y=y5, mode='lines', name='O(n**2)', fill='tozeroy', fillcolor='rgba(255, 255, 0, 0.1)')\n",
    "trace6 = go.Scatter(x=x, y=y6, mode='lines', name='O(2**n)', fill='tozeroy', fillcolor='rgba(0, 255, 255, 0.1)')\n",
    "# trace7 = go.Scatter(x=x, y=y7, mode='lines', name='O(n!)')\n",
    "\n",
    "# Layout\n",
    "layout = go.Layout(\n",
    "    title='Time Complexity Comparison',\n",
    "    xaxis=dict(title='Input Size', range=[1, 100]),  # Set the x-axis range to [1, 1000]\n",
    "    yaxis=dict(title='Time Complexity', range=[1, 100]),  # Set the y-axis range to [1, 1000]\n",
    ")\n",
    "\n",
    "# Create figure and add traces\n",
    "base_graph = go.Figure(data=[trace1, trace2, trace3, trace4, trace5, trace6], layout=layout)\n",
    "\n",
    "# Show the figure\n",
    "base_graph.show()"
   ]
  },
  {
   "cell_type": "code",
   "execution_count": 27,
   "metadata": {},
   "outputs": [
    {
     "name": "stderr",
     "output_type": "stream",
     "text": [
      "C:\\Users\\samin\\AppData\\Local\\Temp\\ipykernel_17956\\4031251738.py:18: RuntimeWarning:\n",
      "\n",
      "divide by zero encountered in log\n",
      "\n"
     ]
    },
    {
     "data": {
      "application/vnd.plotly.v1+json": {
       "config": {
        "plotlyServerURL": "https://plot.ly"
       },
       "data": [
        {
         "fill": "tozeroy",
         "fillcolor": "rgba(0, 0, 255, 0.1)",
         "mode": "lines",
         "name": "O(1)",
         "type": "scatter",
         "x": [
          1,
          11.090909090909092,
          21.181818181818183,
          31.272727272727273,
          41.36363636363637,
          51.45454545454546,
          61.54545454545455,
          71.63636363636364,
          81.72727272727273,
          91.81818181818183,
          101.90909090909092,
          112.00000000000001,
          122.0909090909091,
          132.1818181818182,
          142.27272727272728,
          152.36363636363637,
          162.45454545454547,
          172.54545454545456,
          182.63636363636365,
          192.72727272727275,
          202.81818181818184,
          212.90909090909093,
          223.00000000000003,
          233.09090909090912,
          243.1818181818182,
          253.27272727272728,
          263.3636363636364,
          273.4545454545455,
          283.54545454545456,
          293.6363636363637,
          303.72727272727275,
          313.81818181818187,
          323.90909090909093,
          334,
          344.0909090909091,
          354.1818181818182,
          364.2727272727273,
          374.3636363636364,
          384.4545454545455,
          394.54545454545456,
          404.6363636363637,
          414.72727272727275,
          424.81818181818187,
          434.90909090909093,
          445.00000000000006,
          455.0909090909091,
          465.18181818181824,
          475.2727272727273,
          485.3636363636364,
          495.4545454545455,
          505.54545454545456,
          515.6363636363636,
          525.7272727272727,
          535.8181818181819,
          545.909090909091,
          556,
          566.0909090909091,
          576.1818181818182,
          586.2727272727274,
          596.3636363636364,
          606.4545454545455,
          616.5454545454546,
          626.6363636363637,
          636.7272727272727,
          646.8181818181819,
          656.909090909091,
          667,
          677.0909090909091,
          687.1818181818182,
          697.2727272727274,
          707.3636363636364,
          717.4545454545455,
          727.5454545454546,
          737.6363636363637,
          747.7272727272727,
          757.8181818181819,
          767.909090909091,
          778.0000000000001,
          788.0909090909091,
          798.1818181818182,
          808.2727272727274,
          818.3636363636364,
          828.4545454545455,
          838.5454545454546,
          848.6363636363637,
          858.7272727272727,
          868.8181818181819,
          878.909090909091,
          889.0000000000001,
          899.0909090909091,
          909.1818181818182,
          919.2727272727274,
          929.3636363636365,
          939.4545454545455,
          949.5454545454546,
          959.6363636363637,
          969.7272727272727,
          979.8181818181819,
          989.909090909091,
          1000
         ],
         "y": [
          1,
          1,
          1,
          1,
          1,
          1,
          1,
          1,
          1,
          1,
          1,
          1,
          1,
          1,
          1,
          1,
          1,
          1,
          1,
          1,
          1,
          1,
          1,
          1,
          1,
          1,
          1,
          1,
          1,
          1,
          1,
          1,
          1,
          1,
          1,
          1,
          1,
          1,
          1,
          1,
          1,
          1,
          1,
          1,
          1,
          1,
          1,
          1,
          1,
          1,
          1,
          1,
          1,
          1,
          1,
          1,
          1,
          1,
          1,
          1,
          1,
          1,
          1,
          1,
          1,
          1,
          1,
          1,
          1,
          1,
          1,
          1,
          1,
          1,
          1,
          1,
          1,
          1,
          1,
          1,
          1,
          1,
          1,
          1,
          1,
          1,
          1,
          1,
          1,
          1,
          1,
          1,
          1,
          1,
          1,
          1,
          1,
          1,
          1,
          1
         ]
        },
        {
         "fill": "tozeroy",
         "fillcolor": "rgba(255, 0, 0, 0.1)",
         "mode": "lines",
         "name": "O(n)",
         "type": "scatter",
         "x": [
          1,
          11.090909090909092,
          21.181818181818183,
          31.272727272727273,
          41.36363636363637,
          51.45454545454546,
          61.54545454545455,
          71.63636363636364,
          81.72727272727273,
          91.81818181818183,
          101.90909090909092,
          112.00000000000001,
          122.0909090909091,
          132.1818181818182,
          142.27272727272728,
          152.36363636363637,
          162.45454545454547,
          172.54545454545456,
          182.63636363636365,
          192.72727272727275,
          202.81818181818184,
          212.90909090909093,
          223.00000000000003,
          233.09090909090912,
          243.1818181818182,
          253.27272727272728,
          263.3636363636364,
          273.4545454545455,
          283.54545454545456,
          293.6363636363637,
          303.72727272727275,
          313.81818181818187,
          323.90909090909093,
          334,
          344.0909090909091,
          354.1818181818182,
          364.2727272727273,
          374.3636363636364,
          384.4545454545455,
          394.54545454545456,
          404.6363636363637,
          414.72727272727275,
          424.81818181818187,
          434.90909090909093,
          445.00000000000006,
          455.0909090909091,
          465.18181818181824,
          475.2727272727273,
          485.3636363636364,
          495.4545454545455,
          505.54545454545456,
          515.6363636363636,
          525.7272727272727,
          535.8181818181819,
          545.909090909091,
          556,
          566.0909090909091,
          576.1818181818182,
          586.2727272727274,
          596.3636363636364,
          606.4545454545455,
          616.5454545454546,
          626.6363636363637,
          636.7272727272727,
          646.8181818181819,
          656.909090909091,
          667,
          677.0909090909091,
          687.1818181818182,
          697.2727272727274,
          707.3636363636364,
          717.4545454545455,
          727.5454545454546,
          737.6363636363637,
          747.7272727272727,
          757.8181818181819,
          767.909090909091,
          778.0000000000001,
          788.0909090909091,
          798.1818181818182,
          808.2727272727274,
          818.3636363636364,
          828.4545454545455,
          838.5454545454546,
          848.6363636363637,
          858.7272727272727,
          868.8181818181819,
          878.909090909091,
          889.0000000000001,
          899.0909090909091,
          909.1818181818182,
          919.2727272727274,
          929.3636363636365,
          939.4545454545455,
          949.5454545454546,
          959.6363636363637,
          969.7272727272727,
          979.8181818181819,
          989.909090909091,
          1000
         ],
         "y": [
          1,
          11.090909090909092,
          21.181818181818183,
          31.272727272727273,
          41.36363636363637,
          51.45454545454546,
          61.54545454545455,
          71.63636363636364,
          81.72727272727273,
          91.81818181818183,
          101.90909090909092,
          112.00000000000001,
          122.0909090909091,
          132.1818181818182,
          142.27272727272728,
          152.36363636363637,
          162.45454545454547,
          172.54545454545456,
          182.63636363636365,
          192.72727272727275,
          202.81818181818184,
          212.90909090909093,
          223.00000000000003,
          233.09090909090912,
          243.1818181818182,
          253.27272727272728,
          263.3636363636364,
          273.4545454545455,
          283.54545454545456,
          293.6363636363637,
          303.72727272727275,
          313.81818181818187,
          323.90909090909093,
          334,
          344.0909090909091,
          354.1818181818182,
          364.2727272727273,
          374.3636363636364,
          384.4545454545455,
          394.54545454545456,
          404.6363636363637,
          414.72727272727275,
          424.81818181818187,
          434.90909090909093,
          445.00000000000006,
          455.0909090909091,
          465.18181818181824,
          475.2727272727273,
          485.3636363636364,
          495.4545454545455,
          505.54545454545456,
          515.6363636363636,
          525.7272727272727,
          535.8181818181819,
          545.909090909091,
          556,
          566.0909090909091,
          576.1818181818182,
          586.2727272727274,
          596.3636363636364,
          606.4545454545455,
          616.5454545454546,
          626.6363636363637,
          636.7272727272727,
          646.8181818181819,
          656.909090909091,
          667,
          677.0909090909091,
          687.1818181818182,
          697.2727272727274,
          707.3636363636364,
          717.4545454545455,
          727.5454545454546,
          737.6363636363637,
          747.7272727272727,
          757.8181818181819,
          767.909090909091,
          778.0000000000001,
          788.0909090909091,
          798.1818181818182,
          808.2727272727274,
          818.3636363636364,
          828.4545454545455,
          838.5454545454546,
          848.6363636363637,
          858.7272727272727,
          868.8181818181819,
          878.909090909091,
          889.0000000000001,
          899.0909090909091,
          909.1818181818182,
          919.2727272727274,
          929.3636363636365,
          939.4545454545455,
          949.5454545454546,
          959.6363636363637,
          969.7272727272727,
          979.8181818181819,
          989.909090909091,
          1000
         ]
        },
        {
         "fill": "tozeroy",
         "fillcolor": "rgba(0, 255, 0, 0.1)",
         "mode": "lines",
         "name": "O(log(n))",
         "type": "scatter",
         "x": [
          1,
          11.090909090909092,
          21.181818181818183,
          31.272727272727273,
          41.36363636363637,
          51.45454545454546,
          61.54545454545455,
          71.63636363636364,
          81.72727272727273,
          91.81818181818183,
          101.90909090909092,
          112.00000000000001,
          122.0909090909091,
          132.1818181818182,
          142.27272727272728,
          152.36363636363637,
          162.45454545454547,
          172.54545454545456,
          182.63636363636365,
          192.72727272727275,
          202.81818181818184,
          212.90909090909093,
          223.00000000000003,
          233.09090909090912,
          243.1818181818182,
          253.27272727272728,
          263.3636363636364,
          273.4545454545455,
          283.54545454545456,
          293.6363636363637,
          303.72727272727275,
          313.81818181818187,
          323.90909090909093,
          334,
          344.0909090909091,
          354.1818181818182,
          364.2727272727273,
          374.3636363636364,
          384.4545454545455,
          394.54545454545456,
          404.6363636363637,
          414.72727272727275,
          424.81818181818187,
          434.90909090909093,
          445.00000000000006,
          455.0909090909091,
          465.18181818181824,
          475.2727272727273,
          485.3636363636364,
          495.4545454545455,
          505.54545454545456,
          515.6363636363636,
          525.7272727272727,
          535.8181818181819,
          545.909090909091,
          556,
          566.0909090909091,
          576.1818181818182,
          586.2727272727274,
          596.3636363636364,
          606.4545454545455,
          616.5454545454546,
          626.6363636363637,
          636.7272727272727,
          646.8181818181819,
          656.909090909091,
          667,
          677.0909090909091,
          687.1818181818182,
          697.2727272727274,
          707.3636363636364,
          717.4545454545455,
          727.5454545454546,
          737.6363636363637,
          747.7272727272727,
          757.8181818181819,
          767.909090909091,
          778.0000000000001,
          788.0909090909091,
          798.1818181818182,
          808.2727272727274,
          818.3636363636364,
          828.4545454545455,
          838.5454545454546,
          848.6363636363637,
          858.7272727272727,
          868.8181818181819,
          878.909090909091,
          889.0000000000001,
          899.0909090909091,
          909.1818181818182,
          919.2727272727274,
          929.3636363636365,
          939.4545454545455,
          949.5454545454546,
          959.6363636363637,
          969.7272727272727,
          979.8181818181819,
          989.909090909091,
          1000
         ],
         "y": [
          0,
          2.406125771934886,
          3.05314318076733,
          3.442746384575028,
          3.72240214615258,
          3.9406988054048124,
          4.119776000113904,
          4.271602817059509,
          4.40338776167325,
          4.519810337036935,
          4.624081150273789,
          4.718498871295095,
          4.804765923724867,
          4.884178385295094,
          4.957745830175883,
          5.0262700082436575,
          5.090398242361058,
          5.150660706371503,
          5.207497092016564,
          5.2612760948676875,
          5.312309921634162,
          5.360865271359292,
          5.407171771460119,
          5.45142854524219,
          5.493809386531736,
          5.5344668815413804,
          5.57353572497098,
          5.61113541227136,
          5.647372443809433,
          5.682342143418332,
          5.716130169558386,
          5.748813779404948,
          5.780462892807465,
          5.811140992976701,
          5.840905893073178,
          5.869810391964055,
          5.8979028378377745,
          5.925227614789364,
          5.9518255646741185,
          5.97773435429608,
          6.002988796217484,
          6.027621130045963,
          6.0516612699020556,
          6.075137022832097,
          6.09807428216624,
          6.120497199193349,
          6.142428336006722,
          6.163888801945742,
          6.184898375701816,
          6.205475614858919,
          6.225637954389193,
          6.245401795413593,
          6.264782585359848,
          6.283794890499269,
          6.302452461715713,
          6.320768294250582,
          6.338754682074081,
          6.356423267452495,
          6.373785086212007,
          6.390850609139764,
          6.407629779911145,
          6.424132049887214,
          6.4403664100872815,
          6.456341420607372,
          6.472065237725582,
          6.487545638909215,
          6.502790045915623,
          6.517805546158533,
          6.532598912493806,
          6.547176621562931,
          6.56154487081856,
          6.5757095943441355,
          6.589676477568676,
          6.603450970968022,
          6.617038302835202,
          6.630443491194778,
          6.643671354929126,
          6.656726524178392,
          6.66961345007027,
          6.682336413830792,
          6.694899535322769,
          6.707306781054507,
          6.719561971697757,
          6.7316687891505245,
          6.743630783177452,
          6.755451377657692,
          6.767133876467809,
          6.7786814690250035,
          6.790097235513905,
          6.801384151818387,
          6.812545094178145,
          6.823582843588269,
          6.834500089958643,
          6.84529943604876,
          6.8559834011922955,
          6.8665544248248445,
          6.8770148698271125,
          6.887367025695071,
          6.897613111547691,
          6.907755278982137
         ]
        },
        {
         "fill": "tozeroy",
         "fillcolor": "rgba(255, 0, 255, 0.1)",
         "mode": "lines",
         "name": "O(n*log(n))",
         "type": "scatter",
         "x": [
          1,
          11.090909090909092,
          21.181818181818183,
          31.272727272727273,
          41.36363636363637,
          51.45454545454546,
          61.54545454545455,
          71.63636363636364,
          81.72727272727273,
          91.81818181818183,
          101.90909090909092,
          112.00000000000001,
          122.0909090909091,
          132.1818181818182,
          142.27272727272728,
          152.36363636363637,
          162.45454545454547,
          172.54545454545456,
          182.63636363636365,
          192.72727272727275,
          202.81818181818184,
          212.90909090909093,
          223.00000000000003,
          233.09090909090912,
          243.1818181818182,
          253.27272727272728,
          263.3636363636364,
          273.4545454545455,
          283.54545454545456,
          293.6363636363637,
          303.72727272727275,
          313.81818181818187,
          323.90909090909093,
          334,
          344.0909090909091,
          354.1818181818182,
          364.2727272727273,
          374.3636363636364,
          384.4545454545455,
          394.54545454545456,
          404.6363636363637,
          414.72727272727275,
          424.81818181818187,
          434.90909090909093,
          445.00000000000006,
          455.0909090909091,
          465.18181818181824,
          475.2727272727273,
          485.3636363636364,
          495.4545454545455,
          505.54545454545456,
          515.6363636363636,
          525.7272727272727,
          535.8181818181819,
          545.909090909091,
          556,
          566.0909090909091,
          576.1818181818182,
          586.2727272727274,
          596.3636363636364,
          606.4545454545455,
          616.5454545454546,
          626.6363636363637,
          636.7272727272727,
          646.8181818181819,
          656.909090909091,
          667,
          677.0909090909091,
          687.1818181818182,
          697.2727272727274,
          707.3636363636364,
          717.4545454545455,
          727.5454545454546,
          737.6363636363637,
          747.7272727272727,
          757.8181818181819,
          767.909090909091,
          778.0000000000001,
          788.0909090909091,
          798.1818181818182,
          808.2727272727274,
          818.3636363636364,
          828.4545454545455,
          838.5454545454546,
          848.6363636363637,
          858.7272727272727,
          868.8181818181819,
          878.909090909091,
          889.0000000000001,
          899.0909090909091,
          909.1818181818182,
          919.2727272727274,
          929.3636363636365,
          939.4545454545455,
          949.5454545454546,
          959.6363636363637,
          969.7272727272727,
          979.8181818181819,
          989.909090909091,
          1000
         ],
         "y": [
          0,
          26.686122197823284,
          64.67112373807163,
          107.66406875398269,
          153.9720887726749,
          202.76686580537492,
          253.55348655246485,
          306.00209271299025,
          359.87687252220474,
          415.00076730975496,
          471.2359063142653,
          528.4718735850507,
          586.6182395965906,
          645.5995792926425,
          705.3520203841143,
          765.8207758014883,
          826.9583326453828,
          888.723092790283,
          951.0783325328435,
          1013.9913928290454,
          1077.4330395605289,
          1141.376951411224,
          1205.7993050356067,
          1270.6784354546344,
          1335.9945553611267,
          1401.7295210885716,
          1467.8666359309937,
          1534.3904836465686,
          1601.2867865674202,
          1668.5422839310195,
          1736.1446269540515,
          1804.0822878641711,
          1872.344480643,
          1940.9210916542181,
          2009.8026186619984,
          2078.98011700836,
          2148.445151928724,
          2218.189756154782,
          2288.2063920915316,
          2358.4879179677264,
          2429.027557451275,
          2499.818872297244,
          2570.8557376593008,
          2642.1323197480683,
          2713.643055563977,
          2785.3826344692643,
          2857.345981395127,
          2929.5282415065763,
          3001.9247661701816,
          3074.531100089192,
          3147.342969487119,
          3220.3562712350817,
          3293.5670628305456,
          3366.9715531456995,
          3440.5660938729875,
          3514.3471716033237,
          3588.3114004795734,
          3662.4555153739925,
          3736.7763655437493,
          3811.27090872335,
          3885.9362056170226,
          3960.7694147577354,
          4035.7677877028764,
          4110.928664539458,
          4186.24946967432,
          4261.72770788709,
          4337.3609606257205,
          4413.14688252625,
          4489.083198140062,
          4565.167698853426,
          4641.398239985383,
          4717.772738051265,
          4794.289168180193,
          4870.945561675867,
          4947.740003710867,
          5024.6706311454245,
          5101.7356304623945,
          5178.9332358107895,
          5256.261727150834,
          5333.719428494032,
          5411.304706232249,
          5489.015967550244,
          5566.851658916515,
          5644.810264647676,
          5722.890305541957,
          5801.090337577687,
          5879.408950672987,
          5957.8447675030675,
          6036.396442371862,
          6115.062660134895,
          6193.842135170513,
          6272.73361039678,
          6351.735856331566,
          6430.847670193444,
          6510.06787504123,
          6589.395318950097,
          6668.828874222347,
          6748.367436631043,
          6828.009924694801,
          6907.755278982137
         ]
        },
        {
         "fill": "tozeroy",
         "fillcolor": "rgba(255, 255, 0, 0.1)",
         "mode": "lines",
         "name": "O(n**2)",
         "type": "scatter",
         "x": [
          1,
          11.090909090909092,
          21.181818181818183,
          31.272727272727273,
          41.36363636363637,
          51.45454545454546,
          61.54545454545455,
          71.63636363636364,
          81.72727272727273,
          91.81818181818183,
          101.90909090909092,
          112.00000000000001,
          122.0909090909091,
          132.1818181818182,
          142.27272727272728,
          152.36363636363637,
          162.45454545454547,
          172.54545454545456,
          182.63636363636365,
          192.72727272727275,
          202.81818181818184,
          212.90909090909093,
          223.00000000000003,
          233.09090909090912,
          243.1818181818182,
          253.27272727272728,
          263.3636363636364,
          273.4545454545455,
          283.54545454545456,
          293.6363636363637,
          303.72727272727275,
          313.81818181818187,
          323.90909090909093,
          334,
          344.0909090909091,
          354.1818181818182,
          364.2727272727273,
          374.3636363636364,
          384.4545454545455,
          394.54545454545456,
          404.6363636363637,
          414.72727272727275,
          424.81818181818187,
          434.90909090909093,
          445.00000000000006,
          455.0909090909091,
          465.18181818181824,
          475.2727272727273,
          485.3636363636364,
          495.4545454545455,
          505.54545454545456,
          515.6363636363636,
          525.7272727272727,
          535.8181818181819,
          545.909090909091,
          556,
          566.0909090909091,
          576.1818181818182,
          586.2727272727274,
          596.3636363636364,
          606.4545454545455,
          616.5454545454546,
          626.6363636363637,
          636.7272727272727,
          646.8181818181819,
          656.909090909091,
          667,
          677.0909090909091,
          687.1818181818182,
          697.2727272727274,
          707.3636363636364,
          717.4545454545455,
          727.5454545454546,
          737.6363636363637,
          747.7272727272727,
          757.8181818181819,
          767.909090909091,
          778.0000000000001,
          788.0909090909091,
          798.1818181818182,
          808.2727272727274,
          818.3636363636364,
          828.4545454545455,
          838.5454545454546,
          848.6363636363637,
          858.7272727272727,
          868.8181818181819,
          878.909090909091,
          889.0000000000001,
          899.0909090909091,
          909.1818181818182,
          919.2727272727274,
          929.3636363636365,
          939.4545454545455,
          949.5454545454546,
          959.6363636363637,
          969.7272727272727,
          979.8181818181819,
          989.909090909091,
          1000
         ],
         "y": [
          1,
          123.00826446280993,
          448.66942148760336,
          977.9834710743802,
          1710.9504132231407,
          2647.5702479338847,
          3787.8429752066118,
          5131.768595041322,
          6679.347107438018,
          8430.578512396696,
          10385.462809917357,
          12544.000000000004,
          14906.190082644629,
          17472.03305785124,
          20241.528925619838,
          23214.677685950417,
          26391.47933884298,
          29771.933884297527,
          33356.04132231406,
          37143.80165289257,
          41135.21487603307,
          45330.28099173555,
          49729.000000000015,
          54331.37190082646,
          59137.396694214876,
          64147.07438016529,
          69360.4049586777,
          74777.38842975209,
          80398.02479338844,
          86222.3140495868,
          92250.25619834712,
          98481.85123966946,
          104917.09917355374,
          111556,
          118398.55371900828,
          125444.76033057852,
          132694.61983471076,
          140148.13223140498,
          147805.2975206612,
          155666.11570247935,
          163730.58677685953,
          171998.71074380167,
          180470.48760330584,
          189145.91735537193,
          198025.00000000006,
          207107.7355371901,
          216394.1239669422,
          225884.16528925623,
          235577.85950413224,
          245475.2066115703,
          255576.20661157026,
          265880.85950413224,
          276389.1652892562,
          287101.1239669422,
          298016.73553719016,
          309136,
          320458.91735537193,
          331985.48760330584,
          343715.7107438018,
          355649.58677685953,
          367787.1157024794,
          380128.29752066126,
          392673.13223140506,
          405421.6198347108,
          418373.7603305786,
          431529.5537190084,
          444889,
          458452.09917355375,
          472218.8512396695,
          486189.25619834726,
          500363.31404958677,
          514741.0247933885,
          529322.3884297522,
          544107.4049586778,
          559096.0743801653,
          574288.3966942149,
          589684.3719008266,
          605284.0000000002,
          621087.2809917356,
          637094.2148760331,
          653304.8016528927,
          669719.0413223141,
          686336.9338842976,
          703158.4793388431,
          720183.6776859505,
          737412.5289256199,
          754845.0330578514,
          772481.1900826448,
          790321.0000000002,
          808364.4628099174,
          826611.5785123968,
          845062.3471074381,
          863716.7685950416,
          882574.8429752067,
          901636.570247934,
          920901.9504132234,
          940370.9834710744,
          960043.6694214877,
          979920.0082644629,
          1000000
         ]
        },
        {
         "fill": "tozeroy",
         "fillcolor": "rgba(0, 255, 255, 0.1)",
         "mode": "lines",
         "name": "O(2**n)",
         "type": "scatter",
         "x": [
          1,
          11.090909090909092,
          21.181818181818183,
          31.272727272727273,
          41.36363636363637,
          51.45454545454546,
          61.54545454545455,
          71.63636363636364,
          81.72727272727273,
          91.81818181818183,
          101.90909090909092,
          112.00000000000001,
          122.0909090909091,
          132.1818181818182,
          142.27272727272728,
          152.36363636363637,
          162.45454545454547,
          172.54545454545456,
          182.63636363636365,
          192.72727272727275,
          202.81818181818184,
          212.90909090909093,
          223.00000000000003,
          233.09090909090912,
          243.1818181818182,
          253.27272727272728,
          263.3636363636364,
          273.4545454545455,
          283.54545454545456,
          293.6363636363637,
          303.72727272727275,
          313.81818181818187,
          323.90909090909093,
          334,
          344.0909090909091,
          354.1818181818182,
          364.2727272727273,
          374.3636363636364,
          384.4545454545455,
          394.54545454545456,
          404.6363636363637,
          414.72727272727275,
          424.81818181818187,
          434.90909090909093,
          445.00000000000006,
          455.0909090909091,
          465.18181818181824,
          475.2727272727273,
          485.3636363636364,
          495.4545454545455,
          505.54545454545456,
          515.6363636363636,
          525.7272727272727,
          535.8181818181819,
          545.909090909091,
          556,
          566.0909090909091,
          576.1818181818182,
          586.2727272727274,
          596.3636363636364,
          606.4545454545455,
          616.5454545454546,
          626.6363636363637,
          636.7272727272727,
          646.8181818181819,
          656.909090909091,
          667,
          677.0909090909091,
          687.1818181818182,
          697.2727272727274,
          707.3636363636364,
          717.4545454545455,
          727.5454545454546,
          737.6363636363637,
          747.7272727272727,
          757.8181818181819,
          767.909090909091,
          778.0000000000001,
          788.0909090909091,
          798.1818181818182,
          808.2727272727274,
          818.3636363636364,
          828.4545454545455,
          838.5454545454546,
          848.6363636363637,
          858.7272727272727,
          868.8181818181819,
          878.909090909091,
          889.0000000000001,
          899.0909090909091,
          909.1818181818182,
          919.2727272727274,
          929.3636363636365,
          939.4545454545455,
          949.5454545454546,
          959.6363636363637,
          969.7272727272727,
          979.8181818181819,
          989.909090909091,
          1000
         ],
         "y": [
          2,
          2181.204151173045,
          2378825.774547261,
          2594352327.179957,
          2829406032825.189,
          3085756092076183,
          3365331998772029000,
          3.670238062898519e+21,
          4.0027692492937877e+24,
          4.365428451373716e+27,
          4.760945329892639e+30,
          5.192296858534878e+33,
          5.66272973097947e+36,
          6.175784798091727e+39,
          6.735323719174538e+42,
          7.345558027878896e+45,
          8.011080831545976e+48,
          8.736901382575455e+51,
          9.52848278203156e+54,
          1.0391783099274074e+58,
          1.1333300217113263e+61,
          1.2360120740028925e+64,
          1.3479973333575586e+67,
          1.4701286896448525e+70,
          1.603325400305941e+73,
          1.7485900094142533e+76,
          1.9070158936170437e+79,
          2.079795491755278e+82,
          2.2682292801037565e+85,
          2.473735560787332e+88,
          2.6978611370468044e+91,
          2.9422929557075217e+94,
          3.208870804478168e+97,
          3.499601159652819e+100,
          3.816672288442445e+103,
          4.162470719608816e+106,
          4.539599206373595e+109,
          4.9508963168018816e+112,
          5.399457799117914e+115,
          5.888659882759724e+118,
          6.422184690560977e+121,
          7.00404795332566e+124,
          7.638629235404659e+127,
          8.330704898768058e+130,
          9.085484053695443e+133,
          9.90864776666832e+136,
          1.0806391820584454e+140,
          1.1785473349130408e+143,
          1.285326169633103e+146,
          1.4017793884075659e+149,
          1.5287835105116691e+152,
          1.6672944696864455e+155,
          1.8183548092540057e+158,
          1.983101529125195e+161,
          2.1627746437627895e+164,
          2.3587265155134633e+167,
          2.5724320335600025e+170,
          2.805499715105856e+173,
          3.059683812351908e+176,
          3.3368975163892816e+179,
          3.639227357393738e+182,
          3.968948909504949e+185,
          4.3285439186030525e+188,
          4.720718981895635e+191,
          5.148425919916182e+194,
          5.6148839942641565e+197,
          6.123604138321678e+200,
          6.67841538332398e+203,
          7.283493678682245e+206,
          7.943393323492338e+209,
          8.663081245800368e+212,
          9.447974387644754e+215,
          1.0303980477253888e+219,
          1.1237542495296331e+222,
          1.2255687169861217e+225,
          1.3366077865190035e+228,
          1.4577072262227632e+231,
          1.5897785265160513e+234,
          1.7338157607411883e+237,
          1.8909030673490048e+240,
          2.0622228099837896e+243,
          2.2490644768900615e+246,
          2.4528343866242685e+249,
          2.675066273122478e+252,
          2.9174328297989384e+255,
          3.1817582995627996e+258,
          3.470032205517906e+261,
          3.7844243256899855e+264,
          4.12730102449771e+267,
          4.501243063887322e+270,
          4.909065028195054e+273,
          5.353836508938848e+276,
          5.83890520899973e+279,
          6.367922140087695e+282,
          6.944869103153156e+285,
          7.5740886585757e+288,
          8.26031681171852e+291,
          9.008718659862651e+294,
          9.824927268821447e+297,
          1.0715086071862673e+301
         ]
        },
        {
         "line": {
          "width": 10
         },
         "mode": "lines",
         "name": "Family1",
         "type": "scatter",
         "x": [
          1,
          11.090909090909092,
          21.181818181818183,
          31.272727272727273,
          41.36363636363637,
          51.45454545454546,
          61.54545454545455,
          71.63636363636364,
          81.72727272727273,
          91.81818181818183,
          101.90909090909092,
          112.00000000000001,
          122.0909090909091,
          132.1818181818182,
          142.27272727272728,
          152.36363636363637,
          162.45454545454547,
          172.54545454545456,
          182.63636363636365,
          192.72727272727275,
          202.81818181818184,
          212.90909090909093,
          223.00000000000003,
          233.09090909090912,
          243.1818181818182,
          253.27272727272728,
          263.3636363636364,
          273.4545454545455,
          283.54545454545456,
          293.6363636363637,
          303.72727272727275,
          313.81818181818187,
          323.90909090909093,
          334,
          344.0909090909091,
          354.1818181818182,
          364.2727272727273,
          374.3636363636364,
          384.4545454545455,
          394.54545454545456,
          404.6363636363637,
          414.72727272727275,
          424.81818181818187,
          434.90909090909093,
          445.00000000000006,
          455.0909090909091,
          465.18181818181824,
          475.2727272727273,
          485.3636363636364,
          495.4545454545455,
          505.54545454545456,
          515.6363636363636,
          525.7272727272727,
          535.8181818181819,
          545.909090909091,
          556,
          566.0909090909091,
          576.1818181818182,
          586.2727272727274,
          596.3636363636364,
          606.4545454545455,
          616.5454545454546,
          626.6363636363637,
          636.7272727272727,
          646.8181818181819,
          656.909090909091,
          667,
          677.0909090909091,
          687.1818181818182,
          697.2727272727274,
          707.3636363636364,
          717.4545454545455,
          727.5454545454546,
          737.6363636363637,
          747.7272727272727,
          757.8181818181819,
          767.909090909091,
          778.0000000000001,
          788.0909090909091,
          798.1818181818182,
          808.2727272727274,
          818.3636363636364,
          828.4545454545455,
          838.5454545454546,
          848.6363636363637,
          858.7272727272727,
          868.8181818181819,
          878.909090909091,
          889.0000000000001,
          899.0909090909091,
          909.1818181818182,
          919.2727272727274,
          929.3636363636365,
          939.4545454545455,
          949.5454545454546,
          959.6363636363637,
          969.7272727272727,
          979.8181818181819,
          989.909090909091,
          1000
         ],
         "y": [
          null,
          0.8780178904733855,
          1.1161716110373663,
          1.2362695204684298,
          1.3143691980989038,
          1.371358069360973,
          1.4157987929790004,
          1.4519891238008276,
          1.4823741905028085,
          1.508470032131223,
          1.5312776810157753,
          1.5514907132708073,
          1.5696083260899254,
          1.5860010800071527,
          1.6009511677115675,
          1.6146781599712186,
          1.6273560676513508,
          1.639124998946187,
          1.6500993357306668,
          1.6603736009131398,
          1.6700267541533362,
          1.6791253932778412,
          1.6877261782437236,
          1.695877692721191,
          1.7036218922280526,
          1.7109952438237186,
          1.7180296326181494,
          1.7247530898355627,
          1.7311903827940893,
          1.7373634969338632,
          1.743292032649189,
          1.748993534292723,
          1.75448376473844,
          1.7597769359162803,
          1.7648859034873918,
          1.7698223321196824,
          1.7745968365099807,
          1.7792191022815242,
          1.783697990090935,
          1.788041625653922,
          1.7922574779040603,
          1.7963524271045206,
          1.800332824416253,
          1.8042045441709467,
          1.8079730298900731,
          1.8116433349225662,
          1.8152201584353655,
          1.8187078773771956,
          1.8221105749417712,
          1.8254320659783836,
          1.8286759197325873,
          1.8318454802450579,
          1.8349438846907746,
          1.8379740799019384,
          1.8409388372852418,
          1.8438407663162522,
          1.8466823267699397,
          1.8494658398260928,
          1.85219349817098,
          1.8548673752016631,
          1.857489433426492,
          1.8600615321441558,
          1.8625854344740336,
          1.8650628138021903,
          1.8674952597000698,
          1.8698842833665632,
          1.8722313226385587,
          1.8745377466101947,
          1.8768048598967433,
          1.8790339065752781,
          1.8812260738309452,
          1.8833824953347151,
          1.8855042543758853,
          1.8875923867702928,
          1.8896478835631465,
          1.8916716935435518,
          1.893664725586186,
          1.8956278508341164,
          1.8975619047354595,
          1.8994676889454125,
          1.9013459731041482,
          1.903197496500122,
          1.9050229696274963,
          1.906823075645636,
          1.9085984717479296,
          1.9103497904465885,
          1.9120776407795015,
          1.9137826094447303,
          1.9154652618677601,
          1.917126143206215,
          1.9187657792963568,
          1.920384677545357,
          1.9219833277730027,
          1.923562203006227,
          1.9251217602295805,
          1.9266624410945354,
          1.9281846725902854,
          1.929688867678512,
          1.931175425894407,
          1.9326447339160655
         ]
        },
        {
         "line": {
          "width": 8
         },
         "mode": "lines",
         "name": "Family2",
         "type": "scatter",
         "x": [
          1,
          11.090909090909092,
          21.181818181818183,
          31.272727272727273,
          41.36363636363637,
          51.45454545454546,
          61.54545454545455,
          71.63636363636364,
          81.72727272727273,
          91.81818181818183,
          101.90909090909092,
          112.00000000000001,
          122.0909090909091,
          132.1818181818182,
          142.27272727272728,
          152.36363636363637,
          162.45454545454547,
          172.54545454545456,
          182.63636363636365,
          192.72727272727275,
          202.81818181818184,
          212.90909090909093,
          223.00000000000003,
          233.09090909090912,
          243.1818181818182,
          253.27272727272728,
          263.3636363636364,
          273.4545454545455,
          283.54545454545456,
          293.6363636363637,
          303.72727272727275,
          313.81818181818187,
          323.90909090909093,
          334,
          344.0909090909091,
          354.1818181818182,
          364.2727272727273,
          374.3636363636364,
          384.4545454545455,
          394.54545454545456,
          404.6363636363637,
          414.72727272727275,
          424.81818181818187,
          434.90909090909093,
          445.00000000000006,
          455.0909090909091,
          465.18181818181824,
          475.2727272727273,
          485.3636363636364,
          495.4545454545455,
          505.54545454545456,
          515.6363636363636,
          525.7272727272727,
          535.8181818181819,
          545.909090909091,
          556,
          566.0909090909091,
          576.1818181818182,
          586.2727272727274,
          596.3636363636364,
          606.4545454545455,
          616.5454545454546,
          626.6363636363637,
          636.7272727272727,
          646.8181818181819,
          656.909090909091,
          667,
          677.0909090909091,
          687.1818181818182,
          697.2727272727274,
          707.3636363636364,
          717.4545454545455,
          727.5454545454546,
          737.6363636363637,
          747.7272727272727,
          757.8181818181819,
          767.909090909091,
          778.0000000000001,
          788.0909090909091,
          798.1818181818182,
          808.2727272727274,
          818.3636363636364,
          828.4545454545455,
          838.5454545454546,
          848.6363636363637,
          858.7272727272727,
          868.8181818181819,
          878.909090909091,
          889.0000000000001,
          899.0909090909091,
          909.1818181818182,
          919.2727272727274,
          929.3636363636365,
          939.4545454545455,
          949.5454545454546,
          959.6363636363637,
          969.7272727272727,
          979.8181818181819,
          989.909090909091,
          1000
         ],
         "y": [
          0,
          5.789441230369252,
          9.321683282266049,
          11.852502668504426,
          13.856277737681333,
          15.529107074918915,
          16.97255429111452,
          18.24659062671073,
          19.389823779653756,
          20.42868548278593,
          21.38212648431737,
          22.264231598413087,
          23.085775581787676,
          23.855198499383793,
          24.579243716626355,
          25.2633901957697,
          25.912154265832548,
          26.52930571215939,
          27.11802596336097,
          27.681026146426184,
          28.220636703492755,
          28.738876457666134,
          29.237506566075158,
          29.71807318388138,
          30.18194157554421,
          30.63032366287837,
          31.064300477527787,
          31.484840614845687,
          31.89281551909812,
          32.28901223486804,
          32.67414411533558,
          33.0488598702762,
          33.41375125512405,
          33.76935964025424,
          34.11618165173698,
          34.454674037609216,
          34.785257884574875,
          35.10832228706246,
          35.42422755230839,
          35.73330801053158,
          36.035874487512636,
          36.33221648737658,
          36.62260412563256,
          36.907289846185236,
          37.1865099508173,
          37.46048596533363,
          37.7294258629783,
          37.993525162752114,
          38.25296791775896,
          38.50792760660868,
          38.75856793913126,
          39.00504358615533,
          39.24750084182802,
          39.48607822586472,
          39.72090703218645,
          39.95211182960342,
          40.179810919516086,
          40.40411675501146,
          40.625136325218605,
          40.84297150834209,
          41.057719396404146,
          41.26947259438809,
          41.47831949618054,
          41.68434453945042,
          41.887628441375895,
          42.08824841692998,
          42.286278381259315,
          42.48178913753493,
          42.674848551515254,
          42.8655217139402,
          43.05387109176535,
          43.239956669149514,
          43.42383607902191,
          43.60556472597851,
          43.785195901188175,
          43.962780889927195,
          44.138369072305814,
          44.31200801770014,
          44.48374357335825,
          44.65361994760897,
          44.821679788065026,
          44.987964255179776,
          45.15251309148664,
          45.31536468682329,
          45.47655613981854,
          45.6361233158972,
          45.79410090203823,
          45.95052245850298,
          46.10542046773357,
          46.258826380606315,
          46.410770660210716,
          46.56128282331216,
          46.710391479644706,
          46.85812436916947,
          47.004508397424274,
          47.14956966908165,
          47.293333519823214,
          47.43582454663177,
          47.577066636594616,
          47.71708299430558
         ]
        }
       ],
       "layout": {
        "template": {
         "data": {
          "bar": [
           {
            "error_x": {
             "color": "#2a3f5f"
            },
            "error_y": {
             "color": "#2a3f5f"
            },
            "marker": {
             "line": {
              "color": "#E5ECF6",
              "width": 0.5
             },
             "pattern": {
              "fillmode": "overlay",
              "size": 10,
              "solidity": 0.2
             }
            },
            "type": "bar"
           }
          ],
          "barpolar": [
           {
            "marker": {
             "line": {
              "color": "#E5ECF6",
              "width": 0.5
             },
             "pattern": {
              "fillmode": "overlay",
              "size": 10,
              "solidity": 0.2
             }
            },
            "type": "barpolar"
           }
          ],
          "carpet": [
           {
            "aaxis": {
             "endlinecolor": "#2a3f5f",
             "gridcolor": "white",
             "linecolor": "white",
             "minorgridcolor": "white",
             "startlinecolor": "#2a3f5f"
            },
            "baxis": {
             "endlinecolor": "#2a3f5f",
             "gridcolor": "white",
             "linecolor": "white",
             "minorgridcolor": "white",
             "startlinecolor": "#2a3f5f"
            },
            "type": "carpet"
           }
          ],
          "choropleth": [
           {
            "colorbar": {
             "outlinewidth": 0,
             "ticks": ""
            },
            "type": "choropleth"
           }
          ],
          "contour": [
           {
            "colorbar": {
             "outlinewidth": 0,
             "ticks": ""
            },
            "colorscale": [
             [
              0,
              "#0d0887"
             ],
             [
              0.1111111111111111,
              "#46039f"
             ],
             [
              0.2222222222222222,
              "#7201a8"
             ],
             [
              0.3333333333333333,
              "#9c179e"
             ],
             [
              0.4444444444444444,
              "#bd3786"
             ],
             [
              0.5555555555555556,
              "#d8576b"
             ],
             [
              0.6666666666666666,
              "#ed7953"
             ],
             [
              0.7777777777777778,
              "#fb9f3a"
             ],
             [
              0.8888888888888888,
              "#fdca26"
             ],
             [
              1,
              "#f0f921"
             ]
            ],
            "type": "contour"
           }
          ],
          "contourcarpet": [
           {
            "colorbar": {
             "outlinewidth": 0,
             "ticks": ""
            },
            "type": "contourcarpet"
           }
          ],
          "heatmap": [
           {
            "colorbar": {
             "outlinewidth": 0,
             "ticks": ""
            },
            "colorscale": [
             [
              0,
              "#0d0887"
             ],
             [
              0.1111111111111111,
              "#46039f"
             ],
             [
              0.2222222222222222,
              "#7201a8"
             ],
             [
              0.3333333333333333,
              "#9c179e"
             ],
             [
              0.4444444444444444,
              "#bd3786"
             ],
             [
              0.5555555555555556,
              "#d8576b"
             ],
             [
              0.6666666666666666,
              "#ed7953"
             ],
             [
              0.7777777777777778,
              "#fb9f3a"
             ],
             [
              0.8888888888888888,
              "#fdca26"
             ],
             [
              1,
              "#f0f921"
             ]
            ],
            "type": "heatmap"
           }
          ],
          "heatmapgl": [
           {
            "colorbar": {
             "outlinewidth": 0,
             "ticks": ""
            },
            "colorscale": [
             [
              0,
              "#0d0887"
             ],
             [
              0.1111111111111111,
              "#46039f"
             ],
             [
              0.2222222222222222,
              "#7201a8"
             ],
             [
              0.3333333333333333,
              "#9c179e"
             ],
             [
              0.4444444444444444,
              "#bd3786"
             ],
             [
              0.5555555555555556,
              "#d8576b"
             ],
             [
              0.6666666666666666,
              "#ed7953"
             ],
             [
              0.7777777777777778,
              "#fb9f3a"
             ],
             [
              0.8888888888888888,
              "#fdca26"
             ],
             [
              1,
              "#f0f921"
             ]
            ],
            "type": "heatmapgl"
           }
          ],
          "histogram": [
           {
            "marker": {
             "pattern": {
              "fillmode": "overlay",
              "size": 10,
              "solidity": 0.2
             }
            },
            "type": "histogram"
           }
          ],
          "histogram2d": [
           {
            "colorbar": {
             "outlinewidth": 0,
             "ticks": ""
            },
            "colorscale": [
             [
              0,
              "#0d0887"
             ],
             [
              0.1111111111111111,
              "#46039f"
             ],
             [
              0.2222222222222222,
              "#7201a8"
             ],
             [
              0.3333333333333333,
              "#9c179e"
             ],
             [
              0.4444444444444444,
              "#bd3786"
             ],
             [
              0.5555555555555556,
              "#d8576b"
             ],
             [
              0.6666666666666666,
              "#ed7953"
             ],
             [
              0.7777777777777778,
              "#fb9f3a"
             ],
             [
              0.8888888888888888,
              "#fdca26"
             ],
             [
              1,
              "#f0f921"
             ]
            ],
            "type": "histogram2d"
           }
          ],
          "histogram2dcontour": [
           {
            "colorbar": {
             "outlinewidth": 0,
             "ticks": ""
            },
            "colorscale": [
             [
              0,
              "#0d0887"
             ],
             [
              0.1111111111111111,
              "#46039f"
             ],
             [
              0.2222222222222222,
              "#7201a8"
             ],
             [
              0.3333333333333333,
              "#9c179e"
             ],
             [
              0.4444444444444444,
              "#bd3786"
             ],
             [
              0.5555555555555556,
              "#d8576b"
             ],
             [
              0.6666666666666666,
              "#ed7953"
             ],
             [
              0.7777777777777778,
              "#fb9f3a"
             ],
             [
              0.8888888888888888,
              "#fdca26"
             ],
             [
              1,
              "#f0f921"
             ]
            ],
            "type": "histogram2dcontour"
           }
          ],
          "mesh3d": [
           {
            "colorbar": {
             "outlinewidth": 0,
             "ticks": ""
            },
            "type": "mesh3d"
           }
          ],
          "parcoords": [
           {
            "line": {
             "colorbar": {
              "outlinewidth": 0,
              "ticks": ""
             }
            },
            "type": "parcoords"
           }
          ],
          "pie": [
           {
            "automargin": true,
            "type": "pie"
           }
          ],
          "scatter": [
           {
            "fillpattern": {
             "fillmode": "overlay",
             "size": 10,
             "solidity": 0.2
            },
            "type": "scatter"
           }
          ],
          "scatter3d": [
           {
            "line": {
             "colorbar": {
              "outlinewidth": 0,
              "ticks": ""
             }
            },
            "marker": {
             "colorbar": {
              "outlinewidth": 0,
              "ticks": ""
             }
            },
            "type": "scatter3d"
           }
          ],
          "scattercarpet": [
           {
            "marker": {
             "colorbar": {
              "outlinewidth": 0,
              "ticks": ""
             }
            },
            "type": "scattercarpet"
           }
          ],
          "scattergeo": [
           {
            "marker": {
             "colorbar": {
              "outlinewidth": 0,
              "ticks": ""
             }
            },
            "type": "scattergeo"
           }
          ],
          "scattergl": [
           {
            "marker": {
             "colorbar": {
              "outlinewidth": 0,
              "ticks": ""
             }
            },
            "type": "scattergl"
           }
          ],
          "scattermapbox": [
           {
            "marker": {
             "colorbar": {
              "outlinewidth": 0,
              "ticks": ""
             }
            },
            "type": "scattermapbox"
           }
          ],
          "scatterpolar": [
           {
            "marker": {
             "colorbar": {
              "outlinewidth": 0,
              "ticks": ""
             }
            },
            "type": "scatterpolar"
           }
          ],
          "scatterpolargl": [
           {
            "marker": {
             "colorbar": {
              "outlinewidth": 0,
              "ticks": ""
             }
            },
            "type": "scatterpolargl"
           }
          ],
          "scatterternary": [
           {
            "marker": {
             "colorbar": {
              "outlinewidth": 0,
              "ticks": ""
             }
            },
            "type": "scatterternary"
           }
          ],
          "surface": [
           {
            "colorbar": {
             "outlinewidth": 0,
             "ticks": ""
            },
            "colorscale": [
             [
              0,
              "#0d0887"
             ],
             [
              0.1111111111111111,
              "#46039f"
             ],
             [
              0.2222222222222222,
              "#7201a8"
             ],
             [
              0.3333333333333333,
              "#9c179e"
             ],
             [
              0.4444444444444444,
              "#bd3786"
             ],
             [
              0.5555555555555556,
              "#d8576b"
             ],
             [
              0.6666666666666666,
              "#ed7953"
             ],
             [
              0.7777777777777778,
              "#fb9f3a"
             ],
             [
              0.8888888888888888,
              "#fdca26"
             ],
             [
              1,
              "#f0f921"
             ]
            ],
            "type": "surface"
           }
          ],
          "table": [
           {
            "cells": {
             "fill": {
              "color": "#EBF0F8"
             },
             "line": {
              "color": "white"
             }
            },
            "header": {
             "fill": {
              "color": "#C8D4E3"
             },
             "line": {
              "color": "white"
             }
            },
            "type": "table"
           }
          ]
         },
         "layout": {
          "annotationdefaults": {
           "arrowcolor": "#2a3f5f",
           "arrowhead": 0,
           "arrowwidth": 1
          },
          "autotypenumbers": "strict",
          "coloraxis": {
           "colorbar": {
            "outlinewidth": 0,
            "ticks": ""
           }
          },
          "colorscale": {
           "diverging": [
            [
             0,
             "#8e0152"
            ],
            [
             0.1,
             "#c51b7d"
            ],
            [
             0.2,
             "#de77ae"
            ],
            [
             0.3,
             "#f1b6da"
            ],
            [
             0.4,
             "#fde0ef"
            ],
            [
             0.5,
             "#f7f7f7"
            ],
            [
             0.6,
             "#e6f5d0"
            ],
            [
             0.7,
             "#b8e186"
            ],
            [
             0.8,
             "#7fbc41"
            ],
            [
             0.9,
             "#4d9221"
            ],
            [
             1,
             "#276419"
            ]
           ],
           "sequential": [
            [
             0,
             "#0d0887"
            ],
            [
             0.1111111111111111,
             "#46039f"
            ],
            [
             0.2222222222222222,
             "#7201a8"
            ],
            [
             0.3333333333333333,
             "#9c179e"
            ],
            [
             0.4444444444444444,
             "#bd3786"
            ],
            [
             0.5555555555555556,
             "#d8576b"
            ],
            [
             0.6666666666666666,
             "#ed7953"
            ],
            [
             0.7777777777777778,
             "#fb9f3a"
            ],
            [
             0.8888888888888888,
             "#fdca26"
            ],
            [
             1,
             "#f0f921"
            ]
           ],
           "sequentialminus": [
            [
             0,
             "#0d0887"
            ],
            [
             0.1111111111111111,
             "#46039f"
            ],
            [
             0.2222222222222222,
             "#7201a8"
            ],
            [
             0.3333333333333333,
             "#9c179e"
            ],
            [
             0.4444444444444444,
             "#bd3786"
            ],
            [
             0.5555555555555556,
             "#d8576b"
            ],
            [
             0.6666666666666666,
             "#ed7953"
            ],
            [
             0.7777777777777778,
             "#fb9f3a"
            ],
            [
             0.8888888888888888,
             "#fdca26"
            ],
            [
             1,
             "#f0f921"
            ]
           ]
          },
          "colorway": [
           "#636efa",
           "#EF553B",
           "#00cc96",
           "#ab63fa",
           "#FFA15A",
           "#19d3f3",
           "#FF6692",
           "#B6E880",
           "#FF97FF",
           "#FECB52"
          ],
          "font": {
           "color": "#2a3f5f"
          },
          "geo": {
           "bgcolor": "white",
           "lakecolor": "white",
           "landcolor": "#E5ECF6",
           "showlakes": true,
           "showland": true,
           "subunitcolor": "white"
          },
          "hoverlabel": {
           "align": "left"
          },
          "hovermode": "closest",
          "mapbox": {
           "style": "light"
          },
          "paper_bgcolor": "white",
          "plot_bgcolor": "#E5ECF6",
          "polar": {
           "angularaxis": {
            "gridcolor": "white",
            "linecolor": "white",
            "ticks": ""
           },
           "bgcolor": "#E5ECF6",
           "radialaxis": {
            "gridcolor": "white",
            "linecolor": "white",
            "ticks": ""
           }
          },
          "scene": {
           "xaxis": {
            "backgroundcolor": "#E5ECF6",
            "gridcolor": "white",
            "gridwidth": 2,
            "linecolor": "white",
            "showbackground": true,
            "ticks": "",
            "zerolinecolor": "white"
           },
           "yaxis": {
            "backgroundcolor": "#E5ECF6",
            "gridcolor": "white",
            "gridwidth": 2,
            "linecolor": "white",
            "showbackground": true,
            "ticks": "",
            "zerolinecolor": "white"
           },
           "zaxis": {
            "backgroundcolor": "#E5ECF6",
            "gridcolor": "white",
            "gridwidth": 2,
            "linecolor": "white",
            "showbackground": true,
            "ticks": "",
            "zerolinecolor": "white"
           }
          },
          "shapedefaults": {
           "line": {
            "color": "#2a3f5f"
           }
          },
          "ternary": {
           "aaxis": {
            "gridcolor": "white",
            "linecolor": "white",
            "ticks": ""
           },
           "baxis": {
            "gridcolor": "white",
            "linecolor": "white",
            "ticks": ""
           },
           "bgcolor": "#E5ECF6",
           "caxis": {
            "gridcolor": "white",
            "linecolor": "white",
            "ticks": ""
           }
          },
          "title": {
           "x": 0.05
          },
          "xaxis": {
           "automargin": true,
           "gridcolor": "white",
           "linecolor": "white",
           "ticks": "",
           "title": {
            "standoff": 15
           },
           "zerolinecolor": "white",
           "zerolinewidth": 2
          },
          "yaxis": {
           "automargin": true,
           "gridcolor": "white",
           "linecolor": "white",
           "ticks": "",
           "title": {
            "standoff": 15
           },
           "zerolinecolor": "white",
           "zerolinewidth": 2
          }
         }
        },
        "title": {
         "text": "Time Complexity Comparison"
        },
        "xaxis": {
         "range": [
          1,
          100
         ],
         "title": {
          "text": "Input Size"
         }
        },
        "yaxis": {
         "range": [
          1,
          100
         ],
         "title": {
          "text": "Time Complexity"
         }
        }
       }
      }
     },
     "metadata": {},
     "output_type": "display_data"
    },
    {
     "name": "stdout",
     "output_type": "stream",
     "text": [
      "None\n"
     ]
    }
   ],
   "source": [
    "def plot_complexity(complexities: np.array, x = np.linspace(1, 1000, 100), base_graph=go.Figure(base_graph)):\n",
    "\n",
    "    \"\"\" Given an array of complexities and their family name as the label,\n",
    "        display a time complexity comparison chart comparing the given complexities.\n",
    "         \n",
    "        Complexities take the form: [[np.log(x)*np.log(x), 'Family1'], \n",
    "                                     [np.log(x)**2, 'Family2']]   \"\"\"\n",
    "    \n",
    "    \n",
    "    for i, (complexity, label) in enumerate(complexities):\n",
    "        trace = go.Scatter(x=x, y=complexity, mode='lines', name=f'{label}',  line=dict(width=10-2*i))\n",
    "        base_graph.add_trace(trace)\n",
    "\n",
    "    base_graph.show()\n",
    "    return\n",
    "    \n",
    "\n",
    "print(plot_complexity([[np.log(np.log(x)), 'Family1'], \n",
    "                       [np.log(x)**2, 'Family2']]))"
   ]
  },
  {
   "cell_type": "code",
   "execution_count": 28,
   "metadata": {},
   "outputs": [
    {
     "data": {
      "application/vnd.plotly.v1+json": {
       "config": {
        "plotlyServerURL": "https://plot.ly"
       },
       "data": [
        {
         "fill": "tozeroy",
         "fillcolor": "rgba(0, 0, 255, 0.1)",
         "mode": "lines",
         "name": "Boundary",
         "type": "scatter",
         "x": [
          1,
          11.090909090909092,
          21.181818181818183,
          31.272727272727273,
          41.36363636363637,
          51.45454545454546,
          61.54545454545455,
          71.63636363636364,
          81.72727272727273,
          91.81818181818183,
          101.90909090909092,
          112.00000000000001,
          122.0909090909091,
          132.1818181818182,
          142.27272727272728,
          152.36363636363637,
          162.45454545454547,
          172.54545454545456,
          182.63636363636365,
          192.72727272727275,
          202.81818181818184,
          212.90909090909093,
          223.00000000000003,
          233.09090909090912,
          243.1818181818182,
          253.27272727272728,
          263.3636363636364,
          273.4545454545455,
          283.54545454545456,
          293.6363636363637,
          303.72727272727275,
          313.81818181818187,
          323.90909090909093,
          334,
          344.0909090909091,
          354.1818181818182,
          364.2727272727273,
          374.3636363636364,
          384.4545454545455,
          394.54545454545456,
          404.6363636363637,
          414.72727272727275,
          424.81818181818187,
          434.90909090909093,
          445.00000000000006,
          455.0909090909091,
          465.18181818181824,
          475.2727272727273,
          485.3636363636364,
          495.4545454545455,
          505.54545454545456,
          515.6363636363636,
          525.7272727272727,
          535.8181818181819,
          545.909090909091,
          556,
          566.0909090909091,
          576.1818181818182,
          586.2727272727274,
          596.3636363636364,
          606.4545454545455,
          616.5454545454546,
          626.6363636363637,
          636.7272727272727,
          646.8181818181819,
          656.909090909091,
          667,
          677.0909090909091,
          687.1818181818182,
          697.2727272727274,
          707.3636363636364,
          717.4545454545455,
          727.5454545454546,
          737.6363636363637,
          747.7272727272727,
          757.8181818181819,
          767.909090909091,
          778.0000000000001,
          788.0909090909091,
          798.1818181818182,
          808.2727272727274,
          818.3636363636364,
          828.4545454545455,
          838.5454545454546,
          848.6363636363637,
          858.7272727272727,
          868.8181818181819,
          878.909090909091,
          889.0000000000001,
          899.0909090909091,
          909.1818181818182,
          919.2727272727274,
          929.3636363636365,
          939.4545454545455,
          949.5454545454546,
          959.6363636363637,
          969.7272727272727,
          979.8181818181819,
          989.909090909091,
          1000
         ],
         "y": [
          1,
          6.045454545454546,
          11.090909090909092,
          16.136363636363637,
          21.181818181818183,
          26.22727272727273,
          31.272727272727273,
          36.31818181818182,
          41.36363636363637,
          46.409090909090914,
          51.45454545454546,
          56.50000000000001,
          61.54545454545455,
          66.5909090909091,
          71.63636363636364,
          76.68181818181819,
          81.72727272727273,
          86.77272727272728,
          91.81818181818183,
          96.86363636363637,
          101.90909090909092,
          106.95454545454547,
          112.00000000000001,
          117.04545454545456,
          122.0909090909091,
          127.13636363636364,
          132.1818181818182,
          137.22727272727275,
          142.27272727272728,
          147.31818181818184,
          152.36363636363637,
          157.40909090909093,
          162.45454545454547,
          167.5,
          172.54545454545456,
          177.5909090909091,
          182.63636363636365,
          187.6818181818182,
          192.72727272727275,
          197.77272727272728,
          202.81818181818184,
          207.86363636363637,
          212.90909090909093,
          217.95454545454547,
          223.00000000000003,
          228.04545454545456,
          233.09090909090912,
          238.13636363636365,
          243.1818181818182,
          248.22727272727275,
          253.27272727272728,
          258.3181818181818,
          263.3636363636364,
          268.40909090909093,
          273.4545454545455,
          278.5,
          283.54545454545456,
          288.5909090909091,
          293.6363636363637,
          298.6818181818182,
          303.72727272727275,
          308.7727272727273,
          313.81818181818187,
          318.8636363636364,
          323.90909090909093,
          328.9545454545455,
          334,
          339.04545454545456,
          344.0909090909091,
          349.1363636363637,
          354.1818181818182,
          359.22727272727275,
          364.2727272727273,
          369.31818181818187,
          374.3636363636364,
          379.40909090909093,
          384.4545454545455,
          389.50000000000006,
          394.54545454545456,
          399.5909090909091,
          404.6363636363637,
          409.6818181818182,
          414.72727272727275,
          419.7727272727273,
          424.81818181818187,
          429.8636363636364,
          434.90909090909093,
          439.9545454545455,
          445.00000000000006,
          450.04545454545456,
          455.0909090909091,
          460.1363636363637,
          465.18181818181824,
          470.22727272727275,
          475.2727272727273,
          480.31818181818187,
          485.3636363636364,
          490.40909090909093,
          495.4545454545455,
          500.5
         ]
        },
        {
         "fill": "tozeroy",
         "fillcolor": "rgba(255, 0, 0, 0.1)",
         "mode": "lines",
         "name": "Boundary",
         "type": "scatter",
         "x": [
          1,
          11.090909090909092,
          21.181818181818183,
          31.272727272727273,
          41.36363636363637,
          51.45454545454546,
          61.54545454545455,
          71.63636363636364,
          81.72727272727273,
          91.81818181818183,
          101.90909090909092,
          112.00000000000001,
          122.0909090909091,
          132.1818181818182,
          142.27272727272728,
          152.36363636363637,
          162.45454545454547,
          172.54545454545456,
          182.63636363636365,
          192.72727272727275,
          202.81818181818184,
          212.90909090909093,
          223.00000000000003,
          233.09090909090912,
          243.1818181818182,
          253.27272727272728,
          263.3636363636364,
          273.4545454545455,
          283.54545454545456,
          293.6363636363637,
          303.72727272727275,
          313.81818181818187,
          323.90909090909093,
          334,
          344.0909090909091,
          354.1818181818182,
          364.2727272727273,
          374.3636363636364,
          384.4545454545455,
          394.54545454545456,
          404.6363636363637,
          414.72727272727275,
          424.81818181818187,
          434.90909090909093,
          445.00000000000006,
          455.0909090909091,
          465.18181818181824,
          475.2727272727273,
          485.3636363636364,
          495.4545454545455,
          505.54545454545456,
          515.6363636363636,
          525.7272727272727,
          535.8181818181819,
          545.909090909091,
          556,
          566.0909090909091,
          576.1818181818182,
          586.2727272727274,
          596.3636363636364,
          606.4545454545455,
          616.5454545454546,
          626.6363636363637,
          636.7272727272727,
          646.8181818181819,
          656.909090909091,
          667,
          677.0909090909091,
          687.1818181818182,
          697.2727272727274,
          707.3636363636364,
          717.4545454545455,
          727.5454545454546,
          737.6363636363637,
          747.7272727272727,
          757.8181818181819,
          767.909090909091,
          778.0000000000001,
          788.0909090909091,
          798.1818181818182,
          808.2727272727274,
          818.3636363636364,
          828.4545454545455,
          838.5454545454546,
          848.6363636363637,
          858.7272727272727,
          868.8181818181819,
          878.909090909091,
          889.0000000000001,
          899.0909090909091,
          909.1818181818182,
          919.2727272727274,
          929.3636363636365,
          939.4545454545455,
          949.5454545454546,
          959.6363636363637,
          969.7272727272727,
          979.8181818181819,
          989.909090909091,
          1000
         ],
         "y": [
          0.5,
          6.748517431421989,
          12.117480681292756,
          17.357736828651152,
          22.543019254894475,
          27.697622129975137,
          32.832615272784224,
          37.95398322671157,
          43.06533024447299,
          48.16899607760938,
          53.26658602968236,
          58.359249435647556,
          63.44783750731698,
          68.53299828355664,
          73.61523655145159,
          78.69495318594002,
          83.77247184845326,
          88.84805762591303,
          93.9219303641901,
          98.99427441107022,
          104.065245869908,
          109.13497809022512,
          114.20358588573008,
          119.27116881807565,
          124.33781378417495,
          129.40359707713432,
          134.46858604430366,
          139.53284043340844,
          144.596413494632,
          149.659352889891,
          154.72170144841556,
          159.7834977987934,
          164.8447769009492,
          169.90557049648834,
          174.96590749199115,
          180.02581428689112,
          185.08531505528254,
          190.14443198921288,
          195.2031855096098,
          200.26159444987533,
          205.3196762162906,
          210.37744692865937,
          215.43492154404197,
          220.49211396596152,
          225.54903714108315,
          230.60570314505122,
          235.6621232589125,
          240.71830803733653,
          245.7742673696691,
          250.8300105347022,
          255.88554624992187,
          260.9408827158886,
          265.9960276563163,
          271.0509883543406,
          276.10577168540334,
          281.1603841471253,
          286.2148318864916,
          291.26912072463534,
          296.3232561794697,
          301.37724348638807,
          306.43108761722834,
          311.48479329767093,
          316.53836502322554,
          321.59180707394006,
          326.64512352795373,
          331.6983182740001,
          336.7513950229578,
          341.80435731853385,
          346.857208547156,
          351.90995194714515,
          356.9625906172275,
          362.01512752444484,
          367.06756551151165,
          372.11990730366585,
          377.172155515054,
          382.22431265468833,
          387.27638113201004,
          392.3283632620892,
          397.3802612704897,
          402.4320772978245,
          407.48381340402506,
          412.53547157234544,
          417.58705371312163,
          422.63856166730255,
          427.6899972097706,
          432.7413620524652,
          437.79265784732485,
          442.843886189058,
          447.895048617757,
          452.94614662136377,
          457.9971816379982,
          463.0481550581578,
          468.09906822679756,
          473.14992244529714,
          478.20071897332343,
          483.2514590305943,
          488.30214379854993,
          493.3527744219385,
          498.40335201031934,
          503.45387763949105
         ]
        },
        {
         "fill": "tozeroy",
         "fillcolor": "rgba(0, 255, 0, 0.1)",
         "mode": "lines",
         "name": "Boundary",
         "type": "scatter",
         "x": [
          1,
          11.090909090909092,
          21.181818181818183,
          31.272727272727273,
          41.36363636363637,
          51.45454545454546,
          61.54545454545455,
          71.63636363636364,
          81.72727272727273,
          91.81818181818183,
          101.90909090909092,
          112.00000000000001,
          122.0909090909091,
          132.1818181818182,
          142.27272727272728,
          152.36363636363637,
          162.45454545454547,
          172.54545454545456,
          182.63636363636365,
          192.72727272727275,
          202.81818181818184,
          212.90909090909093,
          223.00000000000003,
          233.09090909090912,
          243.1818181818182,
          253.27272727272728,
          263.3636363636364,
          273.4545454545455,
          283.54545454545456,
          293.6363636363637,
          303.72727272727275,
          313.81818181818187,
          323.90909090909093,
          334,
          344.0909090909091,
          354.1818181818182,
          364.2727272727273,
          374.3636363636364,
          384.4545454545455,
          394.54545454545456,
          404.6363636363637,
          414.72727272727275,
          424.81818181818187,
          434.90909090909093,
          445.00000000000006,
          455.0909090909091,
          465.18181818181824,
          475.2727272727273,
          485.3636363636364,
          495.4545454545455,
          505.54545454545456,
          515.6363636363636,
          525.7272727272727,
          535.8181818181819,
          545.909090909091,
          556,
          566.0909090909091,
          576.1818181818182,
          586.2727272727274,
          596.3636363636364,
          606.4545454545455,
          616.5454545454546,
          626.6363636363637,
          636.7272727272727,
          646.8181818181819,
          656.909090909091,
          667,
          677.0909090909091,
          687.1818181818182,
          697.2727272727274,
          707.3636363636364,
          717.4545454545455,
          727.5454545454546,
          737.6363636363637,
          747.7272727272727,
          757.8181818181819,
          767.909090909091,
          778.0000000000001,
          788.0909090909091,
          798.1818181818182,
          808.2727272727274,
          818.3636363636364,
          828.4545454545455,
          838.5454545454546,
          848.6363636363637,
          858.7272727272727,
          868.8181818181819,
          878.909090909091,
          889.0000000000001,
          899.0909090909091,
          909.1818181818182,
          919.2727272727274,
          929.3636363636365,
          939.4545454545455,
          949.5454545454546,
          959.6363636363637,
          969.7272727272727,
          979.8181818181819,
          989.909090909091,
          1000
         ],
         "y": [
          0,
          14.546123984879085,
          33.86213345941948,
          55.55340756927886,
          78.84724545941374,
          103.35378230538987,
          128.83663127628938,
          155.13684776502487,
          182.14013014193898,
          209.76028882339594,
          237.92999373226957,
          266.5951862281729,
          295.7115027601577,
          325.2418788389688,
          355.1548831071451,
          385.42352290486593,
          416.02436544387194,
          446.9368767483272,
          478.14291481243004,
          509.6263344619565,
          541.3726747410815,
          573.3689083412916,
          605.6032384035334,
          638.0649319999383,
          670.7441823738292,
          703.6319939850565,
          736.7200858279823,
          770.0008095294199,
          803.4670795056148,
          837.1123130372189,
          870.930378561805,
          904.9155508217881,
          939.0624717679037,
          973.3661163235975,
          1007.8217622775358,
          1042.4249637001622,
          1077.1715273832808,
          1112.0574918847858,
          1147.0791088281028,
          1182.2328261610112,
          1217.515273123746,
          1252.923246713645,
          1288.4536994646014,
          1324.1037283854503,
          1359.8705649230717,
          1395.7515658342288,
          1431.7442048655669,
          1467.846065154261,
          1504.0548322729417,
          1540.3682878520256,
          1576.784303720754,
          1613.3008365152477,
          1649.9159227079526,
          1686.6276740180995,
          1723.4342731673516,
          1760.3339699487872,
          1797.3250775808237,
          1834.4059693207225,
          1871.5750753149807,
          1908.830879666245,
          1946.1719176984668,
          1983.5967734038113,
          2021.1040770564819,
          2058.6925029800327,
          2096.3607674560226,
          2134.1076267629996,
          2171.931875335818,
          2209.832344036204,
          2247.807898526278,
          2285.857437737495,
          2323.979892428101,
          2362.174223822805,
          2400.439422328881,
          2438.7745063234174,
          2477.178521006851,
          2515.6505373183095,
          2554.189650908662,
          2592.794981167484,
          2631.465670300452,
          2670.2008824539316,
          2708.9998028837863,
          2747.861637165649,
          2786.785610444106,
          2825.7709667184135,
          2864.8169681625673,
          2903.9228944776723,
          2943.0880422747273,
          2982.3117244860464,
          3021.5932698036877,
          3060.932022143357,
          3100.3273401323454,
          3139.778596620184,
          3179.2851782107623,
          3218.8464848147464,
          3258.461929221211,
          3298.130936687461,
          3337.8529445460867,
          3377.6274018283693,
          3417.4537689031745,
          3457.3315171305594
         ]
        },
        {
         "fill": "tozeroy",
         "fillcolor": "rgba(255, 0, 255, 0.1)",
         "mode": "lines",
         "name": "Boundary",
         "type": "scatter",
         "x": [
          1,
          11.090909090909092,
          21.181818181818183,
          31.272727272727273,
          41.36363636363637,
          51.45454545454546,
          61.54545454545455,
          71.63636363636364,
          81.72727272727273,
          91.81818181818183,
          101.90909090909092,
          112.00000000000001,
          122.0909090909091,
          132.1818181818182,
          142.27272727272728,
          152.36363636363637,
          162.45454545454547,
          172.54545454545456,
          182.63636363636365,
          192.72727272727275,
          202.81818181818184,
          212.90909090909093,
          223.00000000000003,
          233.09090909090912,
          243.1818181818182,
          253.27272727272728,
          263.3636363636364,
          273.4545454545455,
          283.54545454545456,
          293.6363636363637,
          303.72727272727275,
          313.81818181818187,
          323.90909090909093,
          334,
          344.0909090909091,
          354.1818181818182,
          364.2727272727273,
          374.3636363636364,
          384.4545454545455,
          394.54545454545456,
          404.6363636363637,
          414.72727272727275,
          424.81818181818187,
          434.90909090909093,
          445.00000000000006,
          455.0909090909091,
          465.18181818181824,
          475.2727272727273,
          485.3636363636364,
          495.4545454545455,
          505.54545454545456,
          515.6363636363636,
          525.7272727272727,
          535.8181818181819,
          545.909090909091,
          556,
          566.0909090909091,
          576.1818181818182,
          586.2727272727274,
          596.3636363636364,
          606.4545454545455,
          616.5454545454546,
          626.6363636363637,
          636.7272727272727,
          646.8181818181819,
          656.909090909091,
          667,
          677.0909090909091,
          687.1818181818182,
          697.2727272727274,
          707.3636363636364,
          717.4545454545455,
          727.5454545454546,
          737.6363636363637,
          747.7272727272727,
          757.8181818181819,
          767.909090909091,
          778.0000000000001,
          788.0909090909091,
          798.1818181818182,
          808.2727272727274,
          818.3636363636364,
          828.4545454545455,
          838.5454545454546,
          848.6363636363637,
          858.7272727272727,
          868.8181818181819,
          878.909090909091,
          889.0000000000001,
          899.0909090909091,
          909.1818181818182,
          919.2727272727274,
          929.3636363636365,
          939.4545454545455,
          949.5454545454546,
          959.6363636363637,
          969.7272727272727,
          979.8181818181819,
          989.909090909091,
          1000
         ],
         "y": [
          0.5,
          74.84719333031661,
          256.6702726128375,
          542.8237699141814,
          932.4612509979078,
          1425.1685568696298,
          2020.6982308795382,
          2718.885343877156,
          3519.611989980111,
          4422.789639853226,
          5428.349358115811,
          6536.235936792527,
          7746.404161120609,
          9058.816318571942,
          10473.440473001976,
          11990.249230875952,
          13609.218835744181,
          15330.328488543904,
          17153.55982742345,
          19078.89652286081,
          21106.323957796798,
          23235.828971573384,
          25467.39965251781,
          27801.025168140546,
          30236.695624788,
          32774.40195062693,
          35414.13579730435,
          38155.889456699326,
          40999.65578997793,
          43945.42816675891,
          46993.200412650585,
          50142.96676376682,
          53394.72182709837,
          56748.46054582711,
          60204.17816883514,
          63761.87022379344,
          67421.53249331974,
          71183.16099377988,
          75046.75195637636,
          79012.30181022354,
          83079.8071671554,
          87249.26480804945,
          91520.67167048257,
          95894.02483756,
          100369.32152778201,
          104946.55908582968,
          109625.73497416866,
          114406.8467653814,
          119289.89213515121,
          124274.86885582974,
          129361.7747905287,
          134550.60788768367,
          139841.36617604338,
          145234.04776004393,
          150728.65081553158,
          156325.17358580168,
          162023.61437792575,
          167823.9715593399,
          173726.24355467278,
          179730.42884279144,
          185836.5259540482,
          192044.5334677095,
          198354.45000955398,
          204766.27424962513,
          211280.00490012646,
          217895.64071344773,
          224613.18048031285,
          231432.62302804,
          238353.96721890479,
          245377.21194860034,
          252502.35614478608,
          259729.39876571987,
          267058.3387989662,
          274489.1752601768,
          282021.9071919381,
          289656.5336626802,
          297393.0537656445,
          305231.46661790553,
          313171.77135944326,
          321213.96715226356,
          329358.0531795625,
          337604.02864493214,
          345951.8927716071,
          354401.6448017454,
          362953.2839957462,
          371606.8096315988,
          380362.22100426216,
          389219.51742507395,
          398178.69822118606,
          407239.76273502613,
          416402.7103237836,
          425667.54035891744,
          435034.25222568656,
          444502.84532270004,
          454073.3190614876,
          463745.6728660867,
          473519.90617264836,
          483396.01842905936,
          493374.00909457885,
          503453.87763949105
         ]
        },
        {
         "fill": "tozeroy",
         "mode": "lines",
         "name": "O(1)",
         "type": "scatter",
         "x": [
          1,
          11.090909090909092,
          21.181818181818183,
          31.272727272727273,
          41.36363636363637,
          51.45454545454546,
          61.54545454545455,
          71.63636363636364,
          81.72727272727273,
          91.81818181818183,
          101.90909090909092,
          112.00000000000001,
          122.0909090909091,
          132.1818181818182,
          142.27272727272728,
          152.36363636363637,
          162.45454545454547,
          172.54545454545456,
          182.63636363636365,
          192.72727272727275,
          202.81818181818184,
          212.90909090909093,
          223.00000000000003,
          233.09090909090912,
          243.1818181818182,
          253.27272727272728,
          263.3636363636364,
          273.4545454545455,
          283.54545454545456,
          293.6363636363637,
          303.72727272727275,
          313.81818181818187,
          323.90909090909093,
          334,
          344.0909090909091,
          354.1818181818182,
          364.2727272727273,
          374.3636363636364,
          384.4545454545455,
          394.54545454545456,
          404.6363636363637,
          414.72727272727275,
          424.81818181818187,
          434.90909090909093,
          445.00000000000006,
          455.0909090909091,
          465.18181818181824,
          475.2727272727273,
          485.3636363636364,
          495.4545454545455,
          505.54545454545456,
          515.6363636363636,
          525.7272727272727,
          535.8181818181819,
          545.909090909091,
          556,
          566.0909090909091,
          576.1818181818182,
          586.2727272727274,
          596.3636363636364,
          606.4545454545455,
          616.5454545454546,
          626.6363636363637,
          636.7272727272727,
          646.8181818181819,
          656.909090909091,
          667,
          677.0909090909091,
          687.1818181818182,
          697.2727272727274,
          707.3636363636364,
          717.4545454545455,
          727.5454545454546,
          737.6363636363637,
          747.7272727272727,
          757.8181818181819,
          767.909090909091,
          778.0000000000001,
          788.0909090909091,
          798.1818181818182,
          808.2727272727274,
          818.3636363636364,
          828.4545454545455,
          838.5454545454546,
          848.6363636363637,
          858.7272727272727,
          868.8181818181819,
          878.909090909091,
          889.0000000000001,
          899.0909090909091,
          909.1818181818182,
          919.2727272727274,
          929.3636363636365,
          939.4545454545455,
          949.5454545454546,
          959.6363636363637,
          969.7272727272727,
          979.8181818181819,
          989.909090909091,
          1000
         ],
         "y": [
          1,
          1,
          1,
          1,
          1,
          1,
          1,
          1,
          1,
          1,
          1,
          1,
          1,
          1,
          1,
          1,
          1,
          1,
          1,
          1,
          1,
          1,
          1,
          1,
          1,
          1,
          1,
          1,
          1,
          1,
          1,
          1,
          1,
          1,
          1,
          1,
          1,
          1,
          1,
          1,
          1,
          1,
          1,
          1,
          1,
          1,
          1,
          1,
          1,
          1,
          1,
          1,
          1,
          1,
          1,
          1,
          1,
          1,
          1,
          1,
          1,
          1,
          1,
          1,
          1,
          1,
          1,
          1,
          1,
          1,
          1,
          1,
          1,
          1,
          1,
          1,
          1,
          1,
          1,
          1,
          1,
          1,
          1,
          1,
          1,
          1,
          1,
          1,
          1,
          1,
          1,
          1,
          1,
          1,
          1,
          1,
          1,
          1,
          1,
          1
         ]
        },
        {
         "fill": "tozeroy",
         "mode": "lines",
         "name": "O(n)",
         "type": "scatter",
         "x": [
          1,
          11.090909090909092,
          21.181818181818183,
          31.272727272727273,
          41.36363636363637,
          51.45454545454546,
          61.54545454545455,
          71.63636363636364,
          81.72727272727273,
          91.81818181818183,
          101.90909090909092,
          112.00000000000001,
          122.0909090909091,
          132.1818181818182,
          142.27272727272728,
          152.36363636363637,
          162.45454545454547,
          172.54545454545456,
          182.63636363636365,
          192.72727272727275,
          202.81818181818184,
          212.90909090909093,
          223.00000000000003,
          233.09090909090912,
          243.1818181818182,
          253.27272727272728,
          263.3636363636364,
          273.4545454545455,
          283.54545454545456,
          293.6363636363637,
          303.72727272727275,
          313.81818181818187,
          323.90909090909093,
          334,
          344.0909090909091,
          354.1818181818182,
          364.2727272727273,
          374.3636363636364,
          384.4545454545455,
          394.54545454545456,
          404.6363636363637,
          414.72727272727275,
          424.81818181818187,
          434.90909090909093,
          445.00000000000006,
          455.0909090909091,
          465.18181818181824,
          475.2727272727273,
          485.3636363636364,
          495.4545454545455,
          505.54545454545456,
          515.6363636363636,
          525.7272727272727,
          535.8181818181819,
          545.909090909091,
          556,
          566.0909090909091,
          576.1818181818182,
          586.2727272727274,
          596.3636363636364,
          606.4545454545455,
          616.5454545454546,
          626.6363636363637,
          636.7272727272727,
          646.8181818181819,
          656.909090909091,
          667,
          677.0909090909091,
          687.1818181818182,
          697.2727272727274,
          707.3636363636364,
          717.4545454545455,
          727.5454545454546,
          737.6363636363637,
          747.7272727272727,
          757.8181818181819,
          767.909090909091,
          778.0000000000001,
          788.0909090909091,
          798.1818181818182,
          808.2727272727274,
          818.3636363636364,
          828.4545454545455,
          838.5454545454546,
          848.6363636363637,
          858.7272727272727,
          868.8181818181819,
          878.909090909091,
          889.0000000000001,
          899.0909090909091,
          909.1818181818182,
          919.2727272727274,
          929.3636363636365,
          939.4545454545455,
          949.5454545454546,
          959.6363636363637,
          969.7272727272727,
          979.8181818181819,
          989.909090909091,
          1000
         ],
         "y": [
          1,
          11.090909090909092,
          21.181818181818183,
          31.272727272727273,
          41.36363636363637,
          51.45454545454546,
          61.54545454545455,
          71.63636363636364,
          81.72727272727273,
          91.81818181818183,
          101.90909090909092,
          112.00000000000001,
          122.0909090909091,
          132.1818181818182,
          142.27272727272728,
          152.36363636363637,
          162.45454545454547,
          172.54545454545456,
          182.63636363636365,
          192.72727272727275,
          202.81818181818184,
          212.90909090909093,
          223.00000000000003,
          233.09090909090912,
          243.1818181818182,
          253.27272727272728,
          263.3636363636364,
          273.4545454545455,
          283.54545454545456,
          293.6363636363637,
          303.72727272727275,
          313.81818181818187,
          323.90909090909093,
          334,
          344.0909090909091,
          354.1818181818182,
          364.2727272727273,
          374.3636363636364,
          384.4545454545455,
          394.54545454545456,
          404.6363636363637,
          414.72727272727275,
          424.81818181818187,
          434.90909090909093,
          445.00000000000006,
          455.0909090909091,
          465.18181818181824,
          475.2727272727273,
          485.3636363636364,
          495.4545454545455,
          505.54545454545456,
          515.6363636363636,
          525.7272727272727,
          535.8181818181819,
          545.909090909091,
          556,
          566.0909090909091,
          576.1818181818182,
          586.2727272727274,
          596.3636363636364,
          606.4545454545455,
          616.5454545454546,
          626.6363636363637,
          636.7272727272727,
          646.8181818181819,
          656.909090909091,
          667,
          677.0909090909091,
          687.1818181818182,
          697.2727272727274,
          707.3636363636364,
          717.4545454545455,
          727.5454545454546,
          737.6363636363637,
          747.7272727272727,
          757.8181818181819,
          767.909090909091,
          778.0000000000001,
          788.0909090909091,
          798.1818181818182,
          808.2727272727274,
          818.3636363636364,
          828.4545454545455,
          838.5454545454546,
          848.6363636363637,
          858.7272727272727,
          868.8181818181819,
          878.909090909091,
          889.0000000000001,
          899.0909090909091,
          909.1818181818182,
          919.2727272727274,
          929.3636363636365,
          939.4545454545455,
          949.5454545454546,
          959.6363636363637,
          969.7272727272727,
          979.8181818181819,
          989.909090909091,
          1000
         ]
        },
        {
         "fill": "tozeroy",
         "mode": "lines",
         "name": "O(log(n))",
         "type": "scatter",
         "x": [
          1,
          11.090909090909092,
          21.181818181818183,
          31.272727272727273,
          41.36363636363637,
          51.45454545454546,
          61.54545454545455,
          71.63636363636364,
          81.72727272727273,
          91.81818181818183,
          101.90909090909092,
          112.00000000000001,
          122.0909090909091,
          132.1818181818182,
          142.27272727272728,
          152.36363636363637,
          162.45454545454547,
          172.54545454545456,
          182.63636363636365,
          192.72727272727275,
          202.81818181818184,
          212.90909090909093,
          223.00000000000003,
          233.09090909090912,
          243.1818181818182,
          253.27272727272728,
          263.3636363636364,
          273.4545454545455,
          283.54545454545456,
          293.6363636363637,
          303.72727272727275,
          313.81818181818187,
          323.90909090909093,
          334,
          344.0909090909091,
          354.1818181818182,
          364.2727272727273,
          374.3636363636364,
          384.4545454545455,
          394.54545454545456,
          404.6363636363637,
          414.72727272727275,
          424.81818181818187,
          434.90909090909093,
          445.00000000000006,
          455.0909090909091,
          465.18181818181824,
          475.2727272727273,
          485.3636363636364,
          495.4545454545455,
          505.54545454545456,
          515.6363636363636,
          525.7272727272727,
          535.8181818181819,
          545.909090909091,
          556,
          566.0909090909091,
          576.1818181818182,
          586.2727272727274,
          596.3636363636364,
          606.4545454545455,
          616.5454545454546,
          626.6363636363637,
          636.7272727272727,
          646.8181818181819,
          656.909090909091,
          667,
          677.0909090909091,
          687.1818181818182,
          697.2727272727274,
          707.3636363636364,
          717.4545454545455,
          727.5454545454546,
          737.6363636363637,
          747.7272727272727,
          757.8181818181819,
          767.909090909091,
          778.0000000000001,
          788.0909090909091,
          798.1818181818182,
          808.2727272727274,
          818.3636363636364,
          828.4545454545455,
          838.5454545454546,
          848.6363636363637,
          858.7272727272727,
          868.8181818181819,
          878.909090909091,
          889.0000000000001,
          899.0909090909091,
          909.1818181818182,
          919.2727272727274,
          929.3636363636365,
          939.4545454545455,
          949.5454545454546,
          959.6363636363637,
          969.7272727272727,
          979.8181818181819,
          989.909090909091,
          1000
         ],
         "y": [
          0,
          2.406125771934886,
          3.05314318076733,
          3.442746384575028,
          3.72240214615258,
          3.9406988054048124,
          4.119776000113904,
          4.271602817059509,
          4.40338776167325,
          4.519810337036935,
          4.624081150273789,
          4.718498871295095,
          4.804765923724867,
          4.884178385295094,
          4.957745830175883,
          5.0262700082436575,
          5.090398242361058,
          5.150660706371503,
          5.207497092016564,
          5.2612760948676875,
          5.312309921634162,
          5.360865271359292,
          5.407171771460119,
          5.45142854524219,
          5.493809386531736,
          5.5344668815413804,
          5.57353572497098,
          5.61113541227136,
          5.647372443809433,
          5.682342143418332,
          5.716130169558386,
          5.748813779404948,
          5.780462892807465,
          5.811140992976701,
          5.840905893073178,
          5.869810391964055,
          5.8979028378377745,
          5.925227614789364,
          5.9518255646741185,
          5.97773435429608,
          6.002988796217484,
          6.027621130045963,
          6.0516612699020556,
          6.075137022832097,
          6.09807428216624,
          6.120497199193349,
          6.142428336006722,
          6.163888801945742,
          6.184898375701816,
          6.205475614858919,
          6.225637954389193,
          6.245401795413593,
          6.264782585359848,
          6.283794890499269,
          6.302452461715713,
          6.320768294250582,
          6.338754682074081,
          6.356423267452495,
          6.373785086212007,
          6.390850609139764,
          6.407629779911145,
          6.424132049887214,
          6.4403664100872815,
          6.456341420607372,
          6.472065237725582,
          6.487545638909215,
          6.502790045915623,
          6.517805546158533,
          6.532598912493806,
          6.547176621562931,
          6.56154487081856,
          6.5757095943441355,
          6.589676477568676,
          6.603450970968022,
          6.617038302835202,
          6.630443491194778,
          6.643671354929126,
          6.656726524178392,
          6.66961345007027,
          6.682336413830792,
          6.694899535322769,
          6.707306781054507,
          6.719561971697757,
          6.7316687891505245,
          6.743630783177452,
          6.755451377657692,
          6.767133876467809,
          6.7786814690250035,
          6.790097235513905,
          6.801384151818387,
          6.812545094178145,
          6.823582843588269,
          6.834500089958643,
          6.84529943604876,
          6.8559834011922955,
          6.8665544248248445,
          6.8770148698271125,
          6.887367025695071,
          6.897613111547691,
          6.907755278982137
         ]
        },
        {
         "fill": "tozeroy",
         "mode": "lines",
         "name": "O(n*log(n))",
         "type": "scatter",
         "x": [
          1,
          11.090909090909092,
          21.181818181818183,
          31.272727272727273,
          41.36363636363637,
          51.45454545454546,
          61.54545454545455,
          71.63636363636364,
          81.72727272727273,
          91.81818181818183,
          101.90909090909092,
          112.00000000000001,
          122.0909090909091,
          132.1818181818182,
          142.27272727272728,
          152.36363636363637,
          162.45454545454547,
          172.54545454545456,
          182.63636363636365,
          192.72727272727275,
          202.81818181818184,
          212.90909090909093,
          223.00000000000003,
          233.09090909090912,
          243.1818181818182,
          253.27272727272728,
          263.3636363636364,
          273.4545454545455,
          283.54545454545456,
          293.6363636363637,
          303.72727272727275,
          313.81818181818187,
          323.90909090909093,
          334,
          344.0909090909091,
          354.1818181818182,
          364.2727272727273,
          374.3636363636364,
          384.4545454545455,
          394.54545454545456,
          404.6363636363637,
          414.72727272727275,
          424.81818181818187,
          434.90909090909093,
          445.00000000000006,
          455.0909090909091,
          465.18181818181824,
          475.2727272727273,
          485.3636363636364,
          495.4545454545455,
          505.54545454545456,
          515.6363636363636,
          525.7272727272727,
          535.8181818181819,
          545.909090909091,
          556,
          566.0909090909091,
          576.1818181818182,
          586.2727272727274,
          596.3636363636364,
          606.4545454545455,
          616.5454545454546,
          626.6363636363637,
          636.7272727272727,
          646.8181818181819,
          656.909090909091,
          667,
          677.0909090909091,
          687.1818181818182,
          697.2727272727274,
          707.3636363636364,
          717.4545454545455,
          727.5454545454546,
          737.6363636363637,
          747.7272727272727,
          757.8181818181819,
          767.909090909091,
          778.0000000000001,
          788.0909090909091,
          798.1818181818182,
          808.2727272727274,
          818.3636363636364,
          828.4545454545455,
          838.5454545454546,
          848.6363636363637,
          858.7272727272727,
          868.8181818181819,
          878.909090909091,
          889.0000000000001,
          899.0909090909091,
          909.1818181818182,
          919.2727272727274,
          929.3636363636365,
          939.4545454545455,
          949.5454545454546,
          959.6363636363637,
          969.7272727272727,
          979.8181818181819,
          989.909090909091,
          1000
         ],
         "y": [
          0,
          26.686122197823284,
          64.67112373807163,
          107.66406875398269,
          153.9720887726749,
          202.76686580537492,
          253.55348655246485,
          306.00209271299025,
          359.87687252220474,
          415.00076730975496,
          471.2359063142653,
          528.4718735850507,
          586.6182395965906,
          645.5995792926425,
          705.3520203841143,
          765.8207758014883,
          826.9583326453828,
          888.723092790283,
          951.0783325328435,
          1013.9913928290454,
          1077.4330395605289,
          1141.376951411224,
          1205.7993050356067,
          1270.6784354546344,
          1335.9945553611267,
          1401.7295210885716,
          1467.8666359309937,
          1534.3904836465686,
          1601.2867865674202,
          1668.5422839310195,
          1736.1446269540515,
          1804.0822878641711,
          1872.344480643,
          1940.9210916542181,
          2009.8026186619984,
          2078.98011700836,
          2148.445151928724,
          2218.189756154782,
          2288.2063920915316,
          2358.4879179677264,
          2429.027557451275,
          2499.818872297244,
          2570.8557376593008,
          2642.1323197480683,
          2713.643055563977,
          2785.3826344692643,
          2857.345981395127,
          2929.5282415065763,
          3001.9247661701816,
          3074.531100089192,
          3147.342969487119,
          3220.3562712350817,
          3293.5670628305456,
          3366.9715531456995,
          3440.5660938729875,
          3514.3471716033237,
          3588.3114004795734,
          3662.4555153739925,
          3736.7763655437493,
          3811.27090872335,
          3885.9362056170226,
          3960.7694147577354,
          4035.7677877028764,
          4110.928664539458,
          4186.24946967432,
          4261.72770788709,
          4337.3609606257205,
          4413.14688252625,
          4489.083198140062,
          4565.167698853426,
          4641.398239985383,
          4717.772738051265,
          4794.289168180193,
          4870.945561675867,
          4947.740003710867,
          5024.6706311454245,
          5101.7356304623945,
          5178.9332358107895,
          5256.261727150834,
          5333.719428494032,
          5411.304706232249,
          5489.015967550244,
          5566.851658916515,
          5644.810264647676,
          5722.890305541957,
          5801.090337577687,
          5879.408950672987,
          5957.8447675030675,
          6036.396442371862,
          6115.062660134895,
          6193.842135170513,
          6272.73361039678,
          6351.735856331566,
          6430.847670193444,
          6510.06787504123,
          6589.395318950097,
          6668.828874222347,
          6748.367436631043,
          6828.009924694801,
          6907.755278982137
         ]
        },
        {
         "fill": "tozeroy",
         "mode": "lines",
         "name": "O(n^2)",
         "type": "scatter",
         "x": [
          1,
          11.090909090909092,
          21.181818181818183,
          31.272727272727273,
          41.36363636363637,
          51.45454545454546,
          61.54545454545455,
          71.63636363636364,
          81.72727272727273,
          91.81818181818183,
          101.90909090909092,
          112.00000000000001,
          122.0909090909091,
          132.1818181818182,
          142.27272727272728,
          152.36363636363637,
          162.45454545454547,
          172.54545454545456,
          182.63636363636365,
          192.72727272727275,
          202.81818181818184,
          212.90909090909093,
          223.00000000000003,
          233.09090909090912,
          243.1818181818182,
          253.27272727272728,
          263.3636363636364,
          273.4545454545455,
          283.54545454545456,
          293.6363636363637,
          303.72727272727275,
          313.81818181818187,
          323.90909090909093,
          334,
          344.0909090909091,
          354.1818181818182,
          364.2727272727273,
          374.3636363636364,
          384.4545454545455,
          394.54545454545456,
          404.6363636363637,
          414.72727272727275,
          424.81818181818187,
          434.90909090909093,
          445.00000000000006,
          455.0909090909091,
          465.18181818181824,
          475.2727272727273,
          485.3636363636364,
          495.4545454545455,
          505.54545454545456,
          515.6363636363636,
          525.7272727272727,
          535.8181818181819,
          545.909090909091,
          556,
          566.0909090909091,
          576.1818181818182,
          586.2727272727274,
          596.3636363636364,
          606.4545454545455,
          616.5454545454546,
          626.6363636363637,
          636.7272727272727,
          646.8181818181819,
          656.909090909091,
          667,
          677.0909090909091,
          687.1818181818182,
          697.2727272727274,
          707.3636363636364,
          717.4545454545455,
          727.5454545454546,
          737.6363636363637,
          747.7272727272727,
          757.8181818181819,
          767.909090909091,
          778.0000000000001,
          788.0909090909091,
          798.1818181818182,
          808.2727272727274,
          818.3636363636364,
          828.4545454545455,
          838.5454545454546,
          848.6363636363637,
          858.7272727272727,
          868.8181818181819,
          878.909090909091,
          889.0000000000001,
          899.0909090909091,
          909.1818181818182,
          919.2727272727274,
          929.3636363636365,
          939.4545454545455,
          949.5454545454546,
          959.6363636363637,
          969.7272727272727,
          979.8181818181819,
          989.909090909091,
          1000
         ],
         "y": [
          1,
          123.00826446280993,
          448.66942148760336,
          977.9834710743802,
          1710.9504132231407,
          2647.5702479338847,
          3787.8429752066118,
          5131.768595041322,
          6679.347107438018,
          8430.578512396696,
          10385.462809917357,
          12544.000000000004,
          14906.190082644629,
          17472.03305785124,
          20241.528925619838,
          23214.677685950417,
          26391.47933884298,
          29771.933884297527,
          33356.04132231406,
          37143.80165289257,
          41135.21487603307,
          45330.28099173555,
          49729.000000000015,
          54331.37190082646,
          59137.396694214876,
          64147.07438016529,
          69360.4049586777,
          74777.38842975209,
          80398.02479338844,
          86222.3140495868,
          92250.25619834712,
          98481.85123966946,
          104917.09917355374,
          111556,
          118398.55371900828,
          125444.76033057852,
          132694.61983471076,
          140148.13223140498,
          147805.2975206612,
          155666.11570247935,
          163730.58677685953,
          171998.71074380167,
          180470.48760330584,
          189145.91735537193,
          198025.00000000006,
          207107.7355371901,
          216394.1239669422,
          225884.16528925623,
          235577.85950413224,
          245475.2066115703,
          255576.20661157026,
          265880.85950413224,
          276389.1652892562,
          287101.1239669422,
          298016.73553719016,
          309136,
          320458.91735537193,
          331985.48760330584,
          343715.7107438018,
          355649.58677685953,
          367787.1157024794,
          380128.29752066126,
          392673.13223140506,
          405421.6198347108,
          418373.7603305786,
          431529.5537190084,
          444889,
          458452.09917355375,
          472218.8512396695,
          486189.25619834726,
          500363.31404958677,
          514741.0247933885,
          529322.3884297522,
          544107.4049586778,
          559096.0743801653,
          574288.3966942149,
          589684.3719008266,
          605284.0000000002,
          621087.2809917356,
          637094.2148760331,
          653304.8016528927,
          669719.0413223141,
          686336.9338842976,
          703158.4793388431,
          720183.6776859505,
          737412.5289256199,
          754845.0330578514,
          772481.1900826448,
          790321.0000000002,
          808364.4628099174,
          826611.5785123968,
          845062.3471074381,
          863716.7685950416,
          882574.8429752067,
          901636.570247934,
          920901.9504132234,
          940370.9834710744,
          960043.6694214877,
          979920.0082644629,
          1000000
         ]
        },
        {
         "fill": "tozeroy",
         "mode": "lines",
         "name": "O(2^n)",
         "type": "scatter",
         "x": [
          1,
          11.090909090909092,
          21.181818181818183,
          31.272727272727273,
          41.36363636363637,
          51.45454545454546,
          61.54545454545455,
          71.63636363636364,
          81.72727272727273,
          91.81818181818183,
          101.90909090909092,
          112.00000000000001,
          122.0909090909091,
          132.1818181818182,
          142.27272727272728,
          152.36363636363637,
          162.45454545454547,
          172.54545454545456,
          182.63636363636365,
          192.72727272727275,
          202.81818181818184,
          212.90909090909093,
          223.00000000000003,
          233.09090909090912,
          243.1818181818182,
          253.27272727272728,
          263.3636363636364,
          273.4545454545455,
          283.54545454545456,
          293.6363636363637,
          303.72727272727275,
          313.81818181818187,
          323.90909090909093,
          334,
          344.0909090909091,
          354.1818181818182,
          364.2727272727273,
          374.3636363636364,
          384.4545454545455,
          394.54545454545456,
          404.6363636363637,
          414.72727272727275,
          424.81818181818187,
          434.90909090909093,
          445.00000000000006,
          455.0909090909091,
          465.18181818181824,
          475.2727272727273,
          485.3636363636364,
          495.4545454545455,
          505.54545454545456,
          515.6363636363636,
          525.7272727272727,
          535.8181818181819,
          545.909090909091,
          556,
          566.0909090909091,
          576.1818181818182,
          586.2727272727274,
          596.3636363636364,
          606.4545454545455,
          616.5454545454546,
          626.6363636363637,
          636.7272727272727,
          646.8181818181819,
          656.909090909091,
          667,
          677.0909090909091,
          687.1818181818182,
          697.2727272727274,
          707.3636363636364,
          717.4545454545455,
          727.5454545454546,
          737.6363636363637,
          747.7272727272727,
          757.8181818181819,
          767.909090909091,
          778.0000000000001,
          788.0909090909091,
          798.1818181818182,
          808.2727272727274,
          818.3636363636364,
          828.4545454545455,
          838.5454545454546,
          848.6363636363637,
          858.7272727272727,
          868.8181818181819,
          878.909090909091,
          889.0000000000001,
          899.0909090909091,
          909.1818181818182,
          919.2727272727274,
          929.3636363636365,
          939.4545454545455,
          949.5454545454546,
          959.6363636363637,
          969.7272727272727,
          979.8181818181819,
          989.909090909091,
          1000
         ],
         "y": [
          2,
          2181.204151173045,
          2378825.774547261,
          2594352327.179957,
          2829406032825.189,
          3085756092076183,
          3365331998772029000,
          3.670238062898519e+21,
          4.0027692492937877e+24,
          4.365428451373716e+27,
          4.760945329892639e+30,
          5.192296858534878e+33,
          5.66272973097947e+36,
          6.175784798091727e+39,
          6.735323719174538e+42,
          7.345558027878896e+45,
          8.011080831545976e+48,
          8.736901382575455e+51,
          9.52848278203156e+54,
          1.0391783099274074e+58,
          1.1333300217113263e+61,
          1.2360120740028925e+64,
          1.3479973333575586e+67,
          1.4701286896448525e+70,
          1.603325400305941e+73,
          1.7485900094142533e+76,
          1.9070158936170437e+79,
          2.079795491755278e+82,
          2.2682292801037565e+85,
          2.473735560787332e+88,
          2.6978611370468044e+91,
          2.9422929557075217e+94,
          3.208870804478168e+97,
          3.499601159652819e+100,
          3.816672288442445e+103,
          4.162470719608816e+106,
          4.539599206373595e+109,
          4.9508963168018816e+112,
          5.399457799117914e+115,
          5.888659882759724e+118,
          6.422184690560977e+121,
          7.00404795332566e+124,
          7.638629235404659e+127,
          8.330704898768058e+130,
          9.085484053695443e+133,
          9.90864776666832e+136,
          1.0806391820584454e+140,
          1.1785473349130408e+143,
          1.285326169633103e+146,
          1.4017793884075659e+149,
          1.5287835105116691e+152,
          1.6672944696864455e+155,
          1.8183548092540057e+158,
          1.983101529125195e+161,
          2.1627746437627895e+164,
          2.3587265155134633e+167,
          2.5724320335600025e+170,
          2.805499715105856e+173,
          3.059683812351908e+176,
          3.3368975163892816e+179,
          3.639227357393738e+182,
          3.968948909504949e+185,
          4.3285439186030525e+188,
          4.720718981895635e+191,
          5.148425919916182e+194,
          5.6148839942641565e+197,
          6.123604138321678e+200,
          6.67841538332398e+203,
          7.283493678682245e+206,
          7.943393323492338e+209,
          8.663081245800368e+212,
          9.447974387644754e+215,
          1.0303980477253888e+219,
          1.1237542495296331e+222,
          1.2255687169861217e+225,
          1.3366077865190035e+228,
          1.4577072262227632e+231,
          1.5897785265160513e+234,
          1.7338157607411883e+237,
          1.8909030673490048e+240,
          2.0622228099837896e+243,
          2.2490644768900615e+246,
          2.4528343866242685e+249,
          2.675066273122478e+252,
          2.9174328297989384e+255,
          3.1817582995627996e+258,
          3.470032205517906e+261,
          3.7844243256899855e+264,
          4.12730102449771e+267,
          4.501243063887322e+270,
          4.909065028195054e+273,
          5.353836508938848e+276,
          5.83890520899973e+279,
          6.367922140087695e+282,
          6.944869103153156e+285,
          7.5740886585757e+288,
          8.26031681171852e+291,
          9.008718659862651e+294,
          9.824927268821447e+297,
          1.0715086071862673e+301
         ]
        }
       ],
       "layout": {
        "template": {
         "data": {
          "bar": [
           {
            "error_x": {
             "color": "#2a3f5f"
            },
            "error_y": {
             "color": "#2a3f5f"
            },
            "marker": {
             "line": {
              "color": "#E5ECF6",
              "width": 0.5
             },
             "pattern": {
              "fillmode": "overlay",
              "size": 10,
              "solidity": 0.2
             }
            },
            "type": "bar"
           }
          ],
          "barpolar": [
           {
            "marker": {
             "line": {
              "color": "#E5ECF6",
              "width": 0.5
             },
             "pattern": {
              "fillmode": "overlay",
              "size": 10,
              "solidity": 0.2
             }
            },
            "type": "barpolar"
           }
          ],
          "carpet": [
           {
            "aaxis": {
             "endlinecolor": "#2a3f5f",
             "gridcolor": "white",
             "linecolor": "white",
             "minorgridcolor": "white",
             "startlinecolor": "#2a3f5f"
            },
            "baxis": {
             "endlinecolor": "#2a3f5f",
             "gridcolor": "white",
             "linecolor": "white",
             "minorgridcolor": "white",
             "startlinecolor": "#2a3f5f"
            },
            "type": "carpet"
           }
          ],
          "choropleth": [
           {
            "colorbar": {
             "outlinewidth": 0,
             "ticks": ""
            },
            "type": "choropleth"
           }
          ],
          "contour": [
           {
            "colorbar": {
             "outlinewidth": 0,
             "ticks": ""
            },
            "colorscale": [
             [
              0,
              "#0d0887"
             ],
             [
              0.1111111111111111,
              "#46039f"
             ],
             [
              0.2222222222222222,
              "#7201a8"
             ],
             [
              0.3333333333333333,
              "#9c179e"
             ],
             [
              0.4444444444444444,
              "#bd3786"
             ],
             [
              0.5555555555555556,
              "#d8576b"
             ],
             [
              0.6666666666666666,
              "#ed7953"
             ],
             [
              0.7777777777777778,
              "#fb9f3a"
             ],
             [
              0.8888888888888888,
              "#fdca26"
             ],
             [
              1,
              "#f0f921"
             ]
            ],
            "type": "contour"
           }
          ],
          "contourcarpet": [
           {
            "colorbar": {
             "outlinewidth": 0,
             "ticks": ""
            },
            "type": "contourcarpet"
           }
          ],
          "heatmap": [
           {
            "colorbar": {
             "outlinewidth": 0,
             "ticks": ""
            },
            "colorscale": [
             [
              0,
              "#0d0887"
             ],
             [
              0.1111111111111111,
              "#46039f"
             ],
             [
              0.2222222222222222,
              "#7201a8"
             ],
             [
              0.3333333333333333,
              "#9c179e"
             ],
             [
              0.4444444444444444,
              "#bd3786"
             ],
             [
              0.5555555555555556,
              "#d8576b"
             ],
             [
              0.6666666666666666,
              "#ed7953"
             ],
             [
              0.7777777777777778,
              "#fb9f3a"
             ],
             [
              0.8888888888888888,
              "#fdca26"
             ],
             [
              1,
              "#f0f921"
             ]
            ],
            "type": "heatmap"
           }
          ],
          "heatmapgl": [
           {
            "colorbar": {
             "outlinewidth": 0,
             "ticks": ""
            },
            "colorscale": [
             [
              0,
              "#0d0887"
             ],
             [
              0.1111111111111111,
              "#46039f"
             ],
             [
              0.2222222222222222,
              "#7201a8"
             ],
             [
              0.3333333333333333,
              "#9c179e"
             ],
             [
              0.4444444444444444,
              "#bd3786"
             ],
             [
              0.5555555555555556,
              "#d8576b"
             ],
             [
              0.6666666666666666,
              "#ed7953"
             ],
             [
              0.7777777777777778,
              "#fb9f3a"
             ],
             [
              0.8888888888888888,
              "#fdca26"
             ],
             [
              1,
              "#f0f921"
             ]
            ],
            "type": "heatmapgl"
           }
          ],
          "histogram": [
           {
            "marker": {
             "pattern": {
              "fillmode": "overlay",
              "size": 10,
              "solidity": 0.2
             }
            },
            "type": "histogram"
           }
          ],
          "histogram2d": [
           {
            "colorbar": {
             "outlinewidth": 0,
             "ticks": ""
            },
            "colorscale": [
             [
              0,
              "#0d0887"
             ],
             [
              0.1111111111111111,
              "#46039f"
             ],
             [
              0.2222222222222222,
              "#7201a8"
             ],
             [
              0.3333333333333333,
              "#9c179e"
             ],
             [
              0.4444444444444444,
              "#bd3786"
             ],
             [
              0.5555555555555556,
              "#d8576b"
             ],
             [
              0.6666666666666666,
              "#ed7953"
             ],
             [
              0.7777777777777778,
              "#fb9f3a"
             ],
             [
              0.8888888888888888,
              "#fdca26"
             ],
             [
              1,
              "#f0f921"
             ]
            ],
            "type": "histogram2d"
           }
          ],
          "histogram2dcontour": [
           {
            "colorbar": {
             "outlinewidth": 0,
             "ticks": ""
            },
            "colorscale": [
             [
              0,
              "#0d0887"
             ],
             [
              0.1111111111111111,
              "#46039f"
             ],
             [
              0.2222222222222222,
              "#7201a8"
             ],
             [
              0.3333333333333333,
              "#9c179e"
             ],
             [
              0.4444444444444444,
              "#bd3786"
             ],
             [
              0.5555555555555556,
              "#d8576b"
             ],
             [
              0.6666666666666666,
              "#ed7953"
             ],
             [
              0.7777777777777778,
              "#fb9f3a"
             ],
             [
              0.8888888888888888,
              "#fdca26"
             ],
             [
              1,
              "#f0f921"
             ]
            ],
            "type": "histogram2dcontour"
           }
          ],
          "mesh3d": [
           {
            "colorbar": {
             "outlinewidth": 0,
             "ticks": ""
            },
            "type": "mesh3d"
           }
          ],
          "parcoords": [
           {
            "line": {
             "colorbar": {
              "outlinewidth": 0,
              "ticks": ""
             }
            },
            "type": "parcoords"
           }
          ],
          "pie": [
           {
            "automargin": true,
            "type": "pie"
           }
          ],
          "scatter": [
           {
            "fillpattern": {
             "fillmode": "overlay",
             "size": 10,
             "solidity": 0.2
            },
            "type": "scatter"
           }
          ],
          "scatter3d": [
           {
            "line": {
             "colorbar": {
              "outlinewidth": 0,
              "ticks": ""
             }
            },
            "marker": {
             "colorbar": {
              "outlinewidth": 0,
              "ticks": ""
             }
            },
            "type": "scatter3d"
           }
          ],
          "scattercarpet": [
           {
            "marker": {
             "colorbar": {
              "outlinewidth": 0,
              "ticks": ""
             }
            },
            "type": "scattercarpet"
           }
          ],
          "scattergeo": [
           {
            "marker": {
             "colorbar": {
              "outlinewidth": 0,
              "ticks": ""
             }
            },
            "type": "scattergeo"
           }
          ],
          "scattergl": [
           {
            "marker": {
             "colorbar": {
              "outlinewidth": 0,
              "ticks": ""
             }
            },
            "type": "scattergl"
           }
          ],
          "scattermapbox": [
           {
            "marker": {
             "colorbar": {
              "outlinewidth": 0,
              "ticks": ""
             }
            },
            "type": "scattermapbox"
           }
          ],
          "scatterpolar": [
           {
            "marker": {
             "colorbar": {
              "outlinewidth": 0,
              "ticks": ""
             }
            },
            "type": "scatterpolar"
           }
          ],
          "scatterpolargl": [
           {
            "marker": {
             "colorbar": {
              "outlinewidth": 0,
              "ticks": ""
             }
            },
            "type": "scatterpolargl"
           }
          ],
          "scatterternary": [
           {
            "marker": {
             "colorbar": {
              "outlinewidth": 0,
              "ticks": ""
             }
            },
            "type": "scatterternary"
           }
          ],
          "surface": [
           {
            "colorbar": {
             "outlinewidth": 0,
             "ticks": ""
            },
            "colorscale": [
             [
              0,
              "#0d0887"
             ],
             [
              0.1111111111111111,
              "#46039f"
             ],
             [
              0.2222222222222222,
              "#7201a8"
             ],
             [
              0.3333333333333333,
              "#9c179e"
             ],
             [
              0.4444444444444444,
              "#bd3786"
             ],
             [
              0.5555555555555556,
              "#d8576b"
             ],
             [
              0.6666666666666666,
              "#ed7953"
             ],
             [
              0.7777777777777778,
              "#fb9f3a"
             ],
             [
              0.8888888888888888,
              "#fdca26"
             ],
             [
              1,
              "#f0f921"
             ]
            ],
            "type": "surface"
           }
          ],
          "table": [
           {
            "cells": {
             "fill": {
              "color": "#EBF0F8"
             },
             "line": {
              "color": "white"
             }
            },
            "header": {
             "fill": {
              "color": "#C8D4E3"
             },
             "line": {
              "color": "white"
             }
            },
            "type": "table"
           }
          ]
         },
         "layout": {
          "annotationdefaults": {
           "arrowcolor": "#2a3f5f",
           "arrowhead": 0,
           "arrowwidth": 1
          },
          "autotypenumbers": "strict",
          "coloraxis": {
           "colorbar": {
            "outlinewidth": 0,
            "ticks": ""
           }
          },
          "colorscale": {
           "diverging": [
            [
             0,
             "#8e0152"
            ],
            [
             0.1,
             "#c51b7d"
            ],
            [
             0.2,
             "#de77ae"
            ],
            [
             0.3,
             "#f1b6da"
            ],
            [
             0.4,
             "#fde0ef"
            ],
            [
             0.5,
             "#f7f7f7"
            ],
            [
             0.6,
             "#e6f5d0"
            ],
            [
             0.7,
             "#b8e186"
            ],
            [
             0.8,
             "#7fbc41"
            ],
            [
             0.9,
             "#4d9221"
            ],
            [
             1,
             "#276419"
            ]
           ],
           "sequential": [
            [
             0,
             "#0d0887"
            ],
            [
             0.1111111111111111,
             "#46039f"
            ],
            [
             0.2222222222222222,
             "#7201a8"
            ],
            [
             0.3333333333333333,
             "#9c179e"
            ],
            [
             0.4444444444444444,
             "#bd3786"
            ],
            [
             0.5555555555555556,
             "#d8576b"
            ],
            [
             0.6666666666666666,
             "#ed7953"
            ],
            [
             0.7777777777777778,
             "#fb9f3a"
            ],
            [
             0.8888888888888888,
             "#fdca26"
            ],
            [
             1,
             "#f0f921"
            ]
           ],
           "sequentialminus": [
            [
             0,
             "#0d0887"
            ],
            [
             0.1111111111111111,
             "#46039f"
            ],
            [
             0.2222222222222222,
             "#7201a8"
            ],
            [
             0.3333333333333333,
             "#9c179e"
            ],
            [
             0.4444444444444444,
             "#bd3786"
            ],
            [
             0.5555555555555556,
             "#d8576b"
            ],
            [
             0.6666666666666666,
             "#ed7953"
            ],
            [
             0.7777777777777778,
             "#fb9f3a"
            ],
            [
             0.8888888888888888,
             "#fdca26"
            ],
            [
             1,
             "#f0f921"
            ]
           ]
          },
          "colorway": [
           "#636efa",
           "#EF553B",
           "#00cc96",
           "#ab63fa",
           "#FFA15A",
           "#19d3f3",
           "#FF6692",
           "#B6E880",
           "#FF97FF",
           "#FECB52"
          ],
          "font": {
           "color": "#2a3f5f"
          },
          "geo": {
           "bgcolor": "white",
           "lakecolor": "white",
           "landcolor": "#E5ECF6",
           "showlakes": true,
           "showland": true,
           "subunitcolor": "white"
          },
          "hoverlabel": {
           "align": "left"
          },
          "hovermode": "closest",
          "mapbox": {
           "style": "light"
          },
          "paper_bgcolor": "white",
          "plot_bgcolor": "#E5ECF6",
          "polar": {
           "angularaxis": {
            "gridcolor": "white",
            "linecolor": "white",
            "ticks": ""
           },
           "bgcolor": "#E5ECF6",
           "radialaxis": {
            "gridcolor": "white",
            "linecolor": "white",
            "ticks": ""
           }
          },
          "scene": {
           "xaxis": {
            "backgroundcolor": "#E5ECF6",
            "gridcolor": "white",
            "gridwidth": 2,
            "linecolor": "white",
            "showbackground": true,
            "ticks": "",
            "zerolinecolor": "white"
           },
           "yaxis": {
            "backgroundcolor": "#E5ECF6",
            "gridcolor": "white",
            "gridwidth": 2,
            "linecolor": "white",
            "showbackground": true,
            "ticks": "",
            "zerolinecolor": "white"
           },
           "zaxis": {
            "backgroundcolor": "#E5ECF6",
            "gridcolor": "white",
            "gridwidth": 2,
            "linecolor": "white",
            "showbackground": true,
            "ticks": "",
            "zerolinecolor": "white"
           }
          },
          "shapedefaults": {
           "line": {
            "color": "#2a3f5f"
           }
          },
          "ternary": {
           "aaxis": {
            "gridcolor": "white",
            "linecolor": "white",
            "ticks": ""
           },
           "baxis": {
            "gridcolor": "white",
            "linecolor": "white",
            "ticks": ""
           },
           "bgcolor": "#E5ECF6",
           "caxis": {
            "gridcolor": "white",
            "linecolor": "white",
            "ticks": ""
           }
          },
          "title": {
           "x": 0.05
          },
          "xaxis": {
           "automargin": true,
           "gridcolor": "white",
           "linecolor": "white",
           "ticks": "",
           "title": {
            "standoff": 15
           },
           "zerolinecolor": "white",
           "zerolinewidth": 2
          },
          "yaxis": {
           "automargin": true,
           "gridcolor": "white",
           "linecolor": "white",
           "ticks": "",
           "title": {
            "standoff": 15
           },
           "zerolinecolor": "white",
           "zerolinewidth": 2
          }
         }
        },
        "title": {
         "text": "Time Complexity Comparison with Boundaries"
        },
        "xaxis": {
         "range": [
          1,
          100
         ],
         "title": {
          "text": "Input Size"
         }
        },
        "yaxis": {
         "range": [
          1,
          100
         ],
         "title": {
          "text": "Time Complexity"
         }
        }
       }
      }
     },
     "metadata": {},
     "output_type": "display_data"
    }
   ],
   "source": [
    "# Input size\n",
    "x = np.linspace(1, 1000, 100)\n",
    "\n",
    "# Time complexities\n",
    "y1 = np.ones_like(x)  # O(1)\n",
    "y2 = x  # O(n)\n",
    "y3 = np.log(x)  # O(log(n))\n",
    "y4 = x * np.log(x)  # O(n*log(n))\n",
    "y5 = x**2  # O(n^2)\n",
    "y6 = 2**x  # O(2^n)\n",
    "\n",
    "# Calculate midpoints\n",
    "midpoints = [(y1 + y2) / 2, (y2 + y3) / 2, (y3 + y4) / 2, (y4 + y5) / 2, (y5 + y6) / 2]\n",
    "\n",
    "# Create traces\n",
    "trace1 = go.Scatter(x=x, y=y1, mode='lines', name='O(1)', fill='tozeroy')\n",
    "trace2 = go.Scatter(x=x, y=y2, mode='lines', name='O(n)', fill='tozeroy')\n",
    "trace3 = go.Scatter(x=x, y=y3, mode='lines', name='O(log(n))', fill='tozeroy')\n",
    "trace4 = go.Scatter(x=x, y=y4, mode='lines', name='O(n*log(n))', fill='tozeroy')\n",
    "trace5 = go.Scatter(x=x, y=y5, mode='lines', name='O(n^2)', fill='tozeroy')\n",
    "trace6 = go.Scatter(x=x, y=y6, mode='lines', name='O(2^n)', fill='tozeroy')\n",
    "\n",
    "# Create colors\n",
    "c1 = 'rgba(0, 0, 255, 0.1)'\n",
    "c2 = 'rgba(255, 0, 0, 0.1)'\n",
    "c3 = 'rgba(0, 255, 0, 0.1)'\n",
    "c4 = 'rgba(255, 0, 255, 0.1)'\n",
    "c5 = 'rgba(255, 255, 0, 0.1)'\n",
    "# Create boundary traces\n",
    "boundary_trace1 = go.Scatter(x=x, y=midpoints[0], mode='lines', name='Boundary', fill='tozeroy', fillcolor=c1)\n",
    "boundary_trace2 = go.Scatter(x=x, y=midpoints[1], mode='lines', name='Boundary', fill='tozeroy', fillcolor=c2)\n",
    "boundary_trace3 = go.Scatter(x=x, y=midpoints[2], mode='lines', name='Boundary', fill='tozeroy', fillcolor=c3)\n",
    "boundary_trace4 = go.Scatter(x=x, y=midpoints[3], mode='lines', name='Boundary', fill='tozeroy', fillcolor=c4)\n",
    "boundary_trace5 = go.Scatter(x=x, y=midpoints[4], mode='lines', name='Boundary', fill='tozeroy', fillcolor=c5)\n",
    "\n",
    "# Layout\n",
    "layout = go.Layout(\n",
    "    title='Time Complexity Comparison with Boundaries',\n",
    "    xaxis=dict(title='Input Size', range=[1, 100]),\n",
    "    yaxis=dict(title='Time Complexity', range=[1, 100]),\n",
    ")\n",
    "\n",
    "# Create figure and add traces\n",
    "fig = go.Figure(data=[boundary_trace1, boundary_trace2, boundary_trace3, boundary_trace4,\n",
    "                      trace1, trace2, trace3, trace4, trace5, trace6,],layout=layout)\n",
    "\n",
    "# Show the figure\n",
    "fig.show()"
   ]
  }
 ],
 "metadata": {
  "kernelspec": {
   "display_name": "Python 3",
   "language": "python",
   "name": "python3"
  },
  "language_info": {
   "codemirror_mode": {
    "name": "ipython",
    "version": 3
   },
   "file_extension": ".py",
   "mimetype": "text/x-python",
   "name": "python",
   "nbconvert_exporter": "python",
   "pygments_lexer": "ipython3",
   "version": "3.10.7"
  },
  "orig_nbformat": 4
 },
 "nbformat": 4,
 "nbformat_minor": 2
}
