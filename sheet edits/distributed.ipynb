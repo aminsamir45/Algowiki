{
 "cells": [
  {
   "cell_type": "code",
   "execution_count": 16,
   "metadata": {},
   "outputs": [],
   "source": [
    "import pandas as pd\n",
    "import gspread\n",
    "from oauth2client.service_account import ServiceAccountCredentials\n",
    "import re\n",
    "\n",
    "#Authorize the API\n",
    "scope = [\n",
    "    'https://www.googleapis.com/auth/drive',\n",
    "    'https://www.googleapis.com/auth/drive.file'\n",
    "    ]\n",
    "file_name = 'credential.json'\n",
    "creds = ServiceAccountCredentials.from_json_keyfile_name(file_name,scope)\n",
    "client = gspread.authorize(creds)"
   ]
  },
  {
   "cell_type": "code",
   "execution_count": 15,
   "metadata": {},
   "outputs": [
    {
     "data": {
      "text/plain": [
       "Index(['Old Family #', 'Family Name', 'Looked at?', 'Variation', 'Algo ID',\n",
       "       'Algorithm Description', 'Final Call', 'Exact Problem Statement?',\n",
       "       'Exact?', 'Time Complexity (Average)', 'Average Case Distribution',\n",
       "       'Reference?', '', 'Algorithm Name', 'Year', 'Paper/Reference Link',\n",
       "       'Constants', 'Derived?', 'Paper Reference for Constants',\n",
       "       'Time Complexity Improvement?', 'Transition Class',\n",
       "       'Time Complexity Class', 'Param: Time Class', 'Total Communication',\n",
       "       'Units of Communication (eg messages vs bits)', 'Total Comm Refrence',\n",
       "       'Communication Rounds', 'Rounds Refrence',\n",
       "       'Computation Time Complexity', 'Time Refrence', 'Parameter definitions',\n",
       "       'Preferred Parameter', 'Computational Model',\n",
       "       'Asynchronous or Scyncronous?', 'Randomized?',\n",
       "       'Type of Randomized Algorithm (e.g. Las Vegas, Monte Carlo, Atlantic City)',\n",
       "       'Approximate?', 'Approximation Factor (if approximate algorithm)',\n",
       "       'Lower Bound Runtime', 'Lower Bound Reference', 'Heuristic-based?',\n",
       "       'Quantum?', 'GPU-based?', 'Other References',\n",
       "       'Algorithm family\\nparameters', 'Description of Inputs',\n",
       "       'Upper Bound Runtime', 'Ratios of input parameter sizes',\n",
       "       'Space n = 1000 value', 'Space n = 1000 rate', 'Space n = 10^6 value',\n",
       "       'Space n = 10^6 rate', 'Space n = 10^9 value', 'Space n = 10^9 rate',\n",
       "       'n = 1000 value', 'n = 1000 scale', 'n = 1000 Rate', 'n = 10^6 value',\n",
       "       'n = 10^6 scale', 'n = 10^6 Rate', 'n = 10^9 value', 'n = 10^9 scale',\n",
       "       'n = 10^9 Rate', 'Starting Complexity', 'Remarks', 'Domains'],\n",
       "      dtype='object')"
      ]
     },
     "execution_count": 15,
     "metadata": {},
     "output_type": "execute_result"
    }
   ],
   "source": [
    "sheet = client.open('AlgoWiki algorithms (our copy)').worksheet('Distributed Algorithms')\n",
    "df = pd.DataFrame(sheet.get_all_records())\n",
    "df.columns\n",
    "# pp = pprint.PrettyPrinter()\n",
    "# pp.pprint(python_sheet)"
   ]
  },
  {
   "attachments": {},
   "cell_type": "markdown",
   "metadata": {},
   "source": [
    "Given the Dataframe, and a list of algorithms and it's details, add a new row into the sheet  "
   ]
  },
  {
   "cell_type": "code",
   "execution_count": null,
   "metadata": {},
   "outputs": [],
   "source": [
    "# Here is an example of what to process: \n",
    "# Cannon's Algorithm:\n",
    "\n",
    "# Description: A widely used algorithm for distributed matrix multiplication.\n",
    "# Communication Model: Message-passing.\n",
    "# Rounds: O(sqrt(p)), where p is the number of processes.\n",
    "# Time Complexity: O(n^3 / p + sqrt(p) * n^2).\n",
    "# Computational Model: Synchronous.\n",
    "# Lower Bound: Ω(n^3 / p + sqrt(p) * n^2).\n",
    "# Approximation/Randomized: Deterministic.\n",
    "# Citation: Cannon, L. (1969). A cellular computer to implement the Kalman filter algorithm. In Proceedings of the IEEE 1970 International Conference on Acoustics, Speech, and Signal Processing (ICASSP) (pp. 65-71).\n",
    "# SUMMA (Scalable Universal Matrix Multiplication Algorithm):\n",
    "\n",
    "# Description: Designed for high-performance distributed matrix multiplication.\n",
    "# Communication Model: Message-passing.\n",
    "# Rounds: O(log(p)), where p is the number of processes.\n",
    "# Time Complexity: O(n^3 / p + log(p) * n^2).\n",
    "# Computational Model: Synchronous.\n",
    "# Lower Bound: Ω(n^3 / p + log(p) * n^2).\n",
    "# Approximation/Randomized: Deterministic.\n",
    "# Citation: Coppersmith, D., & Winograd, S. (1990). Matrix multiplication via arithmetic progressions. Journal of Symbolic Computation, 9(3), 251-280."
   ]
  },
  {
   "cell_type": "code",
   "execution_count": 41,
   "metadata": {},
   "outputs": [
    {
     "ename": "SyntaxError",
     "evalue": "unterminated string literal (detected at line 1) (2316359811.py, line 1)",
     "output_type": "error",
     "traceback": [
      "\u001b[0;36m  Cell \u001b[0;32mIn[41], line 1\u001b[0;36m\u001b[0m\n\u001b[0;31m    Family Name: Cannon's Algorithm.\u001b[0m\n\u001b[0m                       ^\u001b[0m\n\u001b[0;31mSyntaxError\u001b[0m\u001b[0;31m:\u001b[0m unterminated string literal (detected at line 1)\n"
     ]
    }
   ],
   "source": [
    "Family Name: Cannon's Algorithm.\n",
    "\n",
    "Description: A classic algorithm for distributed matrix multiplication on a grid architecture. It partitions matrices into blocks and performs cyclic shifts for communication.\n",
    "Communication: Each processor sends and receives data in a cyclic manner.\n",
    "Rounds: O(sqrt(p)) rounds, where p is the number of processors.\n",
    "Computational Time Complexity: O(n^3/p), where n is the matrix dimension.\n",
    "Parameter Definitions: Grid dimensions (p x p) and matrix dimension (n x n).\n",
    "Synchronous/Asynchronous: Synchronous.\n",
    "Lower Bound: Ω(n^3/p) in a message-passing model.\n",
    "Family Name: SUMMA (Scalable Universal Matrix Multiplication Algorithm).\n",
    "\n",
    "Description: A communication-optimal algorithm for distributed matrix multiplication. It uses a 2D grid and combines row-wise and column-wise broadcasts.\n",
    "Communication: Uses a combination of row-wise and column-wise broadcasts.\n",
    "Rounds: O(log(p)) rounds, where p is the number of processors.\n",
    "Computational Time Complexity: O(n^3/p), where n is the matrix dimension.\n",
    "Parameter Definitions: Grid dimensions (p x p) and matrix dimension (n x n).\n",
    "Synchronous/Asynchronous: Synchronous.\n",
    "Lower Bound: Ω(n^3/p) in a message-passing model."
   ]
  },
  {
   "cell_type": "code",
   "execution_count": null,
   "metadata": {},
   "outputs": [],
   "source": []
  },
  {
   "cell_type": "code",
   "execution_count": 46,
   "metadata": {},
   "outputs": [],
   "source": [
    "string = \"Family Name: Cannon's Algorithm. Description: A classic algorithm for distributed matrix multiplication on a grid architecture It partitions matrices into blocks and performs cyclic shifts for communication. Communication: Each processor sends and receives data in a cyclic manner. Rounds: O(sqrt(p)) rounds, where p is the number of processors. Computational Time Complexity: O(n^3/p), where n is the matrix dimension. Parameter Definitions: Grid dimensions (p x p) and matrix dimension (n x n). Synchronous/Asynchronous: Synchronous. Lower Bound: Ω(n^3/p) in a message-passing model. Family Name: SUMMA (Scalable Universal Matrix Multiplication Algorithm). Description: A communication-optimal algorithm for distributed matrix multiplication It uses a 2D grid and combines row-wise and column-wise broadcasts. Communication: Uses a combination of row-wise and column-wise broadcasts. Rounds: O(log(p)) rounds, where p is the number of processors. Computational Time Complexity: O(n^3/p), where n is the matrix dimension. Parameter Definitions: Grid dimensions (p x p) and matrix dimension (n x n). Synchronous/Asynchronous: Synchronous. Lower Bound: Ω(n^3/p) in a message-passing model.\""
   ]
  },
  {
   "cell_type": "code",
   "execution_count": 47,
   "metadata": {},
   "outputs": [
    {
     "data": {
      "text/plain": [
       "[\"Family Name: Cannon's Algorithm.\",\n",
       " 'Description: A classic algorithm for distributed matrix multiplication on a grid architecture It partitions matrices into blocks and performs cyclic shifts for communication.',\n",
       " 'Communication: Each processor sends and receives data in a cyclic manner.',\n",
       " 'Rounds: O(sqrt(p)) rounds, where p is the number of processors.',\n",
       " 'Computational Time Complexity: O(n^3/p), where n is the matrix dimension.',\n",
       " 'Parameter Definitions: Grid dimensions (p x p) and matrix dimension (n x n).',\n",
       " 'Synchronous/Asynchronous: Synchronous.',\n",
       " 'Lower Bound: Ω(n^3/p) in a message-passing model.',\n",
       " 'Family Name: SUMMA (Scalable Universal Matrix Multiplication Algorithm).',\n",
       " 'Description: A communication-optimal algorithm for distributed matrix multiplication It uses a 2D grid and combines row-wise and column-wise broadcasts.',\n",
       " 'Communication: Uses a combination of row-wise and column-wise broadcasts.',\n",
       " 'Rounds: O(log(p)) rounds, where p is the number of processors.',\n",
       " 'Computational Time Complexity: O(n^3/p), where n is the matrix dimension.',\n",
       " 'Parameter Definitions: Grid dimensions (p x p) and matrix dimension (n x n).',\n",
       " 'Synchronous/Asynchronous: Synchronous.',\n",
       " 'Lower Bound: Ω(n^3/p) in a message-passing model.']"
      ]
     },
     "execution_count": 47,
     "metadata": {},
     "output_type": "execute_result"
    }
   ],
   "source": [
    "algorithm_sections = re.split(r'(?<=\\.)\\s+', string)\n",
    "algorithm_sections\n",
    "# string\n"
   ]
  },
  {
   "cell_type": "code",
   "execution_count": 48,
   "metadata": {},
   "outputs": [
    {
     "name": "stderr",
     "output_type": "stream",
     "text": [
      "/var/folders/wg/bqtpsjds1p16_p2clkzkw5d80000gn/T/ipykernel_14775/2742351688.py:8: FutureWarning: The frame.append method is deprecated and will be removed from pandas in a future version. Use pandas.concat instead.\n",
      "  df = df.append(algorithm_data, ignore_index=True)\n",
      "/var/folders/wg/bqtpsjds1p16_p2clkzkw5d80000gn/T/ipykernel_14775/2742351688.py:8: FutureWarning: The frame.append method is deprecated and will be removed from pandas in a future version. Use pandas.concat instead.\n",
      "  df = df.append(algorithm_data, ignore_index=True)\n",
      "/var/folders/wg/bqtpsjds1p16_p2clkzkw5d80000gn/T/ipykernel_14775/2742351688.py:8: FutureWarning: The frame.append method is deprecated and will be removed from pandas in a future version. Use pandas.concat instead.\n",
      "  df = df.append(algorithm_data, ignore_index=True)\n",
      "/var/folders/wg/bqtpsjds1p16_p2clkzkw5d80000gn/T/ipykernel_14775/2742351688.py:8: FutureWarning: The frame.append method is deprecated and will be removed from pandas in a future version. Use pandas.concat instead.\n",
      "  df = df.append(algorithm_data, ignore_index=True)\n",
      "/var/folders/wg/bqtpsjds1p16_p2clkzkw5d80000gn/T/ipykernel_14775/2742351688.py:8: FutureWarning: The frame.append method is deprecated and will be removed from pandas in a future version. Use pandas.concat instead.\n",
      "  df = df.append(algorithm_data, ignore_index=True)\n",
      "/var/folders/wg/bqtpsjds1p16_p2clkzkw5d80000gn/T/ipykernel_14775/2742351688.py:8: FutureWarning: The frame.append method is deprecated and will be removed from pandas in a future version. Use pandas.concat instead.\n",
      "  df = df.append(algorithm_data, ignore_index=True)\n",
      "/var/folders/wg/bqtpsjds1p16_p2clkzkw5d80000gn/T/ipykernel_14775/2742351688.py:8: FutureWarning: The frame.append method is deprecated and will be removed from pandas in a future version. Use pandas.concat instead.\n",
      "  df = df.append(algorithm_data, ignore_index=True)\n",
      "/var/folders/wg/bqtpsjds1p16_p2clkzkw5d80000gn/T/ipykernel_14775/2742351688.py:8: FutureWarning: The frame.append method is deprecated and will be removed from pandas in a future version. Use pandas.concat instead.\n",
      "  df = df.append(algorithm_data, ignore_index=True)\n",
      "/var/folders/wg/bqtpsjds1p16_p2clkzkw5d80000gn/T/ipykernel_14775/2742351688.py:8: FutureWarning: The frame.append method is deprecated and will be removed from pandas in a future version. Use pandas.concat instead.\n",
      "  df = df.append(algorithm_data, ignore_index=True)\n",
      "/var/folders/wg/bqtpsjds1p16_p2clkzkw5d80000gn/T/ipykernel_14775/2742351688.py:8: FutureWarning: The frame.append method is deprecated and will be removed from pandas in a future version. Use pandas.concat instead.\n",
      "  df = df.append(algorithm_data, ignore_index=True)\n",
      "/var/folders/wg/bqtpsjds1p16_p2clkzkw5d80000gn/T/ipykernel_14775/2742351688.py:8: FutureWarning: The frame.append method is deprecated and will be removed from pandas in a future version. Use pandas.concat instead.\n",
      "  df = df.append(algorithm_data, ignore_index=True)\n",
      "/var/folders/wg/bqtpsjds1p16_p2clkzkw5d80000gn/T/ipykernel_14775/2742351688.py:8: FutureWarning: The frame.append method is deprecated and will be removed from pandas in a future version. Use pandas.concat instead.\n",
      "  df = df.append(algorithm_data, ignore_index=True)\n",
      "/var/folders/wg/bqtpsjds1p16_p2clkzkw5d80000gn/T/ipykernel_14775/2742351688.py:8: FutureWarning: The frame.append method is deprecated and will be removed from pandas in a future version. Use pandas.concat instead.\n",
      "  df = df.append(algorithm_data, ignore_index=True)\n",
      "/var/folders/wg/bqtpsjds1p16_p2clkzkw5d80000gn/T/ipykernel_14775/2742351688.py:8: FutureWarning: The frame.append method is deprecated and will be removed from pandas in a future version. Use pandas.concat instead.\n",
      "  df = df.append(algorithm_data, ignore_index=True)\n",
      "/var/folders/wg/bqtpsjds1p16_p2clkzkw5d80000gn/T/ipykernel_14775/2742351688.py:8: FutureWarning: The frame.append method is deprecated and will be removed from pandas in a future version. Use pandas.concat instead.\n",
      "  df = df.append(algorithm_data, ignore_index=True)\n",
      "/var/folders/wg/bqtpsjds1p16_p2clkzkw5d80000gn/T/ipykernel_14775/2742351688.py:8: FutureWarning: The frame.append method is deprecated and will be removed from pandas in a future version. Use pandas.concat instead.\n",
      "  df = df.append(algorithm_data, ignore_index=True)\n"
     ]
    }
   ],
   "source": [
    "def preprocess_data(df, algorithm_sections):\n",
    "    for section in algorithm_sections:\n",
    "        algorithm_data = {}\n",
    "        lines = section.split('\\n')\n",
    "        for line in lines:\n",
    "            key, value = map(str.strip, line.split(':'))\n",
    "            algorithm_data[key] = value\n",
    "        df = df.append(algorithm_data, ignore_index=True)\n",
    "    return df\n",
    "\n",
    "df = preprocess_data(df, algorithm_sections)\n",
    "    "
   ]
  }
 ],
 "metadata": {
  "kernelspec": {
   "display_name": "Python 3",
   "language": "python",
   "name": "python3"
  },
  "language_info": {
   "codemirror_mode": {
    "name": "ipython",
    "version": 3
   },
   "file_extension": ".py",
   "mimetype": "text/x-python",
   "name": "python",
   "nbconvert_exporter": "python",
   "pygments_lexer": "ipython3",
   "version": "3.10.0"
  },
  "orig_nbformat": 4
 },
 "nbformat": 4,
 "nbformat_minor": 2
}
